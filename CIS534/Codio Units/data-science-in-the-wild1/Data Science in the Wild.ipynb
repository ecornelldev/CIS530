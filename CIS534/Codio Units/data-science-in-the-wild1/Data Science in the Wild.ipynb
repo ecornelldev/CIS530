{
 "cells": [
  {
   "cell_type": "markdown",
   "metadata": {
    "nbgrader": {
     "grade": false,
     "grade_id": "cell-adcd3e653f734bce",
     "locked": true,
     "schema_version": 1,
     "solution": false
    }
   },
   "source": [
    "<h2>About this Project</h2>\n",
    "<p>In this project, you will implement a regression tree that predicts the severity of a patient's heart disease based on a set of attributes. The training data is in <code>heart_disease_train.csv</code> and the test data is in <code>heart_disease_test.csv</code>. Before we start, take a look at the two csv files and  <code>attribute.txt</code>, which contains a description of each attribute in the csv files.</p>\n",
    "\n",
    "<h3>Evaluation</h3>\n",
    "\n",
    "<p>You are expected to write code where you see <em># YOUR CODE HERE</em> within the cells of this notebook. Upon submitting your work, the code you write at these designated positions will be assessed using an \"autograder\" that will run a series of tests on your code. You will receive instant feedback from the autograder that will identify issues with and errors in your code. Use this feedback to improve your code if you need to resubmit. Be sure not to change the names of any provided functions, classes, or variables within the existing code cells, as this will interfere with the autograder. Also, remember to execute all code cells, not just those you’ve edited, to ensure the code runs properly.</p>\n",
    "    \n",
    "<p>You can resubmit your work as many times as necessary before the submission deadline. If you experience difficulty or have questions about this exercise, use the Q&A discussion board to engage with your peers or seek assistance from the instructor.<p>\n",
    "\n",
    "<p><strong>This exercise must be successfully completed in order to receive credit for this course.</strong><p>\n",
    "\n",
    "<p>Before starting your work, please review <a href=\"https://s3.amazonaws.com/ecornell/global/eCornellPlagiarismPolicy.pdf\">eCornell's policy regarding plagiarism</a> (the presentation of someone else's work as your own without source credit).</p>\n",
    "\n",
    "<h3>Submit Code for Autograder/Instructor Feedback</h3>\n",
    "\n",
    "<p>Once you have completed your work on this notebook, you will submit your code for autograder/instructor review. Follow these steps:</p>\n",
    "\n",
    "<ol>\n",
    "<li>Save your notebook. Though the system should automatically save your progress, you should ensure the latest version of your work is saved before submitting. </li>\n",
    "  <li>In the blue menu bar along the top of the code exercise window, you’ll see a menu item called <strong>Education</strong>. In the <strong>Education</strong> menu, click <strong>Mark as Completed</strong> to submit your code for autograder/instructor review. This process will take a moment and a progress bar will show you the status of your submission.</li>\n",
    "\t<li>Once your work is marked as complete, the results of the autograder will automatically be presented in a new tab within the code exercise window. You can click on the assessment name in this feedback window to see more details regarding specific feedback/errors in your code submission.</li>\n",
    "  <li>The Jupyter notebook will always remain accessible in the first tabbed window of the exercise. To reattempt the work, you will first need to click <strong>Mark as Uncompleted</strong> in the <strong>Education</strong> menu and then proceed to make edits to the notebook. Once you are ready to resubmit, follow steps one through three. You can repeat this procedure as many times as necessary.</li>\n",
    "</ol>"
   ]
  },
  {
   "cell_type": "markdown",
   "metadata": {
    "nbgrader": {
     "grade": false,
     "grade_id": "cell-a388de7633cd305a",
     "locked": true,
     "schema_version": 1,
     "solution": false
    }
   },
   "source": [
    "## Getting Started"
   ]
  },
  {
   "cell_type": "code",
   "execution_count": 1,
   "metadata": {
    "nbgrader": {
     "grade": false,
     "grade_id": "cell-e9e10d01c7b253bf",
     "locked": true,
     "schema_version": 1,
     "solution": false
    }
   },
   "outputs": [
    {
     "name": "stdout",
     "output_type": "stream",
     "text": [
      "3.7.0 (default, Jun 28 2018, 07:39:16) \n",
      "[Clang 4.0.1 (tags/RELEASE_401/final)]\n"
     ]
    }
   ],
   "source": [
    "import numpy as np\n",
    "import matplotlib.pyplot as plt\n",
    "import sys\n",
    "\n",
    "sys.path.append('/home/codio/workspace/.guides/hf')\n",
    "from helper import *\n",
    "\n",
    "%matplotlib inline\n",
    "print(sys.version)"
   ]
  },
  {
   "cell_type": "markdown",
   "metadata": {
    "nbgrader": {
     "grade": false,
     "grade_id": "cell-91646b69c3bc1e6f",
     "locked": true,
     "schema_version": 1,
     "solution": false
    }
   },
   "source": [
    "## Implement a Regression Tree\n",
    "\n",
    "### Part One [Graded]\n",
    "\n",
    "Now, implement a function called <code>load_data</code>, which will load the given <code>.csv</code> file and return <code>X, y</code> where <code>X</code> are the patients' attributes and <code>y</code> is the severity of the patients' heart disease."
   ]
  },
  {
   "cell_type": "code",
   "execution_count": 2,
   "metadata": {
    "nbgrader": {
     "grade": false,
     "grade_id": "cell-load_data",
     "locked": false,
     "schema_version": 1,
     "solution": true
    }
   },
   "outputs": [],
   "source": [
    "def load_data(file='heart_disease_train.csv', label=True):\n",
    "    '''\n",
    "    Input:\n",
    "        file: filename of the dataset\n",
    "        label: a boolean to decide whether to return the labels or not\n",
    "    Returns:\n",
    "        X: patient attributes\n",
    "        y: severity\n",
    "    '''\n",
    "    X = None\n",
    "    y = None\n",
    "    ### BEGIN SOLUTION\n",
    "    with open(file) as f:\n",
    "        columns = f.readline().rstrip().split(',')\n",
    "        df = {i: [] for i in columns}\n",
    "        \n",
    "        for i in f.readlines():\n",
    "            for ind_j, j in enumerate(i.rstrip().split(',')):\n",
    "                df[columns[ind_j]].append(float(j))\n",
    "    \n",
    "    \n",
    "    if label:\n",
    "        y = np.array(df['label'])\n",
    "        columns.remove('label')\n",
    "        X = np.vstack([df[i] for i in columns]).T\n",
    "        return X, y\n",
    "    else:\n",
    "        X = np.vstack([df[i] for i in columns]).T\n",
    "        return X\n",
    "    ### END SOLUTION"
   ]
  },
  {
   "cell_type": "code",
   "execution_count": 3,
   "metadata": {
    "nbgrader": {
     "grade": false,
     "grade_id": "cell-a4ad4015d5024026",
     "locked": true,
     "schema_version": 1,
     "solution": false
    }
   },
   "outputs": [],
   "source": [
    "X, y = load_data()"
   ]
  },
  {
   "cell_type": "code",
   "execution_count": 6,
   "metadata": {
    "nbgrader": {
     "grade": true,
     "grade_id": "cell-load_data_selftest",
     "locked": true,
     "points": 4,
     "schema_version": 1,
     "solution": false
    }
   },
   "outputs": [
    {
     "name": "stdout",
     "output_type": "stream",
     "text": [
      "Running Test: load_data_test1 ... ✔ Passed!\n",
      "Running Test: load_data_test2 ... ✔ Passed!\n",
      "Running Test: load_data_test3 ... ✔ Passed!\n",
      "Running Test: load_data_test4 ... ✔ Passed!\n"
     ]
    }
   ],
   "source": [
    "# The following tests check that your load_data function reads in the correct number of rows, the correct number of unique values for y, and the same training data as the correct implementation\n",
    "\n",
    "Xtrain, ytrain = load_data()\n",
    "Xtrain_grader, ytrain_grader = load_data_grader()\n",
    "Xtest = load_data(file='heart_disease_test.csv', label=False)\n",
    "\n",
    "def load_data_test1():\n",
    "    return (len(Xtrain) == len(ytrain))\n",
    "\n",
    "def load_data_test2():\n",
    "    return (len(Xtrain) == len(Xtrain_grader))\n",
    "\n",
    "def load_data_test3():\n",
    "    y_unique = np.sort(np.unique(ytrain))\n",
    "    y_grader_unique = np.sort(np.unique(ytrain_grader))\n",
    "    \n",
    "    if len(y_unique) != len(y_grader_unique):\n",
    "        return False\n",
    "    else:\n",
    "        return np.linalg.norm(y_unique - y_grader_unique) < 1e-7\n",
    "    \n",
    "def load_data_test4():\n",
    "    Xtrain_flatten = np.sort(Xtrain.flatten())\n",
    "    Xtrain_grader_flatten = np.sort(Xtrain_grader.flatten())\n",
    "    return np.linalg.norm(Xtrain_flatten - Xtrain_grader_flatten) < 1e-7\n",
    "\n",
    "runtest(load_data_test1,'load_data_test1')\n",
    "runtest(load_data_test2,'load_data_test2')\n",
    "runtest(load_data_test3,'load_data_test3')\n",
    "runtest(load_data_test4,'load_data_test4')"
   ]
  },
  {
   "cell_type": "code",
   "execution_count": 7,
   "metadata": {
    "nbgrader": {
     "grade": true,
     "grade_id": "cell-load_data_test",
     "locked": true,
     "points": 4,
     "schema_version": 1,
     "solution": false
    }
   },
   "outputs": [],
   "source": [
    "# Autograder test cell - worth 4 points\n",
    "# runs load_data tests\n",
    "### BEGIN HIDDEN TESTS\n",
    "# The following tests check that your load_data function reads in the correct number of rows, the correct number of unique values for y, and the same training data as the correct implementation\n",
    "\n",
    "Xtrain, ytrain = load_data()\n",
    "Xtrain_grader, ytrain_grader = load_data_grader()\n",
    "Xtest = load_data(file='heart_disease_test.csv', label=False)\n",
    "\n",
    "assert (len(Xtrain) == len(ytrain))\n",
    "\n",
    "assert (len(Xtrain) == len(Xtrain_grader))\n",
    "\n",
    "y_unique = np.sort(np.unique(ytrain))\n",
    "y_grader_unique = np.sort(np.unique(ytrain_grader))\n",
    "\n",
    "if len(y_unique) != len(y_grader_unique):\n",
    "    assert False\n",
    "else:\n",
    "    assert np.linalg.norm(y_unique - y_grader_unique) < 1e-7\n",
    "\n",
    "Xtrain_flatten = np.sort(Xtrain.flatten())\n",
    "Xtrain_grader_flatten = np.sort(Xtrain_grader.flatten())\n",
    "assert np.linalg.norm(Xtrain_flatten - Xtrain_grader_flatten) < 1e-7\n",
    "\n",
    "### END HIDDEN TESTS\n",
    "#Autograder cell- do not edit"
   ]
  },
  {
   "cell_type": "markdown",
   "metadata": {
    "nbgrader": {
     "grade": false,
     "grade_id": "cell-469361b5f1f5f4e5",
     "locked": true,
     "schema_version": 1,
     "solution": false
    }
   },
   "source": [
    "Now, you will use the regression tree from the previous assignment for this prediction problem. As a reminder:"
   ]
  },
  {
   "cell_type": "code",
   "execution_count": 8,
   "metadata": {
    "nbgrader": {
     "grade": false,
     "grade_id": "cell-c90887080a238f11",
     "locked": true,
     "schema_version": 1,
     "solution": false
    }
   },
   "outputs": [],
   "source": [
    "# Create a regression with no restriction on its depth\n",
    "# if you want to create a tree of depth k\n",
    "# then call RegressionTree(depth=k)\n",
    "tree = RegressionTree(depth=np.inf)\n",
    "\n",
    "# To fit/train the regression tree\n",
    "tree.fit(X, y)\n",
    "\n",
    "# To use the trained regression tree to make predictions\n",
    "pred = tree.predict(X)"
   ]
  },
  {
   "cell_type": "markdown",
   "metadata": {
    "nbgrader": {
     "grade": false,
     "grade_id": "cell-e422aaa713e45c82",
     "locked": true,
     "schema_version": 1,
     "solution": false
    }
   },
   "source": [
    "### Part Two [Graded]\n",
    "\n",
    "In <code>test</code>, you will find the optimal regression tree for the dataset <code>heart_disease_train.csv</code> and return its prediction on <code>heart_disease_test.csv</code>. You will be evaluated based on <code>square_loss</code>. You will get a full score if the test loss on your classifier is less than 2. You may use any functions that you implemented in the previous project."
   ]
  },
  {
   "cell_type": "code",
   "execution_count": 9,
   "metadata": {
    "nbgrader": {
     "grade": false,
     "grade_id": "cell-11c9465dc6096df3",
     "locked": true,
     "schema_version": 1,
     "solution": false
    }
   },
   "outputs": [],
   "source": [
    "def square_loss(pred, truth):\n",
    "    return np.mean((pred - truth)**2)"
   ]
  },
  {
   "cell_type": "code",
   "execution_count": 12,
   "metadata": {
    "nbgrader": {
     "grade": false,
     "grade_id": "cell-test",
     "locked": false,
     "schema_version": 1,
     "solution": true
    }
   },
   "outputs": [],
   "source": [
    "def test():\n",
    "    '''\n",
    "        prediction: the prediction of your classifier on the heart_disease_test.csv\n",
    "    '''\n",
    "    prediction = None\n",
    "    Xtrain, ytrain = load_data(file='heart_disease_train.csv', label=True)\n",
    "    Xtest = load_data(file='heart_disease_test.csv', label=False)\n",
    "    \n",
    "    ### BEGIN SOLUTION\n",
    "    tree = RegressionTree(depth=2)\n",
    "    tree.fit(Xtrain, ytrain)\n",
    "    \n",
    "    prediction = tree.predict(Xtest)\n",
    "    ### END SOLUTION\n",
    "    return prediction"
   ]
  },
  {
   "cell_type": "code",
   "execution_count": 15,
   "metadata": {
    "nbgrader": {
     "grade": false,
     "grade_id": "cell-test_selftest",
     "locked": true,
     "schema_version": 1,
     "solution": false
    }
   },
   "outputs": [
    {
     "name": "stdout",
     "output_type": "stream",
     "text": [
      "Your test loss: 1.5298\n",
      "Running Test: test_loss_test ... ✔ Passed!\n"
     ]
    }
   ],
   "source": [
    "# The following test wil check that your test function returns a loss less than 2 on a sample dataset\n",
    "\n",
    "gt = np.array([0, 0, 0, 0, 0, 0, 0, 0, 0, 0, 0, 0, 0, 0, 0, 0, 0, 0, 0, 0, 0, 0,\n",
    "       0, 0, 0, 0, 0, 0, 0, 0, 0, 0, 1, 1, 1, 1, 1, 1, 1, 1, 1, 1, 1, 2,\n",
    "       2, 2, 2, 2, 2, 2, 3, 3, 3, 3, 3, 3, 3, 4, 4])\n",
    "\n",
    "pred = test()\n",
    "test_loss = square_loss(pred, gt)\n",
    "print('Your test loss: {:0.4f}'.format(test_loss))\n",
    "\n",
    "def test_loss_test():\n",
    "    return (test_loss < 2.0)\n",
    "\n",
    "runtest(test_loss_test, 'test_loss_test')"
   ]
  },
  {
   "cell_type": "code",
   "execution_count": 14,
   "metadata": {
    "nbgrader": {
     "grade": true,
     "grade_id": "cell-test_test",
     "locked": true,
     "points": 4,
     "schema_version": 1,
     "solution": false
    }
   },
   "outputs": [],
   "source": [
    "# Autograder test cell - worth 4 points\n",
    "# runs test function tests\n",
    "### BEGIN HIDDEN TESTS\n",
    "gt = np.array([0, 0, 0, 0, 0, 0, 0, 0, 0, 0, 0, 0, 0, 0, 0, 0, 0, 0, 0, 0, 0, 0,\n",
    "       0, 0, 0, 0, 0, 0, 0, 0, 0, 0, 1, 1, 1, 1, 1, 1, 1, 1, 1, 1, 1, 2,\n",
    "       2, 2, 2, 2, 2, 2, 3, 3, 3, 3, 3, 3, 3, 4, 4])\n",
    "\n",
    "pred = test()\n",
    "test_loss = square_loss(pred, gt)\n",
    "assert (test_loss < 2.0)\n",
    "### END HIDDEN TESTS\n",
    "#Autograder cell- do not edit"
   ]
  }
 ],
 "metadata": {
  "celltoolbar": "Create Assignment",
  "kernelspec": {
   "display_name": "Python 3",
   "language": "python",
   "name": "python3"
  },
  "language_info": {
   "codemirror_mode": {
    "name": "ipython",
    "version": 3
   },
   "file_extension": ".py",
   "mimetype": "text/x-python",
   "name": "python",
   "nbconvert_exporter": "python",
   "pygments_lexer": "ipython3",
   "version": "3.7.0"
  }
 },
 "nbformat": 4,
 "nbformat_minor": 2
}
