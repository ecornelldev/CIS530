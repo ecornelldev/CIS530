{
 "cells": [
  {
   "cell_type": "markdown",
   "metadata": {},
   "source": [
    "<h1> Reading Data in Python </h1>"
   ]
  },
  {
   "cell_type": "markdown",
   "metadata": {},
   "source": [
    "To load in data, you must first open the external file containing the data needed:"
   ]
  },
  {
   "cell_type": "code",
   "execution_count": 1,
   "metadata": {},
   "outputs": [],
   "source": [
    "filename = 'sample.txt'\n",
    "entries = []\n",
    "# Take a provided filename and open it, calling it 'f'\n",
    "with open(filename, 'r') as f:\n",
    "    # Read each line\n",
    "    for x in f.readlines():\n",
    "        entries.append(x)\n"
   ]
  },
  {
   "cell_type": "markdown",
   "metadata": {},
   "source": [
    "Using the readlines() method, you can parse through each line in a file, assuming that each value of interest is separated by a newline character. The result will look like the following:"
   ]
  },
  {
   "cell_type": "code",
   "execution_count": 2,
   "metadata": {},
   "outputs": [],
   "source": [
    "# ['entry 1\\n', 'entry 2\\n', 'entry 3\\n', 'entry 4\\n', 'entry 5']"
   ]
  },
  {
   "cell_type": "markdown",
   "metadata": {},
   "source": [
    "To remove the trailing newline characters ('\\n'), you can use the rstrip() method before appending:"
   ]
  },
  {
   "cell_type": "code",
   "execution_count": 5,
   "metadata": {},
   "outputs": [],
   "source": [
    "filename = 'sample.txt'\n",
    "entries = []\n",
    "with open(filename, 'r') as f:\n",
    "    for x in f.readlines():\n",
    "        entries.append(x.rstrip())\n",
    "        \n",
    "# entries = ['entry 1', 'entry 2', 'entry 3', 'entry 4', 'entry 5']"
   ]
  },
  {
   "cell_type": "markdown",
   "metadata": {},
   "source": [
    "To even more safely and efficiently construct a vector, you can use the following optimization:"
   ]
  },
  {
   "cell_type": "code",
   "execution_count": 4,
   "metadata": {},
   "outputs": [],
   "source": [
    "filename = 'sample.txt'\n",
    "with open(filename, 'r') as f:\n",
    "    entries = [x.rstrip() for x in f.readlines() if len(x) > 0]\n"
   ]
  }
 ],
 "metadata": {
  "kernelspec": {
   "display_name": "Python 3",
   "language": "python",
   "name": "python3"
  },
  "language_info": {
   "codemirror_mode": {
    "name": "ipython",
    "version": 3
   },
   "file_extension": ".py",
   "mimetype": "text/x-python",
   "name": "python",
   "nbconvert_exporter": "python",
   "pygments_lexer": "ipython3",
   "version": "3.7.3"
  }
 },
 "nbformat": 4,
 "nbformat_minor": 2
}
