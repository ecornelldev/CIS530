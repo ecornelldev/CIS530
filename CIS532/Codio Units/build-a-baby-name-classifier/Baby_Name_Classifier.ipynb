{
 "cells": [
  {
   "cell_type": "markdown",
   "metadata": {
    "nbgrader": {
     "grade": false,
     "grade_id": "cell-3baa72d698526cb5",
     "locked": true,
     "schema_version": 1,
     "solution": false
    }
   },
   "source": [
    "<h2>About this Project</h2>\n",
    "<p>In this project, you will use naive bayes to build a baby name classifier. Your classifier will use the features commonly found in names to distinguish whether a name is likely to be given to a baby girl or boy. You'll train your classifier to identify these certain qualities of names and classify new examples based on those qualities.</p>\n",
    "\n",
    "<h3>Evaluation</h3>\n",
    "\n",
    "<p><strong>This project must be successfully completed and submitted in order to receive credit for this course. Your score on this project will be included in your final grade calculation.</strong><p>\n",
    "    \n",
    "<p>You are expected to write code where you see <em># YOUR CODE HERE</em> within the cells of this notebook. Not all cells will be graded; code input cells followed by cells marked with <em>#Autograder test cell</em> will be graded. Upon submitting your work, the code you write at these designated positions will be assessed using an \"autograder\" that will run all test cells to assess your code. You will receive feedback from the autograder that will identify any errors in your code. Use this feedback to improve your code if you need to resubmit. Be sure not to change the names of any provided functions, classes, or variables within the existing code cells, as this will interfere with the autograder. Also, remember to execute all code cells sequentially, not just those you’ve edited, to ensure your code runs properly.</p>\n",
    "    \n",
    "<p>You can resubmit your work as many times as necessary before the submission deadline. If you experience difficulty or have questions about this exercise, use the Q&A discussion board to engage with your peers or seek assistance from the instructor.<p>\n",
    "\n",
    "<p>Before starting your work, please review <a href=\"https://s3.amazonaws.com/ecornell/global/eCornellPlagiarismPolicy.pdf\">eCornell's policy regarding plagiarism</a> (the presentation of someone else's work as your own without source credit).</p>\n",
    "\n",
    "<h3>Submit Code for Autograder Feedback</h3>\n",
    "\n",
    "<p>Once you have completed your work on this notebook, you will submit your code for autograder review. Follow these steps:</p>\n",
    "\n",
    "<ol>\n",
    "  <li><strong>Save your notebook.</strong></li>\n",
    "  <li><strong>Mark as Completed —</strong> In the blue menu bar along the top of this code exercise window, you’ll see a menu item called <strong>Education</strong>. In the <strong>Education</strong> menu, click <strong>Mark as Completed</strong> to submit your code for autograder/instructor review. This process will take a moment and a progress bar will show you the status of your submission.</li>\n",
    "\t<li><strong>Review your results —</strong> Once your work is marked as complete, the results of the autograder will automatically be presented in a new tab within the code exercise window. You can click on the assessment name in this feedback window to see more details regarding specific feedback/errors in your code submission.</li>\n",
    "  <li><strong>Repeat, if necessary —</strong> The Jupyter notebook will always remain accessible in the first tabbed window of the exercise. To reattempt the work, you will first need to click <strong>Mark as Uncompleted</strong> in the <strong>Education</strong> menu and then proceed to make edits to the notebook. Once you are ready to resubmit, follow steps one through three. You can repeat this procedure as many times as necessary.</li>\n",
    "</ol>"
   ]
  },
  {
   "cell_type": "markdown",
   "metadata": {
    "nbgrader": {
     "grade": false,
     "grade_id": "cell-30dffab85bf9ce51",
     "locked": true,
     "schema_version": 1,
     "solution": false
    }
   },
   "source": [
    "<h2>Getting Started</h2>\n",
    "<h3>Prepare Text for Machine Learning </h3>\n",
    "\n",
    "<p> If we are to create a classifier for text, we'll first need to think about the format of our data. Take a look at the files <code>girls.train</code> and <code>boys.train</code>. For example with the unix command: <pre>cat girls.train</pre> \n",
    "<pre>\n",
    "...\n",
    "Addisyn\n",
    "Danika\n",
    "Emilee\n",
    "Aurora\n",
    "Julianna\n",
    "Sophia\n",
    "Kaylyn\n",
    "Litzy\n",
    "Hadassah\n",
    "</pre>\n",
    "This file contains names that are more or less commonly used for girls. The problem with the current data in this file is that the names are in plain text, which is not a format our machine learning algorithm can work with effectively. You need to transform these plain text names into some vector format, where each name becomes a vector that represents a point in some high dimensional input space. </p>\n",
    "\n",
    "<p>That is exactly what the following Python function <code>name2features</code> does, by arbitrarily chunking and hashing different string extractions from each baby name inputted, thus transforming the string into a quantitative feature vector:</p>"
   ]
  },
  {
   "cell_type": "markdown",
   "metadata": {
    "nbgrader": {
     "grade": false,
     "grade_id": "cell-714117928030f1f1",
     "locked": true,
     "schema_version": 1,
     "solution": false
    }
   },
   "source": [
    "<h3>Python Initialization</h3>\n",
    "<p>Please run the following code to initialize your Python kernel. You should be running a version of Python 3.x.<p>"
   ]
  },
  {
   "cell_type": "code",
   "execution_count": 1,
   "metadata": {
    "nbgrader": {
     "grade": false,
     "grade_id": "cell-18a2bc2f691a85d9",
     "locked": true,
     "schema_version": 1,
     "solution": false
    }
   },
   "outputs": [
    {
     "name": "stdout",
     "output_type": "stream",
     "text": [
      "You're running python 3.6.5\n"
     ]
    }
   ],
   "source": [
    "import numpy as np\n",
    "import sys\n",
    "sys.path.append('/home/codio/workspace/.guides/hf')\n",
    "from helper import *\n",
    "\n",
    "%matplotlib inline\n",
    "print('You\\'re running python %s' % sys.version.split(' ')[0])"
   ]
  },
  {
   "cell_type": "markdown",
   "metadata": {
    "nbgrader": {
     "grade": false,
     "grade_id": "cell-39c6afaee8154fa0",
     "locked": true,
     "schema_version": 1,
     "solution": false
    }
   },
   "source": [
    "<h3>The <code>hashfeatures</code> and <code>name2features</code> Functions</h3>\n",
    "<p>Below, the <code>hashfeatures</code> and <code>name2features</code> functions will take the plain text names and convert them to feature vectors so that you'll be able to work with the data effectively.  "
   ]
  },
  {
   "cell_type": "code",
   "execution_count": 2,
   "metadata": {
    "nbgrader": {
     "grade": false,
     "grade_id": "cell-1e080d9347c9d997",
     "locked": true,
     "schema_version": 1,
     "solution": false
    }
   },
   "outputs": [],
   "source": [
    "def hashfeatures(baby, B, FIX):\n",
    "    \"\"\"\n",
    "    Input:\n",
    "        baby : a string representing the baby's name to be hashed\n",
    "        B: the number of dimensions to be in the feature vector\n",
    "        FIX: the number of chunks to extract and hash from each string\n",
    "    \n",
    "    Output:\n",
    "        v: a feature vector representing the input string\n",
    "    \"\"\"\n",
    "    v = np.zeros(B)\n",
    "    for m in range(FIX):\n",
    "        featurestring = \"prefix\" + baby[:m]\n",
    "        v[hash(featurestring) % B] = 1\n",
    "        featurestring = \"suffix\" + baby[-1*m:]\n",
    "        v[hash(featurestring) % B] = 1\n",
    "    return v\n"
   ]
  },
  {
   "cell_type": "code",
   "execution_count": 3,
   "metadata": {
    "nbgrader": {
     "grade": false,
     "grade_id": "cell-1809ceffa163f422",
     "locked": true,
     "schema_version": 1,
     "solution": false
    }
   },
   "outputs": [],
   "source": [
    "def name2features(filename, B=128, FIX=3, LoadFile=True):\n",
    "    \"\"\"\n",
    "    Output:\n",
    "        X : n feature vectors of dimension B, (nxB)\n",
    "    \"\"\"\n",
    "    # read in baby names\n",
    "    if LoadFile:\n",
    "        with open(filename, 'r') as f:\n",
    "            babynames = [x.rstrip() for x in f.readlines() if len(x) > 0]\n",
    "    else:\n",
    "        babynames = filename.split('\\n')\n",
    "    n = len(babynames)\n",
    "    X = np.zeros((n, B))\n",
    "    for i in range(n):\n",
    "        X[i,:] = hashfeatures(babynames[i], B, FIX)\n",
    "    return X"
   ]
  },
  {
   "cell_type": "markdown",
   "metadata": {
    "nbgrader": {
     "grade": false,
     "grade_id": "cell-844dbe02c2f5bdc3",
     "locked": true,
     "schema_version": 1,
     "solution": false
    }
   },
   "source": [
    "<p>In the code cell above, <code>name2features</code> reads every name in the given file and converts it into a 128-dimensional feature vector by first assembling substrings (based on the parameter 'FIX'), then hashing these assembled substrings and modifying the feature vector index (the modulo of the number of dimensions) that corresponds to this hash value. </p> \n",
    "\n",
    "<p>Can you see how the feature vector for each name changes with different parameters? (Understanding how these features are constructed will help you later on in the challenge.)<br></p>"
   ]
  },
  {
   "cell_type": "markdown",
   "metadata": {
    "nbgrader": {
     "grade": false,
     "grade_id": "cell-e96f9a3b1bc1cbe9",
     "locked": true,
     "schema_version": 1,
     "solution": false
    }
   },
   "source": [
    "<h3>The <code>genTrainFeatures</code> Function</h3>\n",
    "<p>We have provided you with a python function <code>genTrainFeatures</code>, which transforms the names into features and loads them into memory. "
   ]
  },
  {
   "cell_type": "code",
   "execution_count": 4,
   "metadata": {
    "nbgrader": {
     "grade": false,
     "grade_id": "cell-0b3fe702eadc1daa",
     "locked": true,
     "schema_version": 1,
     "solution": false
    }
   },
   "outputs": [],
   "source": [
    "def genTrainFeatures(dimension=128):\n",
    "    \"\"\"\n",
    "    Input: \n",
    "        dimension: desired dimension of the features\n",
    "    Output: \n",
    "        X: n feature vectors of dimensionality d (nxd)\n",
    "        Y: n labels (-1 = girl, +1 = boy) (n)\n",
    "    \"\"\"\n",
    "    \n",
    "    # Load in the data\n",
    "    Xgirls = name2features(\"girls.train\", B=dimension)\n",
    "    Xboys = name2features(\"boys.train\", B=dimension)\n",
    "    X = np.concatenate([Xgirls, Xboys])\n",
    "    \n",
    "    # Generate Labels\n",
    "    Y = np.concatenate([-np.ones(len(Xgirls)), np.ones(len(Xboys))])\n",
    "    \n",
    "    # shuffle data into random order\n",
    "    ii = np.random.permutation([i for i in range(len(Y))])\n",
    "    \n",
    "    return X[ii, :], Y[ii]"
   ]
  },
  {
   "cell_type": "markdown",
   "metadata": {
    "nbgrader": {
     "grade": false,
     "grade_id": "cell-f76be5bf3de52f69",
     "locked": true,
     "schema_version": 1,
     "solution": false
    }
   },
   "source": [
    "<p>You can call the following command to return two vectors, one holding all the concatenated feature vectors and one holding the labels of all boys and girls names.</p>"
   ]
  },
  {
   "cell_type": "code",
   "execution_count": 5,
   "metadata": {
    "nbgrader": {
     "grade": false,
     "grade_id": "cell-34b753329d722dbb",
     "locked": true,
     "schema_version": 1,
     "solution": false
    }
   },
   "outputs": [],
   "source": [
    "X, Y = genTrainFeatures(128)"
   ]
  },
  {
   "cell_type": "markdown",
   "metadata": {
    "nbgrader": {
     "grade": false,
     "grade_id": "cell-8ec662b973a6ef03",
     "locked": true,
     "schema_version": 1,
     "solution": false
    }
   },
   "source": [
    "<h2> The Na&iuml;ve Bayes Classifier </h2>\n",
    "\n",
    "<p> The Na&iuml;ve Bayes classifier is a linear classifier based on Bayes Rule. The following cells will walk you through steps and ask you to finish the necessary functions in a pre-defined order. Code cells requiring your input will display # YOUR CODE HERE and graded portions will be adequately labeled. <br>\n",
    "<strong>As a general rule, you should avoid tight loops at all cost.</strong></p>"
   ]
  },
  {
   "cell_type": "markdown",
   "metadata": {
    "nbgrader": {
     "grade": false,
     "grade_id": "cell-e91e263ce575ecdf",
     "locked": true,
     "schema_version": 1,
     "solution": false
    }
   },
   "source": [
    "<h3>Part One [Graded]</h3>\n",
    "<i>\n",
    "<p>Estimate the class probability $P(y)$ in \n",
    "<b><code>naivebayesPY</code></b>. This should return the probability that a sample in the training set is positive or negative, independent of its features.\n",
    "</p>\n",
    "</i>"
   ]
  },
  {
   "cell_type": "code",
   "execution_count": 6,
   "metadata": {
    "nbgrader": {
     "grade": false,
     "grade_id": "cell-naivebayesPY",
     "locked": false,
     "schema_version": 1,
     "solution": true
    }
   },
   "outputs": [],
   "source": [
    "def naivebayesPY(X, Y):\n",
    "    \"\"\"\n",
    "    naivebayesPY(Y) returns [pos,neg]\n",
    "\n",
    "    Computation of P(Y)\n",
    "    Input:\n",
    "        X : n input vectors of d dimensions (nxd)\n",
    "        Y : n labels (-1 or +1) (nx1)\n",
    "\n",
    "    Output:\n",
    "        pos: probability p(y=1)\n",
    "        neg: probability p(y=-1)\n",
    "    \"\"\"\n",
    "    \n",
    "    # add one positive and negative example to avoid division by zero (\"plus-one smoothing\")\n",
    "    Y = np.concatenate([Y, [-1,1]])\n",
    "    n = len(Y)\n",
    "    ### BEGIN SOLUTION\n",
    "    pos = np.mean(Y == 1)\n",
    "    neg = np.mean(Y == -1)\n",
    "    return pos, neg\n",
    "    ### END SOLUTION\n",
    "\n",
    "pos, neg = naivebayesPY(X,Y)"
   ]
  },
  {
   "cell_type": "code",
   "execution_count": 7,
   "metadata": {
    "nbgrader": {
     "grade": false,
     "grade_id": "cell-naivesbayesPY_selftest",
     "locked": true,
     "schema_version": 1,
     "solution": false
    }
   },
   "outputs": [
    {
     "name": "stdout",
     "output_type": "stream",
     "text": [
      "Running Test: naivebayesPY_test1 ... ✔ Passed!\n",
      "Running Test: naivebayesPY_test2 ... ✔ Passed!\n",
      "Running Test: naivebayesPY_test3 ... ✔ Passed!\n",
      "Running Test: naivebayesPY_test4 ... ✔ Passed!\n"
     ]
    }
   ],
   "source": [
    "# The following tests will check that the probabilities returned by your function sum to 1 (test1) and return the correct probabilities for a given set of input vectors (tests 2-4)\n",
    "\n",
    "# Check that probabilities sum to 1\n",
    "def naivebayesPY_test1():\n",
    "    pos, neg = naivebayesPY(X,Y)\n",
    "    return np.linalg.norm(pos + neg - 1) < 1e-5\n",
    "\n",
    "# Test the Naive Bayes PY function on a simple example\n",
    "def naivebayesPY_test2():\n",
    "    x = np.array([[0,1],[1,0]])\n",
    "    y = np.array([-1,1])\n",
    "    pos, neg = naivebayesPY(x,y)\n",
    "    pos0, neg0 = .5, .5\n",
    "    test = np.linalg.norm(pos - pos0) + np.linalg.norm(neg - neg0)\n",
    "    return test < 1e-5\n",
    "\n",
    "# Test the Naive Bayes PY function on another example\n",
    "def naivebayesPY_test3():\n",
    "        x = np.array([[0,1,1,0,1],\n",
    "            [1,0,0,1,0],\n",
    "            [1,1,1,1,0],\n",
    "            [0,1,1,0,1],\n",
    "            [1,0,1,0,0],\n",
    "            [0,0,1,0,0],\n",
    "            [1,1,1,0,1]])    \n",
    "        y = np.array([1,-1, 1, 1,-1,-1, 1])\n",
    "        pos, neg = naivebayesPY(x,y)\n",
    "        pos0, neg0 = 5/9., 4/9.\n",
    "        test = np.linalg.norm(pos - pos0) + np.linalg.norm(neg - neg0)\n",
    "        return test < 1e-5\n",
    "\n",
    "# Tests plus-one smoothing\n",
    "def naivebayesPY_test4():\n",
    "    x = np.array([[0,1,1,0,1],[1,0,0,1,0]])    \n",
    "    y = np.array([1,1])\n",
    "    pos, neg = naivebayesPY(x,y)\n",
    "    pos0, neg0 = 3/4., 1/4.\n",
    "    test = np.linalg.norm(pos - pos0) + np.linalg.norm(neg - neg0)\n",
    "    return test < 1e-5    \n",
    "        \n",
    "    \n",
    "runtest(naivebayesPY_test1, 'naivebayesPY_test1')\n",
    "runtest(naivebayesPY_test2,'naivebayesPY_test2')\n",
    "runtest(naivebayesPY_test3,'naivebayesPY_test3')\n",
    "runtest(naivebayesPY_test4,'naivebayesPY_test4')"
   ]
  },
  {
   "cell_type": "code",
   "execution_count": 8,
   "metadata": {
    "nbgrader": {
     "grade": true,
     "grade_id": "cell-naivebayesPY_test1",
     "locked": true,
     "points": 1,
     "schema_version": 1,
     "solution": false
    }
   },
   "outputs": [],
   "source": [
    "# Autograder test cell- worth 1 point\n",
    "# runs naivebayesPY_test1\n",
    "### BEGIN HIDDEN TESTS\n",
    "pos, neg = naivebayesPY(X,Y)\n",
    "assert np.linalg.norm(pos + neg - 1) < 1e-5\n",
    "### END HIDDEN TESTS"
   ]
  },
  {
   "cell_type": "code",
   "execution_count": 9,
   "metadata": {
    "nbgrader": {
     "grade": true,
     "grade_id": "cell-naivebayesPY_test2",
     "locked": true,
     "points": 1,
     "schema_version": 1,
     "solution": false
    }
   },
   "outputs": [],
   "source": [
    "# Autograder test cell- worth 1 points\n",
    "# runs naivebayesPY_test2\n",
    "### BEGIN HIDDEN TESTS\n",
    "x = np.array([[0,1],[1,0]])\n",
    "y = np.array([-1,1])\n",
    "pos, neg = naivebayesPY(x,y)\n",
    "pos0, neg0 = .5, .5\n",
    "test = np.linalg.norm(pos - pos0) + np.linalg.norm(neg - neg0)\n",
    "assert test < 1e-5\n",
    "### END HIDDEN TESTS"
   ]
  },
  {
   "cell_type": "code",
   "execution_count": 10,
   "metadata": {
    "nbgrader": {
     "grade": true,
     "grade_id": "cell-naivebayesPY_test3",
     "locked": true,
     "points": 1,
     "schema_version": 1,
     "solution": false
    }
   },
   "outputs": [],
   "source": [
    "# Autograder test cell- worth 1 points\n",
    "# runs naivebayesPY_test3\n",
    "### BEGIN HIDDEN TESTS\n",
    "x = np.array([[0,1,1,0,1],\n",
    "    [1,0,0,1,0],\n",
    "    [1,1,1,1,0],\n",
    "    [0,1,1,0,1],\n",
    "    [1,0,1,0,0],\n",
    "    [0,0,1,0,0],\n",
    "    [1,1,1,0,1]])    \n",
    "y = np.array([1,-1, 1, 1,-1,-1, 1])\n",
    "pos, neg = naivebayesPY(x,y)\n",
    "pos0, neg0 = 5/9., 4/9.\n",
    "test = np.linalg.norm(pos - pos0) + np.linalg.norm(neg - neg0)\n",
    "assert test < 1e-5\n",
    "### END HIDDEN TESTS"
   ]
  },
  {
   "cell_type": "code",
   "execution_count": 11,
   "metadata": {
    "nbgrader": {
     "grade": true,
     "grade_id": "cell-naivebayesPY_test4",
     "locked": true,
     "points": 1,
     "schema_version": 1,
     "solution": false
    }
   },
   "outputs": [],
   "source": [
    "# Autograder test cell- worth 1 points\n",
    "# runs naivebayesPY_test4\n",
    "### BEGIN HIDDEN TESTS\n",
    "x = np.array([[0,1,1,0,1],[1,0,0,1,0]])    \n",
    "y = np.array([1,1])\n",
    "pos, neg = naivebayesPY(x,y)\n",
    "pos0, neg0 = 3/4., 1/4.\n",
    "test = np.linalg.norm(pos - pos0) + np.linalg.norm(neg - neg0)\n",
    "assert test < 1e-5    \n",
    "### END HIDDEN TESTS"
   ]
  },
  {
   "cell_type": "markdown",
   "metadata": {
    "nbgrader": {
     "grade": false,
     "grade_id": "cell-e3d763d037cc430a",
     "locked": true,
     "schema_version": 1,
     "solution": false
    }
   },
   "source": [
    "<h3>Part Two [Graded]</h3>\n",
    "<i>\n",
    "<p>Estimate the conditional probabilities $P([\\mathbf{x}]_{\\alpha}|y)$ in \n",
    "<b><code>naivebayesPXY</code></b>. Notice that by construction, our features are binary categorical features. Use a <b>categorical</b> distribution as model and return the probability vectors for each features being 1 given a class label.\n",
    "</p> \n",
    "</i>"
   ]
  },
  {
   "cell_type": "code",
   "execution_count": 12,
   "metadata": {
    "nbgrader": {
     "grade": false,
     "grade_id": "cell-naivebayesPXY",
     "locked": false,
     "schema_version": 1,
     "solution": true
    }
   },
   "outputs": [],
   "source": [
    "def naivebayesPXY(X,Y):\n",
    "    \"\"\"\n",
    "    naivebayesPXY(X, Y) returns [posprob,negprob]\n",
    "    \n",
    "    Input:\n",
    "        X : n input vectors of d dimensions (nxd)\n",
    "        Y : n labels (-1 or +1) (n)\n",
    "    \n",
    "    Output:\n",
    "        posprob: probability vector of p(x_alpha = 1|y=1)  (d)\n",
    "        negprob: probability vector of p(x_alpha = 1|y=-1) (d)\n",
    "    \"\"\"\n",
    "    \n",
    "    # add one positive and negative example to avoid division by zero (\"plus-one smoothing\")\n",
    "    n, d = X.shape\n",
    "    X = np.concatenate([X, np.ones((2,d)), np.zeros((2,d))])\n",
    "    Y = np.concatenate([Y, [-1,1,-1,1]])\n",
    "    n, d = X.shape\n",
    "    \n",
    "    ### BEGIN SOLUTION\n",
    "    posprob = np.mean(X[Y == 1], axis=0)\n",
    "    negprob = np.mean(X[Y == -1], axis=0)\n",
    "    return posprob, negprob\n",
    "    ### END SOLUTION\n",
    "    \n",
    "\n",
    "posprob, negprob = naivebayesPXY(X,Y)"
   ]
  },
  {
   "cell_type": "code",
   "execution_count": 13,
   "metadata": {
    "nbgrader": {
     "grade": false,
     "grade_id": "cell-naivebayesPXY_selftest",
     "locked": true,
     "schema_version": 1,
     "solution": false
    }
   },
   "outputs": [
    {
     "name": "stdout",
     "output_type": "stream",
     "text": [
      "Running Test: naivebayesPXY_test1 ... ✔ Passed!\n",
      "Running Test: naivebayesPXY_test2 ... ✔ Passed!\n",
      "Running Test: naivebayesPXY_test3 ... ✔ Passed!\n",
      "Running Test: naivebayesPXY_test4 ... ✔ Passed!\n"
     ]
    }
   ],
   "source": [
    "# The following tests check that your inplementation of naivebayesPXY returns the same posterior probabilities as the correct implementation, in the correct dimensions\n",
    "\n",
    "X, Y = genTrainFeatures(128)\n",
    "posprobXY, negprobXY = naivebayesPXY_grader(X, Y)\n",
    "\n",
    "\n",
    "# test a simple toy example with two points (one positive, one negative)\n",
    "def naivebayesPXY_test1():\n",
    "    x = np.array([[0,1],[1,0]])\n",
    "    y = np.array([-1,1])\n",
    "    pos, neg = naivebayesPXY(x,y)\n",
    "    pos0, neg0 = naivebayesPXY_grader(x,y)\n",
    "    test = np.linalg.norm(pos - pos0) + np.linalg.norm(neg - neg0)\n",
    "    return test < 1e-5\n",
    "\n",
    "# test the probabilities P(X|Y=+1)\n",
    "def naivebayesPXY_test2():\n",
    "    pos, neg = naivebayesPXY(X,Y)\n",
    "    test = np.linalg.norm(pos - posprobXY) \n",
    "    return test < 1e-5\n",
    "\n",
    "# test the probabilities P(X|Y=-1)\n",
    "def naivebayesPXY_test3():\n",
    "    pos, neg = naivebayesPXY(X,Y)\n",
    "    test = np.linalg.norm(neg - negprobXY)\n",
    "    return test < 1e-5\n",
    "\n",
    "\n",
    "# Check that the dimensions of the posterior probabilities are correct\n",
    "def naivebayesPXY_test4():\n",
    "    pos, neg = naivebayesPXY(X,Y)\n",
    "    return pos.shape == posprobXY.shape and neg.shape == negprobXY.shape\n",
    "\n",
    "runtest(naivebayesPXY_test1,'naivebayesPXY_test1')\n",
    "runtest(naivebayesPXY_test2,'naivebayesPXY_test2')\n",
    "runtest(naivebayesPXY_test3,'naivebayesPXY_test3')\n",
    "runtest(naivebayesPXY_test4,'naivebayesPXY_test4')"
   ]
  },
  {
   "cell_type": "code",
   "execution_count": 14,
   "metadata": {
    "nbgrader": {
     "grade": true,
     "grade_id": "cell-naivebayesPXY_test1",
     "locked": true,
     "points": 1,
     "schema_version": 1,
     "solution": false
    }
   },
   "outputs": [],
   "source": [
    "# Autograder test cell- worth 1 point\n",
    "# runs naivebayesPXY_test1\n",
    "### BEGIN HIDDEN TESTS\n",
    "\n",
    "x = np.array([[0,1],[1,0]])\n",
    "y = np.array([-1,1])\n",
    "pos, neg = naivebayesPXY(x,y)\n",
    "pos0, neg0 = naivebayesPXY_grader(x,y)\n",
    "test = np.linalg.norm(pos - pos0) + np.linalg.norm(neg - neg0)\n",
    "assert test < 1e-5\n",
    "\n",
    "### END HIDDEN TESTS"
   ]
  },
  {
   "cell_type": "code",
   "execution_count": 15,
   "metadata": {
    "nbgrader": {
     "grade": true,
     "grade_id": "cell-naivebayesPXY_test2",
     "locked": true,
     "points": 1,
     "schema_version": 1,
     "solution": false
    }
   },
   "outputs": [],
   "source": [
    "# Autograder test cell- worth 1 point\n",
    "# runs naivebayesPXY_test2\n",
    "### BEGIN HIDDEN TESTS\n",
    "\n",
    "pos, neg = naivebayesPXY(X,Y)\n",
    "test = np.linalg.norm(pos - posprobXY) + np.linalg.norm(neg - negprobXY)\n",
    "assert test < 1e-5\n",
    "\n",
    "### END HIDDEN TESTS"
   ]
  },
  {
   "cell_type": "code",
   "execution_count": 16,
   "metadata": {
    "nbgrader": {
     "grade": true,
     "grade_id": "cell-naivebayesPXY_test3",
     "locked": true,
     "points": 1,
     "schema_version": 1,
     "solution": false
    }
   },
   "outputs": [],
   "source": [
    "# Autograder test cell- worth 1 point\n",
    "# runs naivebayesPXY_test3\n",
    "### BEGIN HIDDEN TESTS\n",
    "\n",
    "pos, neg = naivebayesPXY(X,Y)\n",
    "assert pos.shape == posprobXY.shape and neg.shape == negprobXY.shape\n",
    "\n",
    "### END HIDDEN TESTS"
   ]
  },
  {
   "cell_type": "markdown",
   "metadata": {
    "nbgrader": {
     "grade": false,
     "grade_id": "cell-718eb20a3bd07d46",
     "locked": true,
     "schema_version": 1,
     "solution": false
    }
   },
   "source": [
    "<h3>Part Three [Graded]</h3>\n",
    "\n",
    "<i>\n",
    "<p>Assume you are using the natural log. Calculate the log likelihood $\\log P(\\mathbf{x}|y)$ for each point in X_test in \n",
    "<b><code>loglikelihood</code></b> and label Y_test. In practice, the label is not known, so you call the function logliklihood with both labels and see which one yields a higher posterior probability. Think carefully how you would use the Na&iuml;ve Bayes assumption to calculate the likelihood and how you can use the fact $\\log(ab) = \\log a + \\log b$ to simplify your calculations.\n",
    "</p> \n",
    "<i>"
   ]
  },
  {
   "cell_type": "code",
   "execution_count": 29,
   "metadata": {
    "nbgrader": {
     "grade": false,
     "grade_id": "cell-loglikelihood",
     "locked": false,
     "schema_version": 1,
     "solution": true
    }
   },
   "outputs": [
    {
     "data": {
      "text/plain": [
       "array([-19.12539136, -16.76800809, -15.63002965, ..., -17.62694788,\n",
       "       -13.30791074, -15.53084937])"
      ]
     },
     "execution_count": 29,
     "metadata": {},
     "output_type": "execute_result"
    }
   ],
   "source": [
    "def loglikelihood(posprob, negprob, X_test, Y_test):\n",
    "    \"\"\"\n",
    "    loglikelihood(posprob, negprob, X_test, Y_test) returns loglikelihood of each point in X_test\n",
    "    \n",
    "    Input:\n",
    "        posprob: conditional probabilities for the positive class (d)\n",
    "        negprob: conditional probabilities for the negative class (d)\n",
    "        X_test : features (nxd)\n",
    "        Y_test : labels (-1 or +1) (n)\n",
    "    \n",
    "    Output:\n",
    "        loglikelihood of each point in X_test (n)\n",
    "    \"\"\"\n",
    "    n, d = X_test.shape\n",
    "    loglikelihood = np.zeros(n)\n",
    "    \n",
    "    ### BEGIN SOLUTION\n",
    "    pos_ind = (Y_test == 1)\n",
    "    loglikelihood[pos_ind] = X_test[pos_ind]@np.log(posprob) + (1 - X_test[pos_ind])@np.log(1 - posprob)\n",
    "    neg_ind = (Y_test == -1)\n",
    "    loglikelihood[neg_ind] = X_test[neg_ind]@np.log(negprob) + (1 - X_test[neg_ind])@np.log(1 - negprob)\n",
    "    ### END SOLUTION\n",
    "    return loglikelihood\n",
    "\n",
    "# compute the loglikelihood of the training set\n",
    "posprob, negprob = naivebayesPXY(X,Y)\n",
    "loglikelihood(posprob,negprob,X,Y) "
   ]
  },
  {
   "cell_type": "code",
   "execution_count": 34,
   "metadata": {
    "nbgrader": {
     "grade": false,
     "grade_id": "cell-loglikelihood_selftest",
     "locked": true,
     "schema_version": 1,
     "solution": false
    }
   },
   "outputs": [
    {
     "name": "stdout",
     "output_type": "stream",
     "text": [
      "Running Test: loglikelihood_test0 (training data) ... ✔ Passed!\n",
      "Running Test: loglikelihood_test0a (positive points) ... ✔ Passed!\n",
      "Running Test: loglikelihood_test0b (negative points) ... ✔ Passed!\n",
      "Running Test: loglikelihood_test1 ... ✔ Passed!\n",
      "Running Test: loglikelihood_test2 ... ✔ Passed!\n",
      "Running Test: loglikelihood_test3 ... ✔ Passed!\n"
     ]
    }
   ],
   "source": [
    "# The following tests check that your implementation of loglikelihood returns the same values as the correct implementation for three different datasets\n",
    "\n",
    "X, Y = genTrainFeatures(128)\n",
    "posprobXY, negprobXY = naivebayesPXY_grader(X, Y)\n",
    "\n",
    "# test if the log likelihood of the training data matches the solution\n",
    "def loglikelihood_test0():\n",
    "    ll=loglikelihood(posprob,negprob,X,Y);\n",
    "    llgrader=loglikelihood_grader(posprob,negprob,X,Y);\n",
    "    return np.linalg.norm(ll-llgrader)<1e-5\n",
    "\n",
    "# test if the log likelihood of the training data matches the solution\n",
    "# (positive points only)\n",
    "def loglikelihood_test0a():\n",
    "    ll=loglikelihood(posprob,negprob,X,Y);\n",
    "    llgrader=loglikelihood_grader(posprob,negprob,X,Y);\n",
    "    return np.linalg.norm(ll[Y==1]-llgrader[Y==1])<1e-5\n",
    "\n",
    "# test if the log likelihood of the training data matches the solution\n",
    "# (negative points only)\n",
    "def loglikelihood_test0b():\n",
    "    ll=loglikelihood(posprob,negprob,X,Y);\n",
    "    llgrader=loglikelihood_grader(posprob,negprob,X,Y);\n",
    "    return np.linalg.norm(ll[Y==-1]-llgrader[Y==-1])<1e-5\n",
    "\n",
    "\n",
    "# little toy example with two data points (1 positive, 1 negative)\n",
    "def loglikelihood_test1():\n",
    "    x = np.array([[0,1],[1,0]])\n",
    "    y = np.array([-1,1])\n",
    "    posprobXY, negprobXY = naivebayesPXY_grader(X, Y)\n",
    "    loglike = loglikelihood(posprobXY[:2], negprobXY[:2], x, y)\n",
    "    loglike0 = loglikelihood_grader(posprobXY[:2], negprobXY[:2], x, y)\n",
    "    test = np.linalg.norm(loglike - loglike0)\n",
    "    return test < 1e-5\n",
    "\n",
    "# little toy example with four data points (2 positive, 2 negative)\n",
    "def loglikelihood_test2():\n",
    "    x = np.array([[1,0,1,0,1,1], \n",
    "        [0,0,1,0,1,1], \n",
    "        [1,0,0,1,1,1], \n",
    "        [1,1,0,0,1,1]])\n",
    "    y = np.array([-1,1,1,-1])\n",
    "    posprobXY, negprobXY = naivebayesPXY_grader(X, Y)\n",
    "    loglike = loglikelihood(posprobXY[:6], negprobXY[:6], x, y)\n",
    "    loglike0 = loglikelihood_grader(posprobXY[:6], negprobXY[:6], x, y)\n",
    "    test = np.linalg.norm(loglike - loglike0)\n",
    "    return test < 1e-5\n",
    "\n",
    "\n",
    "# one more toy example with 5 positive and 2 negative points\n",
    "def loglikelihood_test3():\n",
    "    x = np.array([[1,1,1,1,1,1], \n",
    "        [0,0,1,0,0,0], \n",
    "        [1,1,0,1,1,1], \n",
    "        [0,1,0,0,0,1], \n",
    "        [0,1,1,0,1,1], \n",
    "        [1,0,0,0,0,1], \n",
    "        [0,1,1,0,1,1]])\n",
    "    y = np.array([1, 1, 1 ,1,-1,-1, 1])\n",
    "    posprobXY, negprobXY = naivebayesPXY_grader(X, Y)\n",
    "    loglike = loglikelihood(posprobXY[:6], negprobXY[:6], x, y)\n",
    "    loglike0 = loglikelihood_grader(posprobXY[:6], negprobXY[:6], x, y)\n",
    "    test = np.linalg.norm(loglike - loglike0)\n",
    "    return test < 1e-5\n",
    "\n",
    "runtest(loglikelihood_test0, 'loglikelihood_test0 (training data)')\n",
    "runtest(loglikelihood_test0a, 'loglikelihood_test0a (positive points)')\n",
    "runtest(loglikelihood_test0b, 'loglikelihood_test0b (negative points)')\n",
    "runtest(loglikelihood_test1, 'loglikelihood_test1')\n",
    "runtest(loglikelihood_test2, 'loglikelihood_test2')\n",
    "runtest(loglikelihood_test3, 'loglikelihood_test3')"
   ]
  },
  {
   "cell_type": "code",
   "execution_count": 19,
   "metadata": {
    "nbgrader": {
     "grade": true,
     "grade_id": "cell-loglikelihood_test1",
     "locked": true,
     "points": 1,
     "schema_version": 1,
     "solution": false
    }
   },
   "outputs": [],
   "source": [
    "# Autograder test cell- worth 1 point\n",
    "# runs loglikelihood_test1\n",
    "### BEGIN HIDDEN TESTS\n",
    "\n",
    "x = np.array([[0,1],[1,0]])\n",
    "y = np.array([-1,1])\n",
    "posprobXY, negprobXY = naivebayesPXY_grader(X, Y)\n",
    "loglike = loglikelihood(posprobXY[:2], negprobXY[:2], x, y)\n",
    "loglike0 = loglikelihood_grader(posprobXY[:2], negprobXY[:2], x, y)\n",
    "test = np.linalg.norm(loglike - loglike0)\n",
    "assert test < 1e-5\n",
    "\n",
    "### END HIDDEN TESTS"
   ]
  },
  {
   "cell_type": "code",
   "execution_count": 20,
   "metadata": {
    "nbgrader": {
     "grade": true,
     "grade_id": "cell-loglikelihood_test2",
     "locked": true,
     "points": 1,
     "schema_version": 1,
     "solution": false
    }
   },
   "outputs": [],
   "source": [
    "# Autograder test cell- worth 1 point\n",
    "# runs loglikelihood_test2\n",
    "### BEGIN HIDDEN TESTS\n",
    "\n",
    "x = np.array([[1,0,1,0,1,1], \n",
    "    [0,0,1,0,1,1], \n",
    "    [1,0,0,1,1,1], \n",
    "    [1,1,0,0,1,1]])\n",
    "y = np.array([-1,1,1,-1])\n",
    "loglike = loglikelihood(posprobXY[:6], negprobXY[:6], x, y)\n",
    "loglike0 = loglikelihood_grader(posprobXY[:6], negprobXY[:6], x, y)\n",
    "test = np.linalg.norm(loglike - loglike0)\n",
    "assert test < 1e-5\n",
    "\n",
    "### END HIDDEN TESTS"
   ]
  },
  {
   "cell_type": "code",
   "execution_count": 21,
   "metadata": {
    "nbgrader": {
     "grade": true,
     "grade_id": "cell-loglikelihood_test3",
     "locked": true,
     "points": 1,
     "schema_version": 1,
     "solution": false
    }
   },
   "outputs": [],
   "source": [
    "# Autograder test cell- worth 1 point\n",
    "# runs loglikelihood_test3\n",
    "### BEGIN HIDDEN TESTS\n",
    "\n",
    "x = np.array([[1,1,1,1,1,1], \n",
    "    [0,0,1,0,0,0], \n",
    "    [1,1,0,1,1,1], \n",
    "    [0,1,0,0,0,1], \n",
    "    [0,1,1,0,1,1], \n",
    "    [1,0,0,0,0,1], \n",
    "    [0,1,1,0,1,1]])\n",
    "y = np.array([1, 1, 1 ,1,-1,-1, 1])\n",
    "loglike = loglikelihood(posprobXY[:6], negprobXY[:6], x, y)\n",
    "loglike0 = loglikelihood_grader(posprobXY[:6], negprobXY[:6], x, y)\n",
    "test = np.linalg.norm(loglike - loglike0)\n",
    "assert test < 1e-5\n",
    "\n",
    "### END HIDDEN TESTS"
   ]
  },
  {
   "cell_type": "markdown",
   "metadata": {
    "nbgrader": {
     "grade": false,
     "grade_id": "cell-939ef69834417c3a",
     "locked": true,
     "schema_version": 1,
     "solution": false
    }
   },
   "source": [
    "<h3>Part Four [Graded]</h3>\n",
    "\n",
    "<i>\n",
    "<p>Observe that for a test point $\\mathbf{x}_{test}$, we should classify it as positive if the log ratio $\\log\\left(\\frac{P(y=1 | \\mathbf{x} = \\mathbf{x}_{test})}{P(y=-1|\\mathbf{x} = \\mathbf{x}_{test})}\\right) > 0$ and negative otherwise. Implement the <b><code>naivebayes_pred</code></b> by first calculating the log ratio $\\log\\left(\\frac{P(y=1 | \\mathbf{x} = \\mathbf{x}_{test})}{P(y=-1|\\mathbf{x} = \\mathbf{x}_{test})}\\right)$ for each test point in $\\mathbf{x}_{test}$ using Bayes' rule and predict the label of the test points by looking at the log ratio. When calculating the log likelihood, think carefully how you can use the fact $\\log \\left(\\frac{a}{b}\\right) = \\log{a} - \\log{b}$ to simplify your calculations.\n",
    "</p>\n",
    "</i>\n",
    "\n"
   ]
  },
  {
   "cell_type": "code",
   "execution_count": 22,
   "metadata": {
    "nbgrader": {
     "grade": false,
     "grade_id": "cell-naivebayes_pred",
     "locked": false,
     "schema_version": 1,
     "solution": true
    }
   },
   "outputs": [],
   "source": [
    "def naivebayes_pred(pos, neg, posprob, negprob, X_test):\n",
    "    \"\"\"\n",
    "    naivebayes_pred(pos, neg, posprob, negprob, X_test) returns the prediction of each point in X_test\n",
    "    \n",
    "    Input:\n",
    "        pos: class probability for the negative class\n",
    "        neg: class probability for the positive class\n",
    "        posprob: conditional probabilities for the positive class (d)\n",
    "        negprob: conditional probabilities for the negative class (d)\n",
    "        X_test : features (nxd)\n",
    "    \n",
    "    Output:\n",
    "        prediction of each point in X_test (n)\n",
    "    \"\"\"\n",
    "    n, d = X_test.shape\n",
    "    \n",
    "    ### BEGIN SOLUTION\n",
    "    loglikelihood_ratio = loglikelihood(posprob, negprob, X_test, np.ones(n)) - \\\n",
    "        loglikelihood(posprob, negprob, X_test, -np.ones(n)) + np.log(pos) - np.log(neg)\n",
    "    preds = - np.ones(n)\n",
    "    preds[loglikelihood_ratio > 0] = 1\n",
    "    return preds\n",
    "    ### END SOLUTION"
   ]
  },
  {
   "cell_type": "code",
   "execution_count": 23,
   "metadata": {
    "nbgrader": {
     "grade": false,
     "grade_id": "cell-naivebayes_pred_selftest",
     "locked": true,
     "schema_version": 1,
     "solution": false
    }
   },
   "outputs": [
    {
     "name": "stdout",
     "output_type": "stream",
     "text": [
      "Running Test: naivebayes_pred_test1 ... ✔ Passed!\n",
      "Running Test: naivebayes_pred_test2 ... ✔ Passed!\n",
      "Running Test: naivebayes_pred_test3 ... ✔ Passed!\n",
      "Running Test: naivebayes_pred_test4 ... ✔ Passed!\n"
     ]
    }
   ],
   "source": [
    "# The following tests check that your implementation of naivebayes_pred returns only 1s and -1s (test 1), and that it returns the same predicted values as the correct implementation for three different datasets (tests 2-4)\n",
    "\n",
    "X,Y = genTrainFeatures_grader(128)\n",
    "posY, negY = naivebayesPY_grader(X, Y)\n",
    "\n",
    "# check whether the predictions are +1 or neg 1\n",
    "def naivebayes_pred_test1():\n",
    "    preds = naivebayes_pred(posY, negY, posprobXY, negprobXY, X)\n",
    "    return np.all(np.logical_or(preds == -1 , preds == 1))\n",
    "\n",
    "def naivebayes_pred_test2():\n",
    "    naivebayesPXY_grader(X, Y)\n",
    "    x_test = np.array([[0,1],[1,0]])\n",
    "    preds = naivebayes_pred_grader(posY, negY, posprobXY[:2], negprobXY[:2], x_test)\n",
    "    student_preds = naivebayes_pred(posY, negY, posprobXY[:2], negprobXY[:2], x_test)\n",
    "    acc = analyze_grader(\"acc\", preds, student_preds)\n",
    "    return np.abs(acc - 1) < 1e-5\n",
    "\n",
    "def naivebayes_pred_test3():\n",
    "    x_test = np.array([[1,0,1,0,1,1], \n",
    "        [0,0,1,0,1,1], \n",
    "        [1,0,0,1,1,1], \n",
    "        [1,1,0,0,1,1]])\n",
    "    naivebayesPXY_grader(X, Y)\n",
    "    preds = naivebayes_pred_grader(posY, negY, posprobXY[:6], negprobXY[:6], x_test)\n",
    "    student_preds = naivebayes_pred(posY, negY, posprobXY[:6], negprobXY[:6], x_test)\n",
    "    acc = analyze_grader(\"acc\", preds, student_preds)\n",
    "    return np.abs(acc - 1) < 1e-5\n",
    "\n",
    "def naivebayes_pred_test4():\n",
    "    x_test = np.array([[1,1,1,1,1,1], \n",
    "        [0,0,1,0,0,0], \n",
    "        [1,1,0,1,1,1], \n",
    "        [0,1,0,0,0,1], \n",
    "        [0,1,1,0,1,1], \n",
    "        [1,0,0,0,0,1], \n",
    "        [0,1,1,0,1,1]])\n",
    "    naivebayesPXY_grader(X, Y)\n",
    "    preds = naivebayes_pred_grader(posY, negY, posprobXY[:6], negprobXY[:6], x_test)\n",
    "    student_preds = naivebayes_pred(posY, negY, posprobXY[:6], negprobXY[:6], x_test)\n",
    "    acc = analyze_grader(\"acc\", preds, student_preds)\n",
    "    return np.abs(acc - 1) < 1e-5\n",
    "\n",
    "runtest(naivebayes_pred_test1, 'naivebayes_pred_test1')\n",
    "runtest(naivebayes_pred_test2, 'naivebayes_pred_test2')\n",
    "runtest(naivebayes_pred_test3, 'naivebayes_pred_test3')\n",
    "runtest(naivebayes_pred_test4, 'naivebayes_pred_test4')"
   ]
  },
  {
   "cell_type": "code",
   "execution_count": 24,
   "metadata": {
    "nbgrader": {
     "grade": true,
     "grade_id": "cell-naivebayes_pred_test1",
     "locked": true,
     "points": 1,
     "schema_version": 1,
     "solution": false
    }
   },
   "outputs": [],
   "source": [
    "# Autograder test cell- worth 1 point\n",
    "# runs naivebayes_pred_test1\n",
    "### BEGIN HIDDEN TESTS\n",
    "\n",
    "preds = naivebayes_pred(posY, negY, posprobXY, negprobXY, X)\n",
    "assert np.all(np.logical_or(preds == -1 , preds == 1))\n",
    "\n",
    "### END HIDDEN TESTS"
   ]
  },
  {
   "cell_type": "code",
   "execution_count": 25,
   "metadata": {
    "nbgrader": {
     "grade": true,
     "grade_id": "cell-naivebayes_pred_test2",
     "locked": true,
     "points": 1,
     "schema_version": 1,
     "solution": false
    }
   },
   "outputs": [],
   "source": [
    "# Autograder test cell- worth 1 point\n",
    "# runs naivebayes_pred_test2\n",
    "\n",
    "### BEGIN HIDDEN TESTS\n",
    "\n",
    "naivebayesPXY_grader(X, Y)\n",
    "x_test = np.array([[0,1],[1,0]])\n",
    "preds = naivebayes_pred_grader(posY, negY, posprobXY[:2], negprobXY[:2], x_test)\n",
    "student_preds = naivebayes_pred(posY, negY, posprobXY[:2], negprobXY[:2], x_test)\n",
    "acc = analyze_grader(\"acc\", preds, student_preds)\n",
    "assert np.abs(acc - 1) < 1e-5\n",
    "\n",
    "### END HIDDEN TESTS"
   ]
  },
  {
   "cell_type": "code",
   "execution_count": 26,
   "metadata": {
    "nbgrader": {
     "grade": true,
     "grade_id": "cell-naivebayes_pred_test3",
     "locked": true,
     "points": 1,
     "schema_version": 1,
     "solution": false
    }
   },
   "outputs": [],
   "source": [
    "# Autograder test cell- worth 1 points\n",
    "# runs naivebayes_pred_test3\n",
    "### BEGIN HIDDEN TESTS\n",
    "\n",
    "x_test = np.array([[1,0,1,0,1,1], \n",
    "    [0,0,1,0,1,1], \n",
    "    [1,0,0,1,1,1], \n",
    "    [1,1,0,0,1,1]])\n",
    "preds = naivebayes_pred_grader(posY, negY, posprobXY[:6], negprobXY[:6], x_test)\n",
    "student_preds = naivebayes_pred(posY, negY, posprobXY[:6], negprobXY[:6], x_test)\n",
    "acc = analyze_grader(\"acc\", preds, student_preds)\n",
    "assert np.abs(acc - 1) < 1e-5\n",
    "\n",
    "### END HIDDEN TESTS"
   ]
  },
  {
   "cell_type": "code",
   "execution_count": 27,
   "metadata": {
    "nbgrader": {
     "grade": true,
     "grade_id": "cell-naivebayes_pred_test4",
     "locked": true,
     "points": 1,
     "schema_version": 1,
     "solution": false
    }
   },
   "outputs": [],
   "source": [
    "# Autograder test cell- worth 1 points\n",
    "# runs naivebayes_pred_test4\n",
    "\n",
    "### BEGIN HIDDEN TESTS\n",
    "\n",
    "x_test = np.array([[1,1,1,1,1,1], \n",
    "    [0,0,1,0,0,0], \n",
    "    [1,1,0,1,1,1], \n",
    "    [0,1,0,0,0,1], \n",
    "    [0,1,1,0,1,1], \n",
    "    [1,0,0,0,0,1], \n",
    "    [0,1,1,0,1,1]])\n",
    "preds = naivebayes_pred_grader(posY, negY, posprobXY[:6], negprobXY[:6], x_test)\n",
    "student_preds = naivebayes_pred(posY, negY, posprobXY[:6], negprobXY[:6], x_test)\n",
    "acc = analyze_grader(\"acc\", preds, student_preds)\n",
    "assert np.abs(acc - 1) < 1e-5\n",
    "\n",
    "### END HIDDEN TESTS"
   ]
  },
  {
   "cell_type": "markdown",
   "metadata": {
    "nbgrader": {
     "grade": false,
     "grade_id": "cell-d31d3867bef12ca7",
     "locked": true,
     "schema_version": 1,
     "solution": false
    }
   },
   "source": [
    "You can now test your code with the following interactive name classification script:"
   ]
  },
  {
   "cell_type": "code",
   "execution_count": 28,
   "metadata": {
    "nbgrader": {
     "grade": false,
     "grade_id": "cell-a53cd34f0d01fec0",
     "locked": true,
     "schema_version": 1,
     "solution": false
    },
    "scrolled": true
   },
   "outputs": [
    {
     "name": "stdout",
     "output_type": "stream",
     "text": [
      "Loading data ...\n",
      "Training classifier ...\n",
      "Training error: 23.42%\n",
      "Please enter a baby name>\n",
      "kilian\n",
      "kilian, I am sure you are a baby boy.\n",
      "\n",
      "Please enter a baby name>\n",
      "anne\n",
      "anne, I am sure you are a baby boy.\n",
      "\n",
      "Please enter a baby name>\n",
      "Anne\n",
      "Anne, I am sure you are a baby boy.\n",
      "\n",
      "Please enter a baby name>\n",
      "Suzie\n",
      "Suzie, I am sure you are a baby girl.\n",
      "\n",
      "Please enter a baby name>\n",
      "Annie\n",
      "Annie, I am sure you are a baby girl.\n",
      "\n",
      "Please enter a baby name>\n"
     ]
    },
    {
     "ename": "KeyboardInterrupt",
     "evalue": "",
     "output_type": "error",
     "traceback": [
      "\u001b[0;31m---------------------------------------------------------------------------\u001b[0m",
      "\u001b[0;31mKeyboardInterrupt\u001b[0m                         Traceback (most recent call last)",
      "\u001b[0;32m/anaconda3/lib/python3.6/site-packages/ipykernel/kernelbase.py\u001b[0m in \u001b[0;36m_input_request\u001b[0;34m(self, prompt, ident, parent, password)\u001b[0m\n\u001b[1;32m    728\u001b[0m             \u001b[0;32mtry\u001b[0m\u001b[0;34m:\u001b[0m\u001b[0;34m\u001b[0m\u001b[0m\n\u001b[0;32m--> 729\u001b[0;31m                 \u001b[0mident\u001b[0m\u001b[0;34m,\u001b[0m \u001b[0mreply\u001b[0m \u001b[0;34m=\u001b[0m \u001b[0mself\u001b[0m\u001b[0;34m.\u001b[0m\u001b[0msession\u001b[0m\u001b[0;34m.\u001b[0m\u001b[0mrecv\u001b[0m\u001b[0;34m(\u001b[0m\u001b[0mself\u001b[0m\u001b[0;34m.\u001b[0m\u001b[0mstdin_socket\u001b[0m\u001b[0;34m,\u001b[0m \u001b[0;36m0\u001b[0m\u001b[0;34m)\u001b[0m\u001b[0;34m\u001b[0m\u001b[0m\n\u001b[0m\u001b[1;32m    730\u001b[0m             \u001b[0;32mexcept\u001b[0m \u001b[0mException\u001b[0m\u001b[0;34m:\u001b[0m\u001b[0;34m\u001b[0m\u001b[0m\n",
      "\u001b[0;32m/anaconda3/lib/python3.6/site-packages/jupyter_client/session.py\u001b[0m in \u001b[0;36mrecv\u001b[0;34m(self, socket, mode, content, copy)\u001b[0m\n\u001b[1;32m    802\u001b[0m         \u001b[0;32mtry\u001b[0m\u001b[0;34m:\u001b[0m\u001b[0;34m\u001b[0m\u001b[0m\n\u001b[0;32m--> 803\u001b[0;31m             \u001b[0mmsg_list\u001b[0m \u001b[0;34m=\u001b[0m \u001b[0msocket\u001b[0m\u001b[0;34m.\u001b[0m\u001b[0mrecv_multipart\u001b[0m\u001b[0;34m(\u001b[0m\u001b[0mmode\u001b[0m\u001b[0;34m,\u001b[0m \u001b[0mcopy\u001b[0m\u001b[0;34m=\u001b[0m\u001b[0mcopy\u001b[0m\u001b[0;34m)\u001b[0m\u001b[0;34m\u001b[0m\u001b[0m\n\u001b[0m\u001b[1;32m    804\u001b[0m         \u001b[0;32mexcept\u001b[0m \u001b[0mzmq\u001b[0m\u001b[0;34m.\u001b[0m\u001b[0mZMQError\u001b[0m \u001b[0;32mas\u001b[0m \u001b[0me\u001b[0m\u001b[0;34m:\u001b[0m\u001b[0;34m\u001b[0m\u001b[0m\n",
      "\u001b[0;32m/anaconda3/lib/python3.6/site-packages/zmq/sugar/socket.py\u001b[0m in \u001b[0;36mrecv_multipart\u001b[0;34m(self, flags, copy, track)\u001b[0m\n\u001b[1;32m    465\u001b[0m         \"\"\"\n\u001b[0;32m--> 466\u001b[0;31m         \u001b[0mparts\u001b[0m \u001b[0;34m=\u001b[0m \u001b[0;34m[\u001b[0m\u001b[0mself\u001b[0m\u001b[0;34m.\u001b[0m\u001b[0mrecv\u001b[0m\u001b[0;34m(\u001b[0m\u001b[0mflags\u001b[0m\u001b[0;34m,\u001b[0m \u001b[0mcopy\u001b[0m\u001b[0;34m=\u001b[0m\u001b[0mcopy\u001b[0m\u001b[0;34m,\u001b[0m \u001b[0mtrack\u001b[0m\u001b[0;34m=\u001b[0m\u001b[0mtrack\u001b[0m\u001b[0;34m)\u001b[0m\u001b[0;34m]\u001b[0m\u001b[0;34m\u001b[0m\u001b[0m\n\u001b[0m\u001b[1;32m    467\u001b[0m         \u001b[0;31m# have first part already, only loop while more to receive\u001b[0m\u001b[0;34m\u001b[0m\u001b[0;34m\u001b[0m\u001b[0m\n",
      "\u001b[0;32mzmq/backend/cython/socket.pyx\u001b[0m in \u001b[0;36mzmq.backend.cython.socket.Socket.recv\u001b[0;34m()\u001b[0m\n",
      "\u001b[0;32mzmq/backend/cython/socket.pyx\u001b[0m in \u001b[0;36mzmq.backend.cython.socket.Socket.recv\u001b[0;34m()\u001b[0m\n",
      "\u001b[0;32mzmq/backend/cython/socket.pyx\u001b[0m in \u001b[0;36mzmq.backend.cython.socket._recv_copy\u001b[0;34m()\u001b[0m\n",
      "\u001b[0;32m/anaconda3/lib/python3.6/site-packages/zmq/backend/cython/checkrc.pxd\u001b[0m in \u001b[0;36mzmq.backend.cython.checkrc._check_rc\u001b[0;34m()\u001b[0m\n",
      "\u001b[0;31mKeyboardInterrupt\u001b[0m: ",
      "\nDuring handling of the above exception, another exception occurred:\n",
      "\u001b[0;31mKeyboardInterrupt\u001b[0m                         Traceback (most recent call last)",
      "\u001b[0;32m<ipython-input-28-93b98c660ed9>\u001b[0m in \u001b[0;36m<module>\u001b[0;34m()\u001b[0m\n\u001b[1;32m     10\u001b[0m \u001b[0;32mwhile\u001b[0m \u001b[0;32mTrue\u001b[0m\u001b[0;34m:\u001b[0m\u001b[0;34m\u001b[0m\u001b[0m\n\u001b[1;32m     11\u001b[0m     \u001b[0mprint\u001b[0m\u001b[0;34m(\u001b[0m\u001b[0;34m'Please enter a baby name>'\u001b[0m\u001b[0;34m)\u001b[0m\u001b[0;34m\u001b[0m\u001b[0m\n\u001b[0;32m---> 12\u001b[0;31m     \u001b[0myourname\u001b[0m \u001b[0;34m=\u001b[0m \u001b[0minput\u001b[0m\u001b[0;34m(\u001b[0m\u001b[0;34m)\u001b[0m\u001b[0;34m\u001b[0m\u001b[0m\n\u001b[0m\u001b[1;32m     13\u001b[0m     \u001b[0;32mif\u001b[0m \u001b[0mlen\u001b[0m\u001b[0;34m(\u001b[0m\u001b[0myourname\u001b[0m\u001b[0;34m)\u001b[0m \u001b[0;34m<\u001b[0m \u001b[0;36m1\u001b[0m\u001b[0;34m:\u001b[0m\u001b[0;34m\u001b[0m\u001b[0m\n\u001b[1;32m     14\u001b[0m         \u001b[0;32mbreak\u001b[0m\u001b[0;34m\u001b[0m\u001b[0m\n",
      "\u001b[0;32m/anaconda3/lib/python3.6/site-packages/ipykernel/kernelbase.py\u001b[0m in \u001b[0;36mraw_input\u001b[0;34m(self, prompt)\u001b[0m\n\u001b[1;32m    702\u001b[0m             \u001b[0mself\u001b[0m\u001b[0;34m.\u001b[0m\u001b[0m_parent_ident\u001b[0m\u001b[0;34m,\u001b[0m\u001b[0;34m\u001b[0m\u001b[0m\n\u001b[1;32m    703\u001b[0m             \u001b[0mself\u001b[0m\u001b[0;34m.\u001b[0m\u001b[0m_parent_header\u001b[0m\u001b[0;34m,\u001b[0m\u001b[0;34m\u001b[0m\u001b[0m\n\u001b[0;32m--> 704\u001b[0;31m             \u001b[0mpassword\u001b[0m\u001b[0;34m=\u001b[0m\u001b[0;32mFalse\u001b[0m\u001b[0;34m,\u001b[0m\u001b[0;34m\u001b[0m\u001b[0m\n\u001b[0m\u001b[1;32m    705\u001b[0m         )\n\u001b[1;32m    706\u001b[0m \u001b[0;34m\u001b[0m\u001b[0m\n",
      "\u001b[0;32m/anaconda3/lib/python3.6/site-packages/ipykernel/kernelbase.py\u001b[0m in \u001b[0;36m_input_request\u001b[0;34m(self, prompt, ident, parent, password)\u001b[0m\n\u001b[1;32m    732\u001b[0m             \u001b[0;32mexcept\u001b[0m \u001b[0mKeyboardInterrupt\u001b[0m\u001b[0;34m:\u001b[0m\u001b[0;34m\u001b[0m\u001b[0m\n\u001b[1;32m    733\u001b[0m                 \u001b[0;31m# re-raise KeyboardInterrupt, to truncate traceback\u001b[0m\u001b[0;34m\u001b[0m\u001b[0;34m\u001b[0m\u001b[0m\n\u001b[0;32m--> 734\u001b[0;31m                 \u001b[0;32mraise\u001b[0m \u001b[0mKeyboardInterrupt\u001b[0m\u001b[0;34m\u001b[0m\u001b[0m\n\u001b[0m\u001b[1;32m    735\u001b[0m             \u001b[0;32melse\u001b[0m\u001b[0;34m:\u001b[0m\u001b[0;34m\u001b[0m\u001b[0m\n\u001b[1;32m    736\u001b[0m                 \u001b[0;32mbreak\u001b[0m\u001b[0;34m\u001b[0m\u001b[0m\n",
      "\u001b[0;31mKeyboardInterrupt\u001b[0m: "
     ]
    }
   ],
   "source": [
    "DIMS = 128\n",
    "print('Loading data ...')\n",
    "X,Y = genTrainFeatures(DIMS)\n",
    "print('Training classifier ...')\n",
    "pos, neg = naivebayesPY(X, Y)\n",
    "posprob, negprob = naivebayesPXY(X, Y)\n",
    "error = np.mean(naivebayes_pred(pos, neg, posprob, negprob, X) != Y)\n",
    "print('Training error: %.2f%%' % (100 * error))\n",
    "\n",
    "while True:\n",
    "    print('Please enter a baby name>')\n",
    "    yourname = input()\n",
    "    if len(yourname) < 1:\n",
    "        break\n",
    "    xtest = name2features(yourname,B=DIMS,LoadFile=False)\n",
    "    pred = naivebayes_pred(pos, neg, posprob, negprob, xtest)\n",
    "    if pred > 0:\n",
    "        print(\"%s, I am sure you are a baby boy.\\n\" % yourname)\n",
    "    else:\n",
    "        print(\"%s, I am sure you are a baby girl.\\n\" % yourname)"
   ]
  },
  {
   "cell_type": "markdown",
   "metadata": {
    "nbgrader": {
     "grade": false,
     "grade_id": "cell-f42c92ce4c86ad4f",
     "locked": true,
     "schema_version": 1,
     "solution": false
    }
   },
   "source": [
    "<h2> Challenge: Feature Extraction Challenge</h2>\n",
    "\n",
    "<p>Let's test how well your Na&iuml;ve Bayes classifier performs on a secret test set. If you want to improve your classifier modify <code>name2features2</code> below.   The automatic reader will use your Python script to extract features and train your classifier on the same names training set by calling the function with only one argument--the name of a file containing a list of names.  The given implementation is the same as the given <code>name2features</code> above.\n",
    "</p>\n",
    "  "
   ]
  },
  {
   "cell_type": "code",
   "execution_count": null,
   "metadata": {
    "nbgrader": {
     "grade": false,
     "grade_id": "cell-name2features2",
     "locked": false,
     "schema_version": 1,
     "solution": true
    }
   },
   "outputs": [],
   "source": [
    "def hashfeatures(baby, B, FIX):\n",
    "    v = np.zeros(B)\n",
    "    for m in range(FIX):\n",
    "        featurestring = \"prefix\" + baby[:m]\n",
    "        v[hash(featurestring) % B] = 1\n",
    "        featurestring = \"suffix\" + baby[-1*m:]\n",
    "        v[hash(featurestring) % B] = 1\n",
    "    return v\n",
    "\n",
    "def name2features2(filename, B=128, FIX=3, LoadFile=True):\n",
    "    \"\"\"\n",
    "    Output:\n",
    "        X : n feature vectors of dimension B, (nxB)\n",
    "    \"\"\"\n",
    "    # read in baby names\n",
    "    if LoadFile:\n",
    "        with open(filename, 'r') as f:\n",
    "            babynames = [x.rstrip() for x in f.readlines() if len(x) > 0]\n",
    "    else:\n",
    "        babynames = filename.split('\\n')\n",
    "    n = len(babynames)\n",
    "    X = np.zeros((n, B))\n",
    "    for i in range(n):\n",
    "        X[i,:] = hashfeatures(babynames[i], B, FIX)\n",
    "        \n",
    "    ### BEGIN SOLUTION\n",
    "    ### END SOLUTION\n",
    "    return X"
   ]
  },
  {
   "cell_type": "code",
   "execution_count": null,
   "metadata": {
    "nbgrader": {
     "grade": true,
     "grade_id": "cell-competition_test",
     "locked": true,
     "points": 0,
     "schema_version": 1,
     "solution": false
    }
   },
   "outputs": [],
   "source": [
    "# Autograder test cell- competition\n",
    "### BEGIN HIDDEN TESTS\n",
    "\n",
    "import numpy as np\n",
    "boy_train_file =  \"boys.train\"\n",
    "girl_train_file = \"girls.train\"\n",
    "boy_test_file =  \"boys.test\"\n",
    "girl_test_file = \"girls.test\"\n",
    "\n",
    "def genTrainFeatures_comp(g=girl_train_file, b=boy_train_file):\n",
    "    with open(b, 'r') as f:\n",
    "        boysList = [x.rstrip() for x in f.readlines() if len(x) > 0]\n",
    "    with open(g, 'r') as f:\n",
    "        girlsList = [x.rstrip() for x in f.readlines() if len(x) > 0]\n",
    "    xTrStr = np.concatenate([girlsList, boysList])\n",
    "    yTr = np.concatenate([-np.ones(len(girlsList)), np.ones(len(boysList))])\n",
    "    ii = np.random.permutation([i for i in range(len(yTr))])\n",
    "    xTrStr = xTrStr[ii]\n",
    "    yTr = yTr[ii]\n",
    "    with open('shuffled.test', 'w') as f:\n",
    "        for name in xTrStr:\n",
    "            f.write('{0}\\n'.format(name))\n",
    "    return name2features2('shuffled.test'), yTr\n",
    "\n",
    "def competition_test():\n",
    "    XTr,YTr = genTrainFeatures_comp()\n",
    "    pos, neg = naivebayesPY_grader(XTr, YTr)\n",
    "    posprob, negprob = naivebayesPXY_grader(XTr, YTr)\n",
    "    XTe,YTe = genTrainFeatures_comp(g= girl_test_file, b=boy_test_file)\n",
    "    # XTe, YTe = genTrainFeatures_comp()\n",
    "    preds = naivebayes_pred(pos, neg, posprob, negprob, XTe)\n",
    "    return analyze_grader(\"acc\", YTe, preds)\n",
    "\n",
    "print('The accuracy of your features on the hidden test set is {:.2f}%'.format(competition_test()*100))\n",
    "\n",
    "### END HIDDEN TESTS"
   ]
  },
  {
   "cell_type": "markdown",
   "metadata": {},
   "source": [
    "<h4>Credits</h4>\n",
    " The name classification idea originates from <a href=\"http://nickm.com\">Nick Montfort</a>."
   ]
  }
 ],
 "metadata": {
  "anaconda-cloud": {},
  "celltoolbar": "Create Assignment",
  "kernelspec": {
   "display_name": "Python 3",
   "language": "python",
   "name": "python3"
  },
  "language_info": {
   "codemirror_mode": {
    "name": "ipython",
    "version": 3
   },
   "file_extension": ".py",
   "mimetype": "text/x-python",
   "name": "python",
   "nbconvert_exporter": "python",
   "pygments_lexer": "ipython3",
   "version": "3.6.5"
  }
 },
 "nbformat": 4,
 "nbformat_minor": 1
}
