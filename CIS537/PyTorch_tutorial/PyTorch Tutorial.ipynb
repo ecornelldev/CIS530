{
 "cells": [
  {
   "cell_type": "markdown",
   "metadata": {},
   "source": [
    "<h1>PyTorch Tutorial</h1>\n",
    "\n",
    "This tutorial serves as a tool for you to get started with CIS537 projects. This tutorial will provide you enough information to finish CIS537 projects that use  [PyTorch](https://pytorch.org/) but it is not meant to be a comprehensive tutorial for PyTorch. For a better and complete tutorial on Pytorch, please check up PyTorch's official tutorial:\n",
    "https://pytorch.org/tutorials/"
   ]
  },
  {
   "cell_type": "markdown",
   "metadata": {},
   "source": [
    "<h3>What is PyTorch?</h3>\n",
    "\n",
    "PyTorch is a python-based deep learning platform that provides GPU support. To start, first import the PyTorch packages and some of its some packages."
   ]
  },
  {
   "cell_type": "code",
   "execution_count": 1,
   "metadata": {},
   "outputs": [],
   "source": [
    "# import PyTorch and its subpackages\n",
    "import torch\n",
    "import torch.nn as nn\n",
    "from torch.nn import functional as F\n",
    "\n",
    "# Also other packages for convenience\n",
    "import numpy as np\n",
    "import helper as h\n",
    "import matplotlib.pyplot as plt"
   ]
  },
  {
   "cell_type": "markdown",
   "metadata": {},
   "source": [
    "<h3>0. Tensors</h3>\n",
    "\n",
    "Tensors are the basic building blocks of PyTorch. They are similar to NumPy's ndarrays. For example, to create a tensor of all zeros with size (3, 2), you can do the following:"
   ]
  },
  {
   "cell_type": "code",
   "execution_count": 2,
   "metadata": {},
   "outputs": [
    {
     "name": "stdout",
     "output_type": "stream",
     "text": [
      "tensor([[0., 0.],\n",
      "        [0., 0.],\n",
      "        [0., 0.]])\n",
      "torch.Size([3, 2])\n"
     ]
    }
   ],
   "source": [
    "X = torch.zeros(3, 2) # this syntax is similar to NumPy. In Numpy, we would do np.zero(3,2)\n",
    "\n",
    "print(X)\n",
    "print(X.shape)"
   ]
  },
  {
   "cell_type": "markdown",
   "metadata": {},
   "source": [
    "You can also convert a NumPy array to a torch Tensor: "
   ]
  },
  {
   "cell_type": "code",
   "execution_count": 3,
   "metadata": {},
   "outputs": [
    {
     "name": "stdout",
     "output_type": "stream",
     "text": [
      "NumPy Array:  [ 0  1  2  3  4  5  6  7  8  9 10 11 12 13 14]\n",
      "Pytorch Tensor:  tensor([ 0,  1,  2,  3,  4,  5,  6,  7,  8,  9, 10, 11, 12, 13, 14])\n"
     ]
    }
   ],
   "source": [
    "X_numpy = np.arange(15)\n",
    "print('NumPy Array: ', X_numpy)\n",
    "\n",
    "X_tensor = torch.tensor(X_numpy)\n",
    "print('Pytorch Tensor: ', X_tensor)"
   ]
  },
  {
   "cell_type": "markdown",
   "metadata": {},
   "source": [
    "You can also convert a torch Tensor to a NumPy array"
   ]
  },
  {
   "cell_type": "code",
   "execution_count": 4,
   "metadata": {},
   "outputs": [
    {
     "name": "stdout",
     "output_type": "stream",
     "text": [
      "[ 0  1  2  3  4  5  6  7  8  9 10 11 12 13 14]\n",
      "<class 'numpy.ndarray'>\n"
     ]
    }
   ],
   "source": [
    "X_tensor_numpy = X_tensor.numpy()\n",
    "\n",
    "print(X_tensor_numpy)\n",
    "print(type(X_tensor_numpy))"
   ]
  },
  {
   "cell_type": "markdown",
   "metadata": {},
   "source": [
    "Just like NumPy, you can do arithmetic operations on torch Tensor"
   ]
  },
  {
   "cell_type": "code",
   "execution_count": 5,
   "metadata": {},
   "outputs": [
    {
     "name": "stdout",
     "output_type": "stream",
     "text": [
      "Addition in Numpy [2 7 9]\n",
      "Addition in PyTorch tensor([2., 7., 9.])\n",
      "\n",
      "Scalar Multiplication in Numpy [3 6 9]\n",
      "Scalar Multiplication in PyTorch tensor([3., 6., 9.])\n",
      "\n",
      "Elementwise Multiplication in Numpy [ 1 10 18]\n",
      "Elementiwse Multiplication in PyTorch tensor([ 1., 10., 18.])\n",
      "\n",
      "Elementwise Multiplication in Numpy 29\n",
      "Elementiwse Multiplication in PyTorch tensor(29.)\n",
      "\n"
     ]
    }
   ],
   "source": [
    "# Create two numpy arrays\n",
    "A = np.array([1, 2, 3])\n",
    "B = np.array([1, 5, 6])\n",
    "\n",
    "# Convert the two numpy arrays into torch Tensor\n",
    "A_tensor = torch.Tensor(A)\n",
    "B_tensor = torch.Tensor(B)\n",
    "\n",
    "# addition / subtraction\n",
    "print('Addition in Numpy', A + B)\n",
    "print('Addition in PyTorch', A_tensor + B_tensor)\n",
    "print()\n",
    "\n",
    "# scalar multiplication\n",
    "print('Scalar Multiplication in Numpy', 3*A)\n",
    "print('Scalar Multiplication in PyTorch', 3*A_tensor)\n",
    "print()\n",
    "\n",
    "# elementwise multiplication\n",
    "print('Elementwise Multiplication in Numpy', A*B)\n",
    "print('Elementiwse Multiplication in PyTorch', A_tensor*B_tensor)\n",
    "print()\n",
    "\n",
    "# matrix multiplication\n",
    "# this is slightly different from NumPy\n",
    "print('Elementwise Multiplication in Numpy', A@B)\n",
    "print('Elementiwse Multiplication in PyTorch', torch.matmul(A_tensor, B_tensor))\n",
    "print()"
   ]
  },
  {
   "cell_type": "markdown",
   "metadata": {},
   "source": [
    "Some other useful tensor operations:"
   ]
  },
  {
   "cell_type": "code",
   "execution_count": 6,
   "metadata": {},
   "outputs": [
    {
     "name": "stdout",
     "output_type": "stream",
     "text": [
      "NumPy:  [ True False False]\n",
      "PyTorch:  tensor([1, 0, 0], dtype=torch.uint8)\n",
      "\n",
      "C [[10  9  8]\n",
      " [ 6  7  5]\n",
      " [ 1  2  3]]\n",
      "\n",
      "NumPy:  [17 18 16]\n",
      "PyTorch:  tensor([17., 18., 16.])\n",
      "\n",
      "NumPy:  [9. 6. 2.]\n",
      "PyTorch:  tensor([9., 6., 2.])\n",
      "\n",
      "NumPy:  [0 1 2]\n",
      "PyTorch:  tensor([0, 1, 2])\n",
      "\n"
     ]
    }
   ],
   "source": [
    "# Elementwise comparison\n",
    "print('NumPy: ', A == B)\n",
    "print('PyTorch: ', A_tensor == B_tensor)\n",
    "print()\n",
    "\n",
    "# Generate a random matrix\n",
    "C = np.array([[10, 9, 8], [6, 7, 5], [1, 2, 3]])\n",
    "C_tensor = torch.Tensor(C)\n",
    "\n",
    "print('C', C)\n",
    "print()\n",
    "\n",
    "# Sum along the row\n",
    "# In NumPy, we specify the axis.\n",
    "# In PyTorch, we specify the dim\n",
    "print('NumPy: ', np.sum(C, axis=0))\n",
    "print('PyTorch: ' ,torch.sum(C_tensor, dim=0))\n",
    "print()\n",
    "\n",
    "# Find the mean along the column\n",
    "# In NumPy, we specify the axis.\n",
    "# In PyTorch, we specify the dim\n",
    "print('NumPy: ', np.mean(C, axis=1))\n",
    "print('PyTorch: ', torch.mean(C_tensor, dim=1))\n",
    "print()\n",
    "\n",
    "\n",
    "# Find the argmax along the column\n",
    "# In NumPy, we specify the axis.\n",
    "# In PyTorch, we specify the dim\n",
    "print('NumPy: ', np.argmax(C, axis=1))\n",
    "print('PyTorch: ', torch.argmax(C_tensor, dim=1))\n",
    "print()"
   ]
  },
  {
   "cell_type": "markdown",
   "metadata": {},
   "source": [
    "<h3>1. Creating a model</h3>\n",
    "\n",
    "In the following sections, we are going to develop a multilayer perceptron for our favorite spiral dataset. To start, let's generate and visualize the dataset. "
   ]
  },
  {
   "cell_type": "code",
   "execution_count": 7,
   "metadata": {},
   "outputs": [
    {
     "data": {
      "image/png": "[encoded data removed]",
      "text/plain": [
       "<Figure size 432x288 with 1 Axes>"
      ]
     },
     "metadata": {
      "needs_background": "light"
     },
     "output_type": "display_data"
    }
   ],
   "source": [
    "# Running the following code with generate\n",
    "# 600 datapoints\n",
    "# 300 in class 0 \n",
    "# 300 in class 1\n",
    "X, y = h.spiraldata(N=300)\n",
    "\n",
    "h.visualize_2D(X.numpy(), y.numpy())"
   ]
  },
  {
   "cell_type": "markdown",
   "metadata": {},
   "source": [
    "Now, we will create a multilayer perceptron. In Pytorch, to create a model, we need to create a model class that overloads <code>nn.Module</code> and implement the <code>forward()</code> function that performs forward propagation."
   ]
  },
  {
   "cell_type": "code",
   "execution_count": 8,
   "metadata": {},
   "outputs": [],
   "source": [
    "# create a model class named MLP\n",
    "# overloads nn.Module \n",
    "\n",
    "# This MLP is a simple multilayer perceptron with 3-hidden layers \n",
    "# with ReLU transition function\n",
    "class MLP(nn.Module):\n",
    "    def __init__(self):\n",
    "        # call the constructor of the inherited module\n",
    "        # this line is always necessary\n",
    "        super().__init__()\n",
    "        \n",
    "        # All the layers with trainable parameters have to be \n",
    "        # defined in the constructor\n",
    "        # Create a linear layer that takes input of dimension 2\n",
    "        # and outputs a vector of dimension 64\n",
    "        # Similarly, create the consequent layers\n",
    "        self.fc1 = nn.Linear(in_features=2, out_features=64)\n",
    "        self.fc2 = nn.Linear(in_features=64, out_features=32)\n",
    "        self.fc3 = nn.Linear(in_features=32, out_features=16)\n",
    "        \n",
    "        # The last layer should output a two dimensional vector\n",
    "        # where the first dimension corresponds to the network's\n",
    "        # belief that the input belongs to class 0\n",
    "        # and similarly, second dimension corresponds to class 1\n",
    "        self.fc4 = nn.Linear(in_features=16, out_features=2)\n",
    "        \n",
    "    def forward(self, x):\n",
    "        # apply the first linear transformation to input x\n",
    "        # then apply the ReLU transition to get the output\n",
    "        # of the first hidden layer o1\n",
    "        # Similar procedures are done to get o2, o3\n",
    "        o1 = F.relu(self.fc1(x))\n",
    "        o2 = F.relu(self.fc2(o1))\n",
    "        o3 = F.relu(self.fc3(o2))\n",
    "        \n",
    "        # We do not apply any transition function to the output\n",
    "        # of the final hidden layer\n",
    "        o4 = self.fc4(o3)\n",
    "        return o4"
   ]
  },
  {
   "cell_type": "markdown",
   "metadata": {},
   "source": [
    "Now, we can instantiate a model and do forward propagation by running the following cell: "
   ]
  },
  {
   "cell_type": "code",
   "execution_count": 9,
   "metadata": {},
   "outputs": [
    {
     "name": "stdout",
     "output_type": "stream",
     "text": [
      "torch.Size([600, 2])\n"
     ]
    }
   ],
   "source": [
    "# Instantiate a model\n",
    "model = MLP()\n",
    "\n",
    "# Run forward propagation\n",
    "logits = model(X)\n",
    "\n",
    "# Print the output of the model\n",
    "# This should be (600, 2)\n",
    "print(logits.shape)"
   ]
  },
  {
   "cell_type": "markdown",
   "metadata": {},
   "source": [
    "<h3>2. Define a loss function</h3>\n",
    "\n",
    "To train a neural network, we need a loss function. Since we are doing a classification problem, we are going to use the cross entropy loss. Luckily, Pytorch has implemented this for us. For a comprehensive list of PyTorch implemented loss function, please check out: https://pytorch.org/docs/1.1.0/nn.html#loss-functions"
   ]
  },
  {
   "cell_type": "code",
   "execution_count": 10,
   "metadata": {},
   "outputs": [],
   "source": [
    "# create the cross entropy loss function\n",
    "# this loss function takes in logits and labels and return the loss value\n",
    "# Concretely, loss_fn(logits, y) returns the cross entropy loss between\n",
    "# the prediction and ground truth\n",
    "loss_fn = nn.CrossEntropyLoss()"
   ]
  },
  {
   "cell_type": "markdown",
   "metadata": {},
   "source": [
    "<h3>3. Define an optimizer </h3>\n",
    "We are going to use an SGD optimizer to optimize our MLP. Conveniently, PyTorch has implemented SGD for us. "
   ]
  },
  {
   "cell_type": "code",
   "execution_count": 11,
   "metadata": {},
   "outputs": [],
   "source": [
    "# torch.optim.SGD is the optimizer that PyTorch implemented\n",
    "# it takes the model's parameter, which you can get by calling\n",
    "# model.parameters()\n",
    "# and learning rate lr\n",
    "optimizer = torch.optim.SGD(model.parameters(), lr=0.1)"
   ]
  },
  {
   "cell_type": "markdown",
   "metadata": {},
   "source": [
    "<h3>4. Training the Network </h3>\n",
    "\n",
    "With all the ingredients we have, we are ready to train our multilayer perceptrons."
   ]
  },
  {
   "cell_type": "code",
   "execution_count": 12,
   "metadata": {},
   "outputs": [
    {
     "name": "stdout",
     "output_type": "stream",
     "text": [
      "Epoch [50/ 2000], Loss: 0.6606 \n",
      "Epoch [100/ 2000], Loss: 0.6544 \n",
      "Epoch [150/ 2000], Loss: 0.6477 \n",
      "Epoch [200/ 2000], Loss: 0.6398 \n",
      "Epoch [250/ 2000], Loss: 0.6321 \n",
      "Epoch [300/ 2000], Loss: 0.6259 \n",
      "Epoch [350/ 2000], Loss: 0.6210 \n",
      "Epoch [400/ 2000], Loss: 0.6199 \n",
      "Epoch [450/ 2000], Loss: 0.6179 \n",
      "Epoch [500/ 2000], Loss: 0.6143 \n",
      "Epoch [550/ 2000], Loss: 0.6031 \n",
      "Epoch [600/ 2000], Loss: 0.5940 \n",
      "Epoch [650/ 2000], Loss: 0.5842 \n",
      "Epoch [700/ 2000], Loss: 0.5568 \n",
      "Epoch [750/ 2000], Loss: 0.5133 \n",
      "Epoch [800/ 2000], Loss: 0.4630 \n",
      "Epoch [850/ 2000], Loss: 0.3506 \n",
      "Epoch [900/ 2000], Loss: 0.2800 \n",
      "Epoch [950/ 2000], Loss: 0.2071 \n",
      "Epoch [1000/ 2000], Loss: 0.1052 \n",
      "Epoch [1050/ 2000], Loss: 0.1117 \n",
      "Epoch [1100/ 2000], Loss: 0.0537 \n",
      "Epoch [1150/ 2000], Loss: 0.0284 \n",
      "Epoch [1200/ 2000], Loss: 0.0189 \n",
      "Epoch [1250/ 2000], Loss: 0.0136 \n",
      "Epoch [1300/ 2000], Loss: 0.0103 \n",
      "Epoch [1350/ 2000], Loss: 0.0082 \n",
      "Epoch [1400/ 2000], Loss: 0.0067 \n",
      "Epoch [1450/ 2000], Loss: 0.0056 \n",
      "Epoch [1500/ 2000], Loss: 0.0048 \n",
      "Epoch [1550/ 2000], Loss: 0.0042 \n",
      "Epoch [1600/ 2000], Loss: 0.0037 \n",
      "Epoch [1650/ 2000], Loss: 0.0033 \n",
      "Epoch [1700/ 2000], Loss: 0.0029 \n",
      "Epoch [1750/ 2000], Loss: 0.0026 \n",
      "Epoch [1800/ 2000], Loss: 0.0024 \n",
      "Epoch [1850/ 2000], Loss: 0.0022 \n",
      "Epoch [1900/ 2000], Loss: 0.0020 \n",
      "Epoch [1950/ 2000], Loss: 0.0019 \n",
      "Epoch [2000/ 2000], Loss: 0.0017 \n"
     ]
    }
   ],
   "source": [
    "# Num_epochs is the number we are going to go through the dataset\n",
    "# This is a simple dataset so we are just going to do a vanilla Gradient Descent\n",
    "# rather than minibatch Stochastic Gradient Descent\n",
    "num_epochs = 2000\n",
    "\n",
    "losses = []\n",
    "for epoch in range(num_epochs):\n",
    "    # Set the model to training mode\n",
    "    # This step is always necessary during training \n",
    "    model.train()\n",
    "    \n",
    "    # PyTorch keeps track of all the gradients generated \n",
    "    # throughout the whole training procedure\n",
    "    # But we only need the gradient of the current time step\n",
    "    # so we need to zero-out the gradient buffer\n",
    "    optimizer.zero_grad()\n",
    "    \n",
    "    # Do forward propagation\n",
    "    logits = model(X)\n",
    "    \n",
    "    # Calculate the loss \n",
    "    loss = loss_fn(logits, y)\n",
    "    \n",
    "    # Do backward propagation\n",
    "    loss.backward()\n",
    "    \n",
    "    # Update the model parameters \n",
    "    optimizer.step()\n",
    "    \n",
    "    # Get the prediction\n",
    "    prediction = torch.argmax(logits, dim=1)\n",
    "    \n",
    "    # PyTorch supports elements elementwise comparison\n",
    "    acc = torch.mean((prediction == y).float())\n",
    "    \n",
    "    losses.append(loss.item())\n",
    "    \n",
    "    # print the loss value every 50 epochs\n",
    "    if (epoch + 1) % 50 == 0:\n",
    "        print('Epoch [{}/ {}], Loss: {:.4f} '.format(epoch + 1, num_epochs, losses[-1]))"
   ]
  },
  {
   "cell_type": "code",
   "execution_count": 13,
   "metadata": {},
   "outputs": [
    {
     "data": {
      "image/png": "[encoded data removed]",
      "text/plain": [
       "<Figure size 432x288 with 1 Axes>"
      ]
     },
     "metadata": {
      "needs_background": "light"
     },
     "output_type": "display_data"
    }
   ],
   "source": [
    "# Plot the training loss\n",
    "plt.plot(range(1, num_epochs + 1), losses, label='Training Loss')\n",
    "plt.xlabel('Epoch')\n",
    "plt.show()"
   ]
  },
  {
   "cell_type": "markdown",
   "metadata": {},
   "source": [
    "<h3>5. Evaluate the Network </h3>"
   ]
  },
  {
   "cell_type": "code",
   "execution_count": 14,
   "metadata": {},
   "outputs": [
    {
     "name": "stdout",
     "output_type": "stream",
     "text": [
      "Accuracy: 100.00%\n"
     ]
    }
   ],
   "source": [
    "# Need to go into eval mode\n",
    "model.eval()\n",
    "\n",
    "# Do a forward pass and tell PyTorch to not keep track of\n",
    "# the gradient calculation to save memory\n",
    "with torch.no_grad():\n",
    "    logits = model(X)\n",
    "\n",
    "# make prediction\n",
    "prediction = torch.argmax(logits, dim=1)\n",
    "\n",
    "# Calculate the accracuy\n",
    "print('Accuracy: {:.2f}%'.format(torch.mean((prediction == y).float()).item() * 100))"
   ]
  },
  {
   "cell_type": "code",
   "execution_count": 15,
   "metadata": {
    "scrolled": true
   },
   "outputs": [
    {
     "data": {
      "image/png": "[encoded data removed]",
      "text/plain": [
       "<Figure size 432x288 with 1 Axes>"
      ]
     },
     "metadata": {
      "needs_background": "light"
     },
     "output_type": "display_data"
    }
   ],
   "source": [
    "# visualize the model\n",
    "h.visclassifier(model, X.numpy(), y.numpy())"
   ]
  },
  {
   "cell_type": "markdown",
   "metadata": {},
   "source": [
    "<h3>(Optional) Exercise</h3>\n",
    "\n",
    "In the following cell, you will create another multilayer perceptron with 2 hidden layers. The first hidden layer has 256 neurons and the second hidden layer has 128 neurons. We have provided the following code stub. What you need to is to fill in the blanks. "
   ]
  },
  {
   "cell_type": "code",
   "execution_count": 22,
   "metadata": {},
   "outputs": [],
   "source": [
    "class MLP_v2(nn.Module):\n",
    "    def __init__(self):\n",
    "        # call the constructor of the inherited module\n",
    "        # this line is always necessary\n",
    "        super().__init__()\n",
    "        \n",
    "        # TODO: fill in the blank with the right layer\n",
    "        self.fc1 = None\n",
    "        self.fc2 = None\n",
    "        self.fc3 = None\n",
    "        \n",
    "    def forward(self, x):\n",
    "        o1 = F.relu(self.fc1(x))\n",
    "        o2 = F.relu(self.fc2(o1))\n",
    "        o3 = self.fc3(o2)\n",
    "        return o3"
   ]
  },
  {
   "cell_type": "code",
   "execution_count": 23,
   "metadata": {},
   "outputs": [
    {
     "ename": "AttributeError",
     "evalue": "'NoneType' object has no attribute 'parameters'",
     "output_type": "error",
     "traceback": [
      "\u001b[0;31m---------------------------------------------------------------------------\u001b[0m",
      "\u001b[0;31mAttributeError\u001b[0m                            Traceback (most recent call last)",
      "\u001b[0;32m<ipython-input-23-70094e5e0e31>\u001b[0m in \u001b[0;36m<module>\u001b[0;34m()\u001b[0m\n\u001b[1;32m      4\u001b[0m \u001b[0;34m\u001b[0m\u001b[0m\n\u001b[1;32m      5\u001b[0m \u001b[0;31m# Checking the size of the parameters in the first layer\u001b[0m\u001b[0;34m\u001b[0m\u001b[0;34m\u001b[0m\u001b[0;34m\u001b[0m\u001b[0m\n\u001b[0;32m----> 6\u001b[0;31m \u001b[0mfc1_parameters\u001b[0m \u001b[0;34m=\u001b[0m \u001b[0mlist\u001b[0m\u001b[0;34m(\u001b[0m\u001b[0mmodel_v2\u001b[0m\u001b[0;34m.\u001b[0m\u001b[0mfc1\u001b[0m\u001b[0;34m.\u001b[0m\u001b[0mparameters\u001b[0m\u001b[0;34m(\u001b[0m\u001b[0;34m)\u001b[0m\u001b[0;34m)\u001b[0m\u001b[0;34m\u001b[0m\u001b[0;34m\u001b[0m\u001b[0m\n\u001b[0m\u001b[1;32m      7\u001b[0m \u001b[0;34m\u001b[0m\u001b[0m\n\u001b[1;32m      8\u001b[0m \u001b[0;31m# the weight should have size (256, 2)\u001b[0m\u001b[0;34m\u001b[0m\u001b[0;34m\u001b[0m\u001b[0;34m\u001b[0m\u001b[0m\n",
      "\u001b[0;31mAttributeError\u001b[0m: 'NoneType' object has no attribute 'parameters'"
     ]
    }
   ],
   "source": [
    "model_v2 = MLP_v2()\n",
    "\n",
    "# If you create the right model, you should be able to pass the following test\n",
    "\n",
    "# Checking the size of the parameters in the first layer\n",
    "fc1_parameters = list(model_v2.fc1.parameters())\n",
    "\n",
    "# the weight should have size (256, 2)\n",
    "assert fc1_parameters[0].shape == (256, 2)\n",
    "# the bias should have size (256, )\n",
    "assert fc1_parameters[1].shape == (256, )\n",
    "\n",
    "# Checking the size of the parameters in the second layer\n",
    "fc2_parameters = list(model_v2.fc2.parameters())\n",
    "assert fc2_parameters[0].shape == (128, 256)\n",
    "assert fc2_parameters[1].shape == (128, )\n",
    "\n",
    "# Checking the size of the parameters in the last layer\n",
    "fc3_parameters = list(model_v2.fc3.parameters())\n",
    "assert fc3_parameters[0].shape == (2, 128)\n",
    "assert fc3_parameters[1].shape == (2, )"
   ]
  },
  {
   "cell_type": "code",
   "execution_count": 24,
   "metadata": {},
   "outputs": [
    {
     "ename": "ValueError",
     "evalue": "optimizer got an empty parameter list",
     "output_type": "error",
     "traceback": [
      "\u001b[0;31m---------------------------------------------------------------------------\u001b[0m",
      "\u001b[0;31mValueError\u001b[0m                                Traceback (most recent call last)",
      "\u001b[0;32m<ipython-input-24-096c0bd587fe>\u001b[0m in \u001b[0;36m<module>\u001b[0;34m()\u001b[0m\n\u001b[1;32m      1\u001b[0m \u001b[0;31m# creating a new optimizer\u001b[0m\u001b[0;34m\u001b[0m\u001b[0;34m\u001b[0m\u001b[0;34m\u001b[0m\u001b[0m\n\u001b[1;32m      2\u001b[0m \u001b[0;31m# Feel free to play around with the learning rate\u001b[0m\u001b[0;34m\u001b[0m\u001b[0;34m\u001b[0m\u001b[0;34m\u001b[0m\u001b[0m\n\u001b[0;32m----> 3\u001b[0;31m \u001b[0moptimizer_v2\u001b[0m \u001b[0;34m=\u001b[0m \u001b[0mtorch\u001b[0m\u001b[0;34m.\u001b[0m\u001b[0moptim\u001b[0m\u001b[0;34m.\u001b[0m\u001b[0mSGD\u001b[0m\u001b[0;34m(\u001b[0m\u001b[0mmodel_v2\u001b[0m\u001b[0;34m.\u001b[0m\u001b[0mparameters\u001b[0m\u001b[0;34m(\u001b[0m\u001b[0;34m)\u001b[0m\u001b[0;34m,\u001b[0m \u001b[0mlr\u001b[0m\u001b[0;34m=\u001b[0m\u001b[0;36m0.1\u001b[0m\u001b[0;34m)\u001b[0m\u001b[0;34m\u001b[0m\u001b[0;34m\u001b[0m\u001b[0m\n\u001b[0m",
      "\u001b[0;32m/home/cheng/anaconda3/lib/python3.7/site-packages/torch/optim/sgd.py\u001b[0m in \u001b[0;36m__init__\u001b[0;34m(self, params, lr, momentum, dampening, weight_decay, nesterov)\u001b[0m\n\u001b[1;32m     62\u001b[0m         \u001b[0;32mif\u001b[0m \u001b[0mnesterov\u001b[0m \u001b[0;32mand\u001b[0m \u001b[0;34m(\u001b[0m\u001b[0mmomentum\u001b[0m \u001b[0;34m<=\u001b[0m \u001b[0;36m0\u001b[0m \u001b[0;32mor\u001b[0m \u001b[0mdampening\u001b[0m \u001b[0;34m!=\u001b[0m \u001b[0;36m0\u001b[0m\u001b[0;34m)\u001b[0m\u001b[0;34m:\u001b[0m\u001b[0;34m\u001b[0m\u001b[0;34m\u001b[0m\u001b[0m\n\u001b[1;32m     63\u001b[0m             \u001b[0;32mraise\u001b[0m \u001b[0mValueError\u001b[0m\u001b[0;34m(\u001b[0m\u001b[0;34m\"Nesterov momentum requires a momentum and zero dampening\"\u001b[0m\u001b[0;34m)\u001b[0m\u001b[0;34m\u001b[0m\u001b[0;34m\u001b[0m\u001b[0m\n\u001b[0;32m---> 64\u001b[0;31m         \u001b[0msuper\u001b[0m\u001b[0;34m(\u001b[0m\u001b[0mSGD\u001b[0m\u001b[0;34m,\u001b[0m \u001b[0mself\u001b[0m\u001b[0;34m)\u001b[0m\u001b[0;34m.\u001b[0m\u001b[0m__init__\u001b[0m\u001b[0;34m(\u001b[0m\u001b[0mparams\u001b[0m\u001b[0;34m,\u001b[0m \u001b[0mdefaults\u001b[0m\u001b[0;34m)\u001b[0m\u001b[0;34m\u001b[0m\u001b[0;34m\u001b[0m\u001b[0m\n\u001b[0m\u001b[1;32m     65\u001b[0m \u001b[0;34m\u001b[0m\u001b[0m\n\u001b[1;32m     66\u001b[0m     \u001b[0;32mdef\u001b[0m \u001b[0m__setstate__\u001b[0m\u001b[0;34m(\u001b[0m\u001b[0mself\u001b[0m\u001b[0;34m,\u001b[0m \u001b[0mstate\u001b[0m\u001b[0;34m)\u001b[0m\u001b[0;34m:\u001b[0m\u001b[0;34m\u001b[0m\u001b[0;34m\u001b[0m\u001b[0m\n",
      "\u001b[0;32m/home/cheng/anaconda3/lib/python3.7/site-packages/torch/optim/optimizer.py\u001b[0m in \u001b[0;36m__init__\u001b[0;34m(self, params, defaults)\u001b[0m\n\u001b[1;32m     43\u001b[0m         \u001b[0mparam_groups\u001b[0m \u001b[0;34m=\u001b[0m \u001b[0mlist\u001b[0m\u001b[0;34m(\u001b[0m\u001b[0mparams\u001b[0m\u001b[0;34m)\u001b[0m\u001b[0;34m\u001b[0m\u001b[0;34m\u001b[0m\u001b[0m\n\u001b[1;32m     44\u001b[0m         \u001b[0;32mif\u001b[0m \u001b[0mlen\u001b[0m\u001b[0;34m(\u001b[0m\u001b[0mparam_groups\u001b[0m\u001b[0;34m)\u001b[0m \u001b[0;34m==\u001b[0m \u001b[0;36m0\u001b[0m\u001b[0;34m:\u001b[0m\u001b[0;34m\u001b[0m\u001b[0;34m\u001b[0m\u001b[0m\n\u001b[0;32m---> 45\u001b[0;31m             \u001b[0;32mraise\u001b[0m \u001b[0mValueError\u001b[0m\u001b[0;34m(\u001b[0m\u001b[0;34m\"optimizer got an empty parameter list\"\u001b[0m\u001b[0;34m)\u001b[0m\u001b[0;34m\u001b[0m\u001b[0;34m\u001b[0m\u001b[0m\n\u001b[0m\u001b[1;32m     46\u001b[0m         \u001b[0;32mif\u001b[0m \u001b[0;32mnot\u001b[0m \u001b[0misinstance\u001b[0m\u001b[0;34m(\u001b[0m\u001b[0mparam_groups\u001b[0m\u001b[0;34m[\u001b[0m\u001b[0;36m0\u001b[0m\u001b[0;34m]\u001b[0m\u001b[0;34m,\u001b[0m \u001b[0mdict\u001b[0m\u001b[0;34m)\u001b[0m\u001b[0;34m:\u001b[0m\u001b[0;34m\u001b[0m\u001b[0;34m\u001b[0m\u001b[0m\n\u001b[1;32m     47\u001b[0m             \u001b[0mparam_groups\u001b[0m \u001b[0;34m=\u001b[0m \u001b[0;34m[\u001b[0m\u001b[0;34m{\u001b[0m\u001b[0;34m'params'\u001b[0m\u001b[0;34m:\u001b[0m \u001b[0mparam_groups\u001b[0m\u001b[0;34m}\u001b[0m\u001b[0;34m]\u001b[0m\u001b[0;34m\u001b[0m\u001b[0;34m\u001b[0m\u001b[0m\n",
      "\u001b[0;31mValueError\u001b[0m: optimizer got an empty parameter list"
     ]
    }
   ],
   "source": [
    "# creating a new optimizer\n",
    "# Feel free to play around with the learning rate\n",
    "optimizer_v2 = torch.optim.SGD(model_v2.parameters(), lr=0.1)"
   ]
  },
  {
   "cell_type": "code",
   "execution_count": 25,
   "metadata": {},
   "outputs": [
    {
     "ename": "TypeError",
     "evalue": "'NoneType' object is not callable",
     "output_type": "error",
     "traceback": [
      "\u001b[0;31m---------------------------------------------------------------------------\u001b[0m",
      "\u001b[0;31mTypeError\u001b[0m                                 Traceback (most recent call last)",
      "\u001b[0;32m<ipython-input-25-1d30278b9159>\u001b[0m in \u001b[0;36m<module>\u001b[0;34m()\u001b[0m\n\u001b[1;32m     15\u001b[0m \u001b[0;34m\u001b[0m\u001b[0m\n\u001b[1;32m     16\u001b[0m     \u001b[0;31m# Do forward propagation\u001b[0m\u001b[0;34m\u001b[0m\u001b[0;34m\u001b[0m\u001b[0;34m\u001b[0m\u001b[0m\n\u001b[0;32m---> 17\u001b[0;31m     \u001b[0mlogits\u001b[0m \u001b[0;34m=\u001b[0m \u001b[0mmodel_v2\u001b[0m\u001b[0;34m(\u001b[0m\u001b[0mX\u001b[0m\u001b[0;34m)\u001b[0m\u001b[0;34m\u001b[0m\u001b[0;34m\u001b[0m\u001b[0m\n\u001b[0m\u001b[1;32m     18\u001b[0m \u001b[0;34m\u001b[0m\u001b[0m\n\u001b[1;32m     19\u001b[0m     \u001b[0;31m# Calculate the loss\u001b[0m\u001b[0;34m\u001b[0m\u001b[0;34m\u001b[0m\u001b[0;34m\u001b[0m\u001b[0m\n",
      "\u001b[0;32m/home/cheng/anaconda3/lib/python3.7/site-packages/torch/nn/modules/module.py\u001b[0m in \u001b[0;36m__call__\u001b[0;34m(self, *input, **kwargs)\u001b[0m\n\u001b[1;32m    491\u001b[0m             \u001b[0mresult\u001b[0m \u001b[0;34m=\u001b[0m \u001b[0mself\u001b[0m\u001b[0;34m.\u001b[0m\u001b[0m_slow_forward\u001b[0m\u001b[0;34m(\u001b[0m\u001b[0;34m*\u001b[0m\u001b[0minput\u001b[0m\u001b[0;34m,\u001b[0m \u001b[0;34m**\u001b[0m\u001b[0mkwargs\u001b[0m\u001b[0;34m)\u001b[0m\u001b[0;34m\u001b[0m\u001b[0;34m\u001b[0m\u001b[0m\n\u001b[1;32m    492\u001b[0m         \u001b[0;32melse\u001b[0m\u001b[0;34m:\u001b[0m\u001b[0;34m\u001b[0m\u001b[0;34m\u001b[0m\u001b[0m\n\u001b[0;32m--> 493\u001b[0;31m             \u001b[0mresult\u001b[0m \u001b[0;34m=\u001b[0m \u001b[0mself\u001b[0m\u001b[0;34m.\u001b[0m\u001b[0mforward\u001b[0m\u001b[0;34m(\u001b[0m\u001b[0;34m*\u001b[0m\u001b[0minput\u001b[0m\u001b[0;34m,\u001b[0m \u001b[0;34m**\u001b[0m\u001b[0mkwargs\u001b[0m\u001b[0;34m)\u001b[0m\u001b[0;34m\u001b[0m\u001b[0;34m\u001b[0m\u001b[0m\n\u001b[0m\u001b[1;32m    494\u001b[0m         \u001b[0;32mfor\u001b[0m \u001b[0mhook\u001b[0m \u001b[0;32min\u001b[0m \u001b[0mself\u001b[0m\u001b[0;34m.\u001b[0m\u001b[0m_forward_hooks\u001b[0m\u001b[0;34m.\u001b[0m\u001b[0mvalues\u001b[0m\u001b[0;34m(\u001b[0m\u001b[0;34m)\u001b[0m\u001b[0;34m:\u001b[0m\u001b[0;34m\u001b[0m\u001b[0;34m\u001b[0m\u001b[0m\n\u001b[1;32m    495\u001b[0m             \u001b[0mhook_result\u001b[0m \u001b[0;34m=\u001b[0m \u001b[0mhook\u001b[0m\u001b[0;34m(\u001b[0m\u001b[0mself\u001b[0m\u001b[0;34m,\u001b[0m \u001b[0minput\u001b[0m\u001b[0;34m,\u001b[0m \u001b[0mresult\u001b[0m\u001b[0;34m)\u001b[0m\u001b[0;34m\u001b[0m\u001b[0;34m\u001b[0m\u001b[0m\n",
      "\u001b[0;32m<ipython-input-22-00f17ec86c64>\u001b[0m in \u001b[0;36mforward\u001b[0;34m(self, x)\u001b[0m\n\u001b[1;32m     11\u001b[0m \u001b[0;34m\u001b[0m\u001b[0m\n\u001b[1;32m     12\u001b[0m     \u001b[0;32mdef\u001b[0m \u001b[0mforward\u001b[0m\u001b[0;34m(\u001b[0m\u001b[0mself\u001b[0m\u001b[0;34m,\u001b[0m \u001b[0mx\u001b[0m\u001b[0;34m)\u001b[0m\u001b[0;34m:\u001b[0m\u001b[0;34m\u001b[0m\u001b[0;34m\u001b[0m\u001b[0m\n\u001b[0;32m---> 13\u001b[0;31m         \u001b[0mo1\u001b[0m \u001b[0;34m=\u001b[0m \u001b[0mF\u001b[0m\u001b[0;34m.\u001b[0m\u001b[0mrelu\u001b[0m\u001b[0;34m(\u001b[0m\u001b[0mself\u001b[0m\u001b[0;34m.\u001b[0m\u001b[0mfc1\u001b[0m\u001b[0;34m(\u001b[0m\u001b[0mx\u001b[0m\u001b[0;34m)\u001b[0m\u001b[0;34m)\u001b[0m\u001b[0;34m\u001b[0m\u001b[0;34m\u001b[0m\u001b[0m\n\u001b[0m\u001b[1;32m     14\u001b[0m         \u001b[0mo2\u001b[0m \u001b[0;34m=\u001b[0m \u001b[0mF\u001b[0m\u001b[0;34m.\u001b[0m\u001b[0mrelu\u001b[0m\u001b[0;34m(\u001b[0m\u001b[0mself\u001b[0m\u001b[0;34m.\u001b[0m\u001b[0mfc2\u001b[0m\u001b[0;34m(\u001b[0m\u001b[0mo1\u001b[0m\u001b[0;34m)\u001b[0m\u001b[0;34m)\u001b[0m\u001b[0;34m\u001b[0m\u001b[0;34m\u001b[0m\u001b[0m\n\u001b[1;32m     15\u001b[0m         \u001b[0mo3\u001b[0m \u001b[0;34m=\u001b[0m \u001b[0mself\u001b[0m\u001b[0;34m.\u001b[0m\u001b[0mfc3\u001b[0m\u001b[0;34m(\u001b[0m\u001b[0mo2\u001b[0m\u001b[0;34m)\u001b[0m\u001b[0;34m\u001b[0m\u001b[0;34m\u001b[0m\u001b[0m\n",
      "\u001b[0;31mTypeError\u001b[0m: 'NoneType' object is not callable"
     ]
    }
   ],
   "source": [
    "# Train the model\n",
    "num_epochs = 2000\n",
    "\n",
    "losses = []\n",
    "for epoch in range(num_epochs):\n",
    "    # Set the model to training mode\n",
    "    # This step is always necessary during training \n",
    "    model_v2.train()\n",
    "    \n",
    "    # PyTorch keeps track of all the gradients generated \n",
    "    # throughout the whole training procedure\n",
    "    # But we only need the gradient of the current time step\n",
    "    # so we need to zero-out the gradient buffer\n",
    "    optimizer_v2.zero_grad()\n",
    "    \n",
    "    # Do forward propagation\n",
    "    logits = model_v2(X)\n",
    "    \n",
    "    # Calculate the loss \n",
    "    loss = loss_fn(logits, y)\n",
    "    \n",
    "    # Do backward propagation\n",
    "    loss.backward()\n",
    "    \n",
    "    # Update the model parameters \n",
    "    optimizer_v2.step()\n",
    "    \n",
    "    # Get the prediction\n",
    "    prediction = torch.argmax(logits, dim=1)\n",
    "    \n",
    "    # PyTorch supports elements elementwise comparison\n",
    "    acc = torch.mean((prediction == y).float())\n",
    "    \n",
    "    losses.append(loss.item())\n",
    "    \n",
    "    # print the loss value every 50 epochs\n",
    "    if (epoch + 1) % 50 == 0:\n",
    "        print('Epoch [{}/ {}], Loss: {:.4f} '.format(epoch + 1, num_epochs, losses[-1]))"
   ]
  },
  {
   "cell_type": "code",
   "execution_count": 20,
   "metadata": {},
   "outputs": [
    {
     "name": "stdout",
     "output_type": "stream",
     "text": [
      "Accuracy: 100.00%\n"
     ]
    }
   ],
   "source": [
    "# Evaluate the model\n",
    "# Need to go into eval mode\n",
    "model_v2.eval()\n",
    "\n",
    "# Do a forward pass and tell PyTorch to not keep track of\n",
    "# the gradient calculation to save memory\n",
    "with torch.no_grad():\n",
    "    logits = model_v2(X)\n",
    "\n",
    "# make prediction\n",
    "prediction = torch.argmax(logits, dim=1)\n",
    "\n",
    "# Calculate the accracuy\n",
    "print('Accuracy: {:.2f}%'.format(torch.mean((prediction == y).float()).item() * 100))"
   ]
  },
  {
   "cell_type": "code",
   "execution_count": 21,
   "metadata": {},
   "outputs": [
    {
     "data": {
      "image/png": "[encoded data removed]",
      "text/plain": [
       "<Figure size 432x288 with 1 Axes>"
      ]
     },
     "metadata": {
      "needs_background": "light"
     },
     "output_type": "display_data"
    }
   ],
   "source": [
    "# visualize the model\n",
    "h.visclassifier(model_v2, X.numpy(), y.numpy())"
   ]
  }
 ],
 "metadata": {
  "kernelspec": {
   "display_name": "Python 3",
   "language": "python",
   "name": "python3"
  },
  "language_info": {
   "codemirror_mode": {
    "name": "ipython",
    "version": 3
   },
   "file_extension": ".py",
   "mimetype": "text/x-python",
   "name": "python",
   "nbconvert_exporter": "python",
   "pygments_lexer": "ipython3",
   "version": "3.7.3"
  }
 },
 "nbformat": 4,
 "nbformat_minor": 2
}
