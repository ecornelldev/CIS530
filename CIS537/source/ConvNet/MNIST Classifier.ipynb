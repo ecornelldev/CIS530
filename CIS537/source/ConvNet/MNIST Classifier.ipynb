{
 "cells": [
  {
   "cell_type": "markdown",
   "metadata": {},
   "source": [
    "## About this Project\n",
    "\n",
    "In this project, you will implement a simple convolutional neural network that can recognize digits using [PyTorch](https://pytorch.org/).\n",
    "\n",
    "<h3>Evaluation</h3>\n",
    "\n",
    "<p><strong>This project must be successfully completed and submitted in order to receive credit for this course. Your score on this project will be included in your final grade calculation.</strong><p>\n",
    "    \n",
    "<p>You are expected to write code where you see <em># YOUR CODE HERE</em> within the cells of this notebook. Not all cells will be graded; code input cells followed by cells marked with <em>#Autograder test cell</em> will be graded. Upon submitting your work, the code you write at these designated positions will be assessed using an \"autograder\" that will run all test cells to assess your code. You will receive feedback from the autograder that will identify any errors in your code. Use this feedback to improve your code if you need to resubmit. Be sure not to change the names of any provided functions, classes, or variables within the existing code cells, as this will interfere with the autograder. Also, remember to execute all code cells sequentially, not just those you’ve edited, to ensure your code runs properly.</p>\n",
    "    \n",
    "<p>You can resubmit your work as many times as necessary before the submission deadline. If you experience difficulty or have questions about this exercise, use the Q&A discussion board to engage with your peers or seek assistance from the instructor.<p>\n",
    "\n",
    "<p>Before starting your work, please review <a href=\"https://s3.amazonaws.com/ecornell/global/eCornellPlagiarismPolicy.pdf\">eCornell's policy regarding plagiarism</a> (the presentation of someone else's work as your own without source credit).</p>\n",
    "\n",
    "<h3>Submit Code for Autograder Feedback</h3>\n",
    "\n",
    "<p>Once you have completed your work on this notebook, you will submit your code for autograder review. Follow these steps:</p>\n",
    "\n",
    "<ol>\n",
    "  <li><strong>Save your notebook.</strong></li>\n",
    "  <li><strong>Mark as Completed —</strong> In the blue menu bar along the top of this code exercise window, you’ll see a menu item called <strong>Education</strong>. In the <strong>Education</strong> menu, click <strong>Mark as Completed</strong> to submit your code for autograder/instructor review. This process will take a moment and a progress bar will show you the status of your submission.</li>\n",
    "\t<li><strong>Review your results —</strong> Once your work is marked as complete, the results of the autograder will automatically be presented in a new tab within the code exercise window. You can click on the assessment name in this feedback window to see more details regarding specific feedback/errors in your code submission.</li>\n",
    "  <li><strong>Repeat, if necessary —</strong> The Jupyter notebook will always remain accessible in the first tabbed window of the exercise. To reattempt the work, you will first need to click <strong>Mark as Uncompleted</strong> in the <strong>Education</strong> menu and then proceed to make edits to the notebook. Once you are ready to resubmit, follow steps one through three. You can repeat this procedure as many times as necessary.</li>\n",
    "\n",
    "<p>You can also download a copy of this notebook in multiple formats using the <strong>Download as</strong> option in the <strong>File</strong> menu above.</p>"
   ]
  },
  {
   "cell_type": "markdown",
   "metadata": {
    "nbgrader": {
     "grade": false,
     "grade_id": "cell-081551474357d106",
     "locked": true,
     "schema_version": 1,
     "solution": false
    }
   },
   "source": [
    "<h2>Getting Started</h2>\n",
    "<h3>Python Initialization</h3> \n",
    "\n",
    "Please run the following code to initialize your Python kernel. You should be running a version of Python 3.x. </p>"
   ]
  },
  {
   "cell_type": "code",
   "execution_count": 18,
   "metadata": {},
   "outputs": [
    {
     "name": "stdout",
     "output_type": "stream",
     "text": [
      "The autoreload extension is already loaded. To reload it, use:\n",
      "  %reload_ext autoreload\n"
     ]
    }
   ],
   "source": [
    "%load_ext autoreload"
   ]
  },
  {
   "cell_type": "code",
   "execution_count": 19,
   "metadata": {},
   "outputs": [],
   "source": [
    "%%capture\n",
    "from tqdm import tqdm_notebook as tqdm\n",
    "tqdm().pandas()"
   ]
  },
  {
   "cell_type": "code",
   "execution_count": 20,
   "metadata": {
    "nbgrader": {
     "grade": false,
     "grade_id": "cell-896c31b5bcfa5761",
     "locked": true,
     "schema_version": 1,
     "solution": false
    }
   },
   "outputs": [
    {
     "name": "stdout",
     "output_type": "stream",
     "text": [
      "You're running python 3.7.3\n"
     ]
    }
   ],
   "source": [
    "%autoreload 2\n",
    "# First off, import some packages\n",
    "import torch\n",
    "import torch.nn as nn\n",
    "from torch.nn import functional as F\n",
    "\n",
    "from torchvision import datasets, transforms\n",
    "import torchvision\n",
    "\n",
    "import numpy as np\n",
    "import matplotlib.pyplot as plt\n",
    "from helper import *\n",
    "\n",
    "%matplotlib notebook\n",
    "print('You\\'re running python %s' % sys.version.split(' ')[0])"
   ]
  },
  {
   "cell_type": "code",
   "execution_count": 21,
   "metadata": {
    "nbgrader": {
     "grade": false,
     "grade_id": "cell-6364b6b1c447165b",
     "locked": true,
     "schema_version": 1,
     "solution": false
    }
   },
   "outputs": [
    {
     "name": "stdout",
     "output_type": "stream",
     "text": [
      "GPU is available: False\n"
     ]
    }
   ],
   "source": [
    "# Seed the random number generator\n",
    "torch.manual_seed(1)\n",
    "torch.cuda.manual_seed(1)\n",
    "\n",
    "# Check whether you have a gpu\n",
    "# If you have a gpu, model training will be done on gpu\n",
    "# which is significantly faster than training on cpu\n",
    "gpu_available = torch.cuda.is_available()\n",
    "print (\"GPU is available:\",gpu_available)"
   ]
  },
  {
   "cell_type": "markdown",
   "metadata": {
    "nbgrader": {
     "grade": false,
     "grade_id": "cell-dcc8a6150cf1dbd1",
     "locked": true,
     "schema_version": 1,
     "solution": false
    }
   },
   "source": [
    "## Convolutional Neural Network\n",
    "\n",
    "### Part 1:  Loading the Dataset and Setting up Dataloader"
   ]
  },
  {
   "cell_type": "code",
   "execution_count": 10,
   "metadata": {
    "nbgrader": {
     "grade": false,
     "grade_id": "cell-55e2fb707fa3e14f",
     "locked": true,
     "schema_version": 1,
     "solution": false
    }
   },
   "outputs": [],
   "source": [
    "# Setup the training set and test set\n",
    "trainset = datasets.MNIST(root='.', train=True, download=True, transform=transforms.ToTensor())\n",
    "testset = datasets.MNIST(root='.', train=False, download=True, transform=transforms.ToTensor())\n",
    "\n",
    "# Setting up dataloader\n",
    "# A dataloader stacks small batches (128 in our case) of dataset \n",
    "# into Tensor for ease of training.\n",
    "trainloader = torch.utils.data.DataLoader(trainset, shuffle=True, drop_last=True, batch_size=128)\n",
    "testloader = torch.utils.data.DataLoader(testset, shuffle=True, drop_last=False, batch_size=128)"
   ]
  },
  {
   "cell_type": "code",
   "execution_count": 11,
   "metadata": {
    "nbgrader": {
     "grade": false,
     "grade_id": "cell-eb179de0d1718600",
     "locked": true,
     "schema_version": 1,
     "solution": false
    }
   },
   "outputs": [
    {
     "data": {
      "image/png": "[encoded data removed]",
      "text/plain": [
       "<Figure size 432x288 with 1 Axes>"
      ]
     },
     "metadata": {
      "needs_background": "light"
     },
     "output_type": "display_data"
    }
   ],
   "source": [
    "# Visualize the data\n",
    "# The following line gets us small batch of data\n",
    "# X is a tensor of size (128, 1, 28, 28) that contains\n",
    "# a batch of images\n",
    "# y is a tensor of size (128) that contains the labels  \n",
    "# in X\n",
    "X, y = iter(trainloader).next()\n",
    "\n",
    "def visualize_data(X):\n",
    "    img_grid = torchvision.utils.make_grid(X[:5], padding=10)\n",
    "    img_grid = img_grid.numpy()\n",
    "    plt.imshow(np.transpose(img_grid, (1,2,0)), interpolation='nearest')\n",
    "    return\n",
    "\n",
    "visualize_data(X)"
   ]
  },
  {
   "cell_type": "markdown",
   "metadata": {
    "nbgrader": {
     "grade": false,
     "grade_id": "cell-efd6981d42af915f",
     "locked": true,
     "schema_version": 1,
     "solution": false
    }
   },
   "source": [
    "### Part 2: Define a convolutional neural network [Partially Graded]\n",
    "#### Define a building block of a convolutional neural network"
   ]
  },
  {
   "cell_type": "code",
   "execution_count": 22,
   "metadata": {
    "nbgrader": {
     "grade": false,
     "grade_id": "cell-8bff8e61e67cc7cb",
     "locked": true,
     "schema_version": 1,
     "solution": false
    }
   },
   "outputs": [],
   "source": [
    "class Block(nn.Module):\n",
    "    def __init__(self, in_channel, out_channel, kernel_size=3, stride=1):\n",
    "        super(Block, self).__init__()\n",
    "        \n",
    "        self.in_channel = in_channel\n",
    "        self.out_channel = out_channel\n",
    "        self.kernel_size = kernel_size\n",
    "        self.stride = stride\n",
    "        \n",
    "        # This block contains a convolutional layer\n",
    "        # then a batch normalization layer\n",
    "        \n",
    "        self.conv = nn.Conv2d(in_channel, out_channel, kernel_size, stride)\n",
    "        self.bn = nn.BatchNorm2d(out_channel)\n",
    "        return\n",
    "    \n",
    "    def forward(self, x):\n",
    "        # passes the input image through a convolutional layer\n",
    "        # followed by a batch normalization layer and relu transition\n",
    "        out = F.relu(self.bn(self.conv(x)))\n",
    "        return out"
   ]
  },
  {
   "cell_type": "code",
   "execution_count": 23,
   "metadata": {
    "nbgrader": {
     "grade": false,
     "grade_id": "cell-a91136f959810d8a",
     "locked": true,
     "schema_version": 1,
     "solution": false
    }
   },
   "outputs": [
    {
     "name": "stdout",
     "output_type": "stream",
     "text": [
      "torch.Size([128, 10, 26, 26])\n"
     ]
    }
   ],
   "source": [
    "# Create a block that is made up of 10 filters size 3x3 and stride 1\n",
    "\n",
    "# The block takes in a image of 1 channel\n",
    "Block1 = Block(1, 10, 3, 1)\n",
    "out = Block1(X)\n",
    "\n",
    "# After passing our image through block 1\n",
    "# we get the following tensor\n",
    "print(out.shape)"
   ]
  },
  {
   "cell_type": "markdown",
   "metadata": {
    "nbgrader": {
     "grade": false,
     "grade_id": "cell-06808082df76e1d2",
     "locked": true,
     "schema_version": 1,
     "solution": false
    }
   },
   "source": [
    "#### Build a convolutional neural network using the block class [Graded]\n",
    "In this section, you will build a convolutional network that consists of 4 blocks, an average pooling layer and a fully connected layer. We have created the first block for you. What you need to do is create the rest of the blocks based on the specification.  \n",
    "\n",
    "You can see that `self.block1` is initialized with `Block()`. Below it are the specs for the other 3 blocks.\n",
    "\n",
    "In other words, your solution should be 3 lines that intialize `self.block2`, `self.block3`, and `self.block4` where it says `# Your code here`. You need to pass in the appropriate parameters to `Block(input_size, num_filters,kernel_size, stride)`. Note that the input of one layer is the output of the previous layer.\n",
    "\n",
    "Please do not change the name of the layers or else you risk breaking the autograder code!"
   ]
  },
  {
   "cell_type": "code",
   "execution_count": 25,
   "metadata": {
    "nbgrader": {
     "grade": false,
     "grade_id": "cell-convnet",
     "locked": false,
     "schema_version": 1,
     "solution": true
    }
   },
   "outputs": [],
   "source": [
    "class ConvNet(nn.Module):\n",
    "    def __init__(self):\n",
    "        super(ConvNet, self).__init__() \n",
    "        # First block takes in the image\n",
    "        # Filter specification:\n",
    "            # Num filters=16, kernel size 3, stride 1\n",
    "        self.block1 = Block(1, 16, 3, 1)\n",
    "        \n",
    "        # TODO\n",
    "        # Second block takes in the output of the first block\n",
    "        # Filter specification:\n",
    "            # Num filters=32, kernel size 3, stride 1\n",
    "        self.block2 = None\n",
    "        \n",
    "        # TODO\n",
    "        # Third block takes in the output of the 2nd block\n",
    "        # Filter specification:\n",
    "            # Num filters=64, kernel size 3, stride 1\n",
    "        self.block3 = None\n",
    "        \n",
    "        # TODO\n",
    "        # Third block takes in the output of the 3rd block\n",
    "        # Filter specification:\n",
    "            # Num filters=128, kernel size 3, stride 1\n",
    "        self.block4 = None\n",
    "        \n",
    "        # This is the average pooling layer\n",
    "        # This is applied to the output of the last convolutional layer\n",
    "        # Essentially, it averages feature maps spatially to a single number\n",
    "        # For instance, if the output of the last conv layer is of size (128, 15, 4, 4)\n",
    "        # the following layer will average the 4x4 array into a single number\n",
    "        # so the output of applying this layer would have size (128, 15, 1, 1)\n",
    "        # This operation vectorize the feature maps so that we can have a vector\n",
    "        # that can be passed into a simple linear layer for classification\n",
    "        self.avgpool = nn.AdaptiveAvgPool2d(1)\n",
    "        \n",
    "        # Create a linear layer\n",
    "        # the dataset has 10 classes\n",
    "        # the model should output 10 belief values\n",
    "        self.fc = nn.Linear(128, 10)\n",
    "        \n",
    "        # BEGIN SOLUTION\n",
    "        self.block2 = Block(16, 32, 3, 1)\n",
    "        self.block3 = Block(32, 64, 3, 1)\n",
    "        self.block4 = Block(64, 128, 3, 1)\n",
    "        # END SOLUTION\n",
    "        return\n",
    "    \n",
    "    def forward(self, x):\n",
    "        batch_size = x.size(0)\n",
    "        out = self.block1(x)\n",
    "        out = self.block2(out)\n",
    "        out = self.block3(out)\n",
    "        out = self.block4(out)\n",
    "        \n",
    "        # .squeeze() operation remove unnecessary dimension\n",
    "        # i.e if X is of shape (128, 128, 1, 1)\n",
    "        # X.unsqueeze() becomes (128, 128)\n",
    "        out = self.avgpool(out).squeeze()\n",
    "        out = self.fc(out)\n",
    "        return out"
   ]
  },
  {
   "cell_type": "code",
   "execution_count": 26,
   "metadata": {
    "nbgrader": {
     "grade": false,
     "grade_id": "cell-24c0e993188b8dcc",
     "locked": true,
     "schema_version": 1,
     "solution": false
    }
   },
   "outputs": [],
   "source": [
    "# Create a model\n",
    "model = ConvNet()\n",
    "\n",
    "# Move the model to a cuda gpu\n",
    "# Doing this step allows up to do training on gpu\n",
    "# and gain significant speed up\n",
    "if gpu_available:\n",
    "    model = model.cuda()"
   ]
  },
  {
   "cell_type": "code",
   "execution_count": 27,
   "metadata": {
    "nbgrader": {
     "grade": false,
     "grade_id": "cell-model_selftest",
     "locked": true,
     "schema_version": 1,
     "solution": false
    }
   },
   "outputs": [
    {
     "name": "stdout",
     "output_type": "stream",
     "text": [
      "Running Test: model_test1 ... ✔ Passed!\n",
      "Running Test: model_test2 ... ✔ Passed!\n",
      "Running Test: model_test3 ... ✔ Passed!\n",
      "Running Test: model_test4 ... ✔ Passed!\n"
     ]
    }
   ],
   "source": [
    "def model_test1():\n",
    "    \n",
    "    model = ConvNet()\n",
    "    \n",
    "    if gpu_available:\n",
    "        model = model.cuda()\n",
    "    # check whether block2, 3, 4 are instances of block\n",
    "    isblock2 = isinstance(model.block2, Block)\n",
    "    isblock3 = isinstance(model.block3, Block)\n",
    "    isblock4 = isinstance(model.block3, Block)\n",
    "    return isblock2 and isblock3 and isblock4\n",
    "    \n",
    "\n",
    "def model_test2():\n",
    "    model = ConvNet()\n",
    "    \n",
    "    if gpu_available:\n",
    "        model = model.cuda()\n",
    "    # Checking the specification for block 2\n",
    "    \n",
    "    # Check input channel\n",
    "    in_channel_check = model.block2.in_channel == 16\n",
    "    \n",
    "    # Check the output channel\n",
    "    out_channel_check = model.block2.out_channel == 32\n",
    "    \n",
    "    # Check the kernel size\n",
    "    kernel_size_check = model.block2.kernel_size == 3\n",
    "    \n",
    "    # check the stride size\n",
    "    stride_check = model.block2.stride == 1\n",
    "    return in_channel_check and out_channel_check and kernel_size_check and stride_check\n",
    "\n",
    "def model_test3():\n",
    "    model = ConvNet()\n",
    "    \n",
    "    if gpu_available:\n",
    "        model = model.cuda()\n",
    "    # Checking the specification for block 3\n",
    "    \n",
    "    # Check input channel\n",
    "    in_channel_check = model.block3.in_channel == 32\n",
    "    \n",
    "    # Check the output channel\n",
    "    out_channel_check = model.block3.out_channel == 64\n",
    "    \n",
    "    # Check the kernel size\n",
    "    kernel_size_check = model.block3.kernel_size == 3\n",
    "    \n",
    "    # check the stride size\n",
    "    stride_check = model.block3.stride == 1\n",
    "    return in_channel_check and out_channel_check and kernel_size_check and stride_check\n",
    "\n",
    "def model_test4():\n",
    "    model = ConvNet()\n",
    "    \n",
    "    if gpu_available:\n",
    "        model = model.cuda()\n",
    "    # Checking the specification for block 3\n",
    "    \n",
    "    # Check input channel\n",
    "    in_channel_check = model.block4.in_channel == 64\n",
    "    \n",
    "    # Check the output channel\n",
    "    out_channel_check = model.block4.out_channel == 128\n",
    "    \n",
    "    # Check the kernel size\n",
    "    kernel_size_check = model.block4.kernel_size == 3\n",
    "    \n",
    "    # check the stride size\n",
    "    stride_check = model.block4.stride == 1\n",
    "    return in_channel_check and out_channel_check and kernel_size_check and stride_check\n",
    "\n",
    "\n",
    "runtest(model_test1, 'model_test1')\n",
    "runtest(model_test2, 'model_test2')\n",
    "runtest(model_test3, 'model_test3')\n",
    "runtest(model_test4, 'model_test4')"
   ]
  },
  {
   "cell_type": "code",
   "execution_count": 28,
   "metadata": {
    "nbgrader": {
     "grade": true,
     "grade_id": "cell-model_test1",
     "locked": true,
     "points": 1,
     "schema_version": 1,
     "solution": false
    }
   },
   "outputs": [],
   "source": [
    "# Autograder Test Cell\n",
    "# model_test1\n",
    "\n",
    "### BEGIN HIDDEN TESTS\n",
    "assert model_test1()\n",
    "### END HIDDEN TESTS"
   ]
  },
  {
   "cell_type": "code",
   "execution_count": 29,
   "metadata": {
    "nbgrader": {
     "grade": true,
     "grade_id": "cell-model_test2",
     "locked": true,
     "points": 1,
     "schema_version": 1,
     "solution": false
    }
   },
   "outputs": [],
   "source": [
    "# Autograder Test Cell\n",
    "# model_test2\n",
    "\n",
    "### BEGIN HIDDEN TESTS\n",
    "assert model_test2()\n",
    "### END HIDDEN TESTS"
   ]
  },
  {
   "cell_type": "code",
   "execution_count": 30,
   "metadata": {
    "nbgrader": {
     "grade": true,
     "grade_id": "cell-model_test3",
     "locked": true,
     "points": 1,
     "schema_version": 1,
     "solution": false
    }
   },
   "outputs": [],
   "source": [
    "# Autograder Test Cell\n",
    "# model_test3\n",
    "\n",
    "### BEGIN HIDDEN TESTS\n",
    "assert model_test3()\n",
    "### END HIDDEN TESTS"
   ]
  },
  {
   "cell_type": "code",
   "execution_count": 31,
   "metadata": {
    "nbgrader": {
     "grade": true,
     "grade_id": "cell-model_test4",
     "locked": true,
     "points": 1,
     "schema_version": 1,
     "solution": false
    }
   },
   "outputs": [],
   "source": [
    "# Autograder Test Cell\n",
    "# model_test4\n",
    "\n",
    "### BEGIN HIDDEN TESTS\n",
    "assert model_test4()\n",
    "### END HIDDEN TESTS"
   ]
  },
  {
   "cell_type": "markdown",
   "metadata": {
    "nbgrader": {
     "grade": false,
     "grade_id": "cell-cbde36d56f80c39f",
     "locked": true,
     "schema_version": 1,
     "solution": false
    }
   },
   "source": [
    "### Part 3: Define a Loss Function and Optimizer [Graded] \n",
    "\n",
    "You are going to define the loss function and the optimizer. You should familiarize yourself with looking up PyTorch documentation.\n",
    "\n",
    "#### Loss function [Graded]\n",
    "The loss function should be the **cross entropy loss**. You can also implement the loss function yourself but we strongly suggest you use PyTorch's implementation -- it should be one short call to a [library](https://pytorch.org/docs/stable/nn.html) function."
   ]
  },
  {
   "cell_type": "code",
   "execution_count": 32,
   "metadata": {
    "nbgrader": {
     "grade": false,
     "grade_id": "cell-42bd2eb0908f0a09",
     "locked": false,
     "schema_version": 1,
     "solution": true
    }
   },
   "outputs": [],
   "source": [
    "#TODO: Define the loss function\n",
    "loss_fn = None\n",
    "\n",
    "### BEGIN SOLUTION\n",
    "loss_fn = nn.CrossEntropyLoss()\n",
    "### END SOLUTION"
   ]
  },
  {
   "cell_type": "code",
   "execution_count": 33,
   "metadata": {},
   "outputs": [
    {
     "name": "stdout",
     "output_type": "stream",
     "text": [
      "Running Test: loss_fn_test1 ... ✔ Passed!\n",
      "Running Test: loss_fn_test2 ... ✔ Passed!\n",
      "Running Test: loss_fn_test3 ... ✔ Passed!\n"
     ]
    }
   ],
   "source": [
    "def loss_fn_test1():\n",
    "    num_classes = 10 # Suppose we have 10 classes \n",
    "    num_examples = 5\n",
    "    logits = torch.ones((num_examples, num_classes)) # Simulate model belief\n",
    "    loss = loss_fn(logits, torch.zeros(num_examples).long()) # calculate the loss\n",
    "    \n",
    "    # Check whether the loss is a scalar\n",
    "    return loss.size() == torch.Size([])\n",
    "\n",
    "def loss_fn_test2():\n",
    "    num_classes = 10 # Suppose we have 10 classes \n",
    "    \n",
    "    # simulate model belief\n",
    "    # in this case, the model believes that each class is equally likely\n",
    "    logits = torch.ones((1, num_classes)) \n",
    "    loss = loss_fn(logits, torch.zeros(1).long()) # calculate the loss\n",
    "    \n",
    "    # if the model has equal belief for each class, namely, P(y|x) is uniform\n",
    "    # the negative loglikelihood should be -log(1 /num_classes) = log(num_classes)\n",
    "    return (loss.item() == torch.log(torch.Tensor([num_classes])).item())\n",
    "\n",
    "def loss_fn_test3():\n",
    "    \n",
    "    num_classes = 10 # Suppose we have 10 classes\n",
    "    num_examples = 5 \n",
    "    \n",
    "    # simulate model belief\n",
    "    # in this case, the model believes that each class is equally likely\n",
    "    logits = torch.rand((num_examples, num_classes)) \n",
    "    \n",
    "    loss = loss_fn(logits, torch.zeros(num_examples).long())\n",
    "    loss_grader = loss_fn_grader(logits, torch.zeros(num_examples).long())\n",
    "    \n",
    "    # Check whether your loss and our loss is almost the same\n",
    "    return (torch.abs(loss - loss_grader)).item() < 1e-5\n",
    "\n",
    "\n",
    "runtest(loss_fn_test1, 'loss_fn_test1')\n",
    "runtest(loss_fn_test2, 'loss_fn_test2')\n",
    "runtest(loss_fn_test3, 'loss_fn_test3')"
   ]
  },
  {
   "cell_type": "code",
   "execution_count": 34,
   "metadata": {
    "nbgrader": {
     "grade": true,
     "grade_id": "cell-e0f46d1911c83096",
     "locked": true,
     "points": 1,
     "schema_version": 1,
     "solution": false
    }
   },
   "outputs": [],
   "source": [
    "# Autograder Test Cell\n",
    "# loss_fn_test1\n",
    "\n",
    "### BEGIN HIDDEN TESTS\n",
    "assert loss_fn_test1()\n",
    "### END HIDDEN TESTS"
   ]
  },
  {
   "cell_type": "code",
   "execution_count": 35,
   "metadata": {
    "nbgrader": {
     "grade": true,
     "grade_id": "cell-e63cc8b7aa5c4718",
     "locked": true,
     "points": 1,
     "schema_version": 1,
     "solution": false
    }
   },
   "outputs": [],
   "source": [
    "# Autograder Test Cell\n",
    "# loss_fn_test2\n",
    "\n",
    "### BEGIN HIDDEN TESTS\n",
    "assert loss_fn_test2()\n",
    "### END HIDDEN TESTS"
   ]
  },
  {
   "cell_type": "code",
   "execution_count": 42,
   "metadata": {
    "nbgrader": {
     "grade": true,
     "grade_id": "cell-5e3d6e5e5d40a113",
     "locked": true,
     "points": 1,
     "schema_version": 1,
     "solution": false
    }
   },
   "outputs": [],
   "source": [
    "# Autograder Test Cell\n",
    "# loss_fn_test3\n",
    "\n",
    "### BEGIN HIDDEN TESTS\n",
    "assert loss_fn_test3()\n",
    "### END HIDDEN TESTS"
   ]
  },
  {
   "cell_type": "markdown",
   "metadata": {
    "nbgrader": {
     "grade": false,
     "grade_id": "cell-1913853512562a11",
     "locked": true,
     "schema_version": 1,
     "solution": false
    }
   },
   "source": [
    "#### Optimizer [Graded]\n",
    "I the next cell, you will define an **SGD optimizer**. Again, you should just call one library function from [`torch.optim`](https://pytorch.org/docs/stable/optim.html). In addition to passing in the model parameters, please set <code>lr=0.1</code>."
   ]
  },
  {
   "cell_type": "code",
   "execution_count": 43,
   "metadata": {
    "nbgrader": {
     "grade": false,
     "grade_id": "cell-optimizer",
     "locked": false,
     "schema_version": 1,
     "solution": true
    }
   },
   "outputs": [],
   "source": [
    "#TODO: Define the optimizer\n",
    "optimizer = None\n",
    "\n",
    "### BEGIN SOLUTION\n",
    "optimizer = torch.optim.SGD(model.parameters(), lr=0.1)\n",
    "### END SOLUTION"
   ]
  },
  {
   "cell_type": "code",
   "execution_count": 44,
   "metadata": {
    "nbgrader": {
     "grade": false,
     "grade_id": "cell-optimizer-selftest",
     "locked": true,
     "schema_version": 1,
     "solution": false
    }
   },
   "outputs": [
    {
     "name": "stdout",
     "output_type": "stream",
     "text": [
      "Running Test: optimizer_test1 ... ✔ Passed!\n"
     ]
    }
   ],
   "source": [
    "def optimizer_test1():\n",
    "    return isinstance(optimizer, torch.optim.SGD)\n",
    "\n",
    "runtest(optimizer_test1, 'optimizer_test1')"
   ]
  },
  {
   "cell_type": "code",
   "execution_count": 45,
   "metadata": {
    "nbgrader": {
     "grade": true,
     "grade_id": "cell-optimizer-test1",
     "locked": true,
     "points": 1,
     "schema_version": 1,
     "solution": false
    }
   },
   "outputs": [],
   "source": [
    "# Autograder Test Cell\n",
    "# optimizer_test1\n",
    "\n",
    "### BEGIN HIDDEN TESTS\n",
    "assert optimizer_test1()\n",
    "### END HIDDEN TESTS"
   ]
  },
  {
   "cell_type": "markdown",
   "metadata": {
    "nbgrader": {
     "grade": false,
     "grade_id": "cell-6ae1aa3dbc5d019f",
     "locked": true,
     "schema_version": 1,
     "solution": false
    }
   },
   "source": [
    "### Step 4: Train the Network [Graded]\n",
    "\n",
    "In this section, you are going to implement the <code>train</code> function. Please see the `#TODO`s in the code stub for specifications. Your solution should be one line for each todo (that is, 3 lines total). \n",
    "\n",
    "- `logits` is calculated by a forward pass, that is, calling `model` on some input data `X`.\n",
    "- `loss` should be calculated with the loss function `loss_fn` defined before.\n",
    "- Finally, you need to back propagate by calling `.backward()` on the loss function."
   ]
  },
  {
   "cell_type": "code",
   "execution_count": 47,
   "metadata": {
    "nbgrader": {
     "grade": false,
     "grade_id": "cell-train",
     "locked": false,
     "schema_version": 1,
     "solution": true
    }
   },
   "outputs": [],
   "source": [
    "def train(model, optimizer, loss_fn, trainloader):\n",
    "    '''\n",
    "    Input:\n",
    "        model - ConvNet model\n",
    "        optimizer - optimizer for the model\n",
    "        loss_fn - loss function \n",
    "        trainloader - the dataloader\n",
    "    \n",
    "    Output:\n",
    "        running loss - the average loss for each minibatch\n",
    "    '''\n",
    "    \n",
    "    # Set the model into train mode\n",
    "    model.train()\n",
    "    \n",
    "    # Create a variable to keep track of the running loss\n",
    "    running_loss = 0.0\n",
    "    \n",
    "    # iterate through trainloader\n",
    "    # each iterate, you will get a batch of images X, and labels, y\n",
    "    for i, (X, y) in enumerate(trainloader):\n",
    "        \n",
    "        if gpu_available:\n",
    "            # Move the data to cuda gpu to accelerate training\n",
    "            X, y = X.cuda(), y.cuda()\n",
    "        \n",
    "        # zero the parameter gradient\n",
    "        optimizer.zero_grad()\n",
    "        \n",
    "        # TODO: Do a forward pass the get the logits\n",
    "        logits = None\n",
    "        \n",
    "        # TODO: Evaluate the loss\n",
    "        loss = None\n",
    "        \n",
    "        # TODO: Do a backward pass by calling \n",
    "        # .backward()\n",
    "        \n",
    "        # BEGIN SOLUTION\n",
    "        logits = model(X)\n",
    "        loss = loss_fn(logits, y)\n",
    "        loss.backward()\n",
    "        # END SOLUTION\n",
    "        \n",
    "        # update the parameters\n",
    "        optimizer.step()\n",
    "        \n",
    "        # update the loss\n",
    "        running_loss += loss.item()\n",
    "    return running_loss / len(trainloader)"
   ]
  },
  {
   "cell_type": "code",
   "execution_count": 48,
   "metadata": {
    "nbgrader": {
     "grade": false,
     "grade_id": "cell-train-selftest",
     "locked": true,
     "schema_version": 1,
     "solution": false
    }
   },
   "outputs": [
    {
     "name": "stdout",
     "output_type": "stream",
     "text": [
      "Running Test: train_test1 ... ✔ Passed!\n"
     ]
    }
   ],
   "source": [
    "def train_test1():\n",
    "    from copy import deepcopy\n",
    "    \n",
    "    \n",
    "    model = ConvNet()\n",
    "    if gpu_available:\n",
    "        model = model.cuda()\n",
    "    model2 = deepcopy(model)\n",
    "    \n",
    "    optimizer = create_optimizer(model)\n",
    "    optimizer2 = create_optimizer(model2)\n",
    "    \n",
    "    # sample one batch of training examples\n",
    "    X, y = iter(trainloader).next()\n",
    "    \n",
    "    # Create a dataset using the small batch\n",
    "    small_set = torch.utils.data.TensorDataset(X, y)\n",
    "    \n",
    "    # create a dataloader for the small_set\n",
    "    loader = torch.utils.data.DataLoader(small_set, batch_size=128)\n",
    "    \n",
    "    # run your train function twice\n",
    "    # Essentially update the model twice\n",
    "    loss = train(model, optimizer, loss_fn, loader)\n",
    "    loss2 = train(model, optimizer, loss_fn, loader)\n",
    "    \n",
    "    # run our train function twice\n",
    "    # update the model twice\n",
    "    loss_grader = train_grader(model2, optimizer2, loss_fn, loader)\n",
    "    loss_grader_2 = train_grader(model2, optimizer2, loss_fn, loader)\n",
    "    \n",
    "    # your losses and our losses should be too different\n",
    "    return ((loss - loss_grader)**2 + (loss2 - loss_grader_2)**2) < 1e-5\n",
    "\n",
    "runtest(train_test1, 'train_test1')"
   ]
  },
  {
   "cell_type": "code",
   "execution_count": 49,
   "metadata": {
    "nbgrader": {
     "grade": true,
     "grade_id": "cell-train_test1",
     "locked": true,
     "points": 1,
     "schema_version": 1,
     "solution": false
    }
   },
   "outputs": [],
   "source": [
    "# Autograder Test Cell\n",
    "# train_test1\n",
    "\n",
    "### BEGIN HIDDEN TESTS\n",
    "assert train_test1()\n",
    "### END HIDDEN TESTS"
   ]
  },
  {
   "cell_type": "code",
   "execution_count": 50,
   "metadata": {},
   "outputs": [
    {
     "data": {
      "application/vnd.jupyter.widget-view+json": {
       "model_id": "f8a09a1887b444ccb193fec0dfd5b058",
       "version_major": 2,
       "version_minor": 0
      },
      "text/plain": [
       "HBox(children=(IntProgress(value=0, max=10), HTML(value='')))"
      ]
     },
     "metadata": {},
     "output_type": "display_data"
    },
    {
     "ename": "KeyboardInterrupt",
     "evalue": "",
     "output_type": "error",
     "traceback": [
      "\u001b[0;31m---------------------------------------------------------------------------\u001b[0m",
      "\u001b[0;31mKeyboardInterrupt\u001b[0m                         Traceback (most recent call last)",
      "\u001b[0;32m<ipython-input-50-c70116a5db28>\u001b[0m in \u001b[0;36m<module>\u001b[0;34m()\u001b[0m\n\u001b[1;32m      3\u001b[0m \u001b[0mnum_epochs\u001b[0m \u001b[0;34m=\u001b[0m \u001b[0;36m10\u001b[0m\u001b[0;34m\u001b[0m\u001b[0;34m\u001b[0m\u001b[0m\n\u001b[1;32m      4\u001b[0m \u001b[0;32mfor\u001b[0m \u001b[0mepoch\u001b[0m \u001b[0;32min\u001b[0m \u001b[0mtqdm\u001b[0m\u001b[0;34m(\u001b[0m\u001b[0mrange\u001b[0m\u001b[0;34m(\u001b[0m\u001b[0mnum_epochs\u001b[0m\u001b[0;34m)\u001b[0m\u001b[0;34m)\u001b[0m\u001b[0;34m:\u001b[0m\u001b[0;34m\u001b[0m\u001b[0;34m\u001b[0m\u001b[0m\n\u001b[0;32m----> 5\u001b[0;31m     \u001b[0mrunning_loss\u001b[0m \u001b[0;34m=\u001b[0m \u001b[0mtrain\u001b[0m\u001b[0;34m(\u001b[0m\u001b[0mmodel\u001b[0m\u001b[0;34m,\u001b[0m \u001b[0moptimizer\u001b[0m\u001b[0;34m,\u001b[0m \u001b[0mloss_fn\u001b[0m\u001b[0;34m,\u001b[0m \u001b[0mtrainloader\u001b[0m\u001b[0;34m)\u001b[0m\u001b[0;34m\u001b[0m\u001b[0;34m\u001b[0m\u001b[0m\n\u001b[0m\u001b[1;32m      6\u001b[0m     \u001b[0mprint\u001b[0m\u001b[0;34m(\u001b[0m\u001b[0;34m'Running Loss for Epoch [{}/ {}]: {:.4f}'\u001b[0m\u001b[0;34m.\u001b[0m\u001b[0mformat\u001b[0m\u001b[0;34m(\u001b[0m\u001b[0mepoch\u001b[0m \u001b[0;34m+\u001b[0m \u001b[0;36m1\u001b[0m\u001b[0;34m,\u001b[0m \u001b[0mnum_epochs\u001b[0m\u001b[0;34m,\u001b[0m \u001b[0mrunning_loss\u001b[0m\u001b[0;34m)\u001b[0m\u001b[0;34m)\u001b[0m\u001b[0;34m\u001b[0m\u001b[0;34m\u001b[0m\u001b[0m\n",
      "\u001b[0;32m<ipython-input-47-1df83badcf87>\u001b[0m in \u001b[0;36mtrain\u001b[0;34m(model, optimizer, loss_fn, trainloader)\u001b[0m\n\u001b[1;32m     38\u001b[0m \u001b[0;34m\u001b[0m\u001b[0m\n\u001b[1;32m     39\u001b[0m         \u001b[0;31m# BEGIN SOLUTION\u001b[0m\u001b[0;34m\u001b[0m\u001b[0;34m\u001b[0m\u001b[0;34m\u001b[0m\u001b[0m\n\u001b[0;32m---> 40\u001b[0;31m         \u001b[0mlogits\u001b[0m \u001b[0;34m=\u001b[0m \u001b[0mmodel\u001b[0m\u001b[0;34m(\u001b[0m\u001b[0mX\u001b[0m\u001b[0;34m)\u001b[0m\u001b[0;34m\u001b[0m\u001b[0;34m\u001b[0m\u001b[0m\n\u001b[0m\u001b[1;32m     41\u001b[0m         \u001b[0mloss\u001b[0m \u001b[0;34m=\u001b[0m \u001b[0mloss_fn\u001b[0m\u001b[0;34m(\u001b[0m\u001b[0mlogits\u001b[0m\u001b[0;34m,\u001b[0m \u001b[0my\u001b[0m\u001b[0;34m)\u001b[0m\u001b[0;34m\u001b[0m\u001b[0;34m\u001b[0m\u001b[0m\n\u001b[1;32m     42\u001b[0m         \u001b[0mloss\u001b[0m\u001b[0;34m.\u001b[0m\u001b[0mbackward\u001b[0m\u001b[0;34m(\u001b[0m\u001b[0;34m)\u001b[0m\u001b[0;34m\u001b[0m\u001b[0;34m\u001b[0m\u001b[0m\n",
      "\u001b[0;32m/Users/atabone/anaconda3/lib/python3.7/site-packages/torch/nn/modules/module.py\u001b[0m in \u001b[0;36m__call__\u001b[0;34m(self, *input, **kwargs)\u001b[0m\n\u001b[1;32m    545\u001b[0m             \u001b[0mresult\u001b[0m \u001b[0;34m=\u001b[0m \u001b[0mself\u001b[0m\u001b[0;34m.\u001b[0m\u001b[0m_slow_forward\u001b[0m\u001b[0;34m(\u001b[0m\u001b[0;34m*\u001b[0m\u001b[0minput\u001b[0m\u001b[0;34m,\u001b[0m \u001b[0;34m**\u001b[0m\u001b[0mkwargs\u001b[0m\u001b[0;34m)\u001b[0m\u001b[0;34m\u001b[0m\u001b[0;34m\u001b[0m\u001b[0m\n\u001b[1;32m    546\u001b[0m         \u001b[0;32melse\u001b[0m\u001b[0;34m:\u001b[0m\u001b[0;34m\u001b[0m\u001b[0;34m\u001b[0m\u001b[0m\n\u001b[0;32m--> 547\u001b[0;31m             \u001b[0mresult\u001b[0m \u001b[0;34m=\u001b[0m \u001b[0mself\u001b[0m\u001b[0;34m.\u001b[0m\u001b[0mforward\u001b[0m\u001b[0;34m(\u001b[0m\u001b[0;34m*\u001b[0m\u001b[0minput\u001b[0m\u001b[0;34m,\u001b[0m \u001b[0;34m**\u001b[0m\u001b[0mkwargs\u001b[0m\u001b[0;34m)\u001b[0m\u001b[0;34m\u001b[0m\u001b[0;34m\u001b[0m\u001b[0m\n\u001b[0m\u001b[1;32m    548\u001b[0m         \u001b[0;32mfor\u001b[0m \u001b[0mhook\u001b[0m \u001b[0;32min\u001b[0m \u001b[0mself\u001b[0m\u001b[0;34m.\u001b[0m\u001b[0m_forward_hooks\u001b[0m\u001b[0;34m.\u001b[0m\u001b[0mvalues\u001b[0m\u001b[0;34m(\u001b[0m\u001b[0;34m)\u001b[0m\u001b[0;34m:\u001b[0m\u001b[0;34m\u001b[0m\u001b[0;34m\u001b[0m\u001b[0m\n\u001b[1;32m    549\u001b[0m             \u001b[0mhook_result\u001b[0m \u001b[0;34m=\u001b[0m \u001b[0mhook\u001b[0m\u001b[0;34m(\u001b[0m\u001b[0mself\u001b[0m\u001b[0;34m,\u001b[0m \u001b[0minput\u001b[0m\u001b[0;34m,\u001b[0m \u001b[0mresult\u001b[0m\u001b[0;34m)\u001b[0m\u001b[0;34m\u001b[0m\u001b[0;34m\u001b[0m\u001b[0m\n",
      "\u001b[0;32m<ipython-input-25-f7157d3fcae0>\u001b[0m in \u001b[0;36mforward\u001b[0;34m(self, x)\u001b[0m\n\u001b[1;32m     50\u001b[0m         \u001b[0mbatch_size\u001b[0m \u001b[0;34m=\u001b[0m \u001b[0mx\u001b[0m\u001b[0;34m.\u001b[0m\u001b[0msize\u001b[0m\u001b[0;34m(\u001b[0m\u001b[0;36m0\u001b[0m\u001b[0;34m)\u001b[0m\u001b[0;34m\u001b[0m\u001b[0;34m\u001b[0m\u001b[0m\n\u001b[1;32m     51\u001b[0m         \u001b[0mout\u001b[0m \u001b[0;34m=\u001b[0m \u001b[0mself\u001b[0m\u001b[0;34m.\u001b[0m\u001b[0mblock1\u001b[0m\u001b[0;34m(\u001b[0m\u001b[0mx\u001b[0m\u001b[0;34m)\u001b[0m\u001b[0;34m\u001b[0m\u001b[0;34m\u001b[0m\u001b[0m\n\u001b[0;32m---> 52\u001b[0;31m         \u001b[0mout\u001b[0m \u001b[0;34m=\u001b[0m \u001b[0mself\u001b[0m\u001b[0;34m.\u001b[0m\u001b[0mblock2\u001b[0m\u001b[0;34m(\u001b[0m\u001b[0mout\u001b[0m\u001b[0;34m)\u001b[0m\u001b[0;34m\u001b[0m\u001b[0;34m\u001b[0m\u001b[0m\n\u001b[0m\u001b[1;32m     53\u001b[0m         \u001b[0mout\u001b[0m \u001b[0;34m=\u001b[0m \u001b[0mself\u001b[0m\u001b[0;34m.\u001b[0m\u001b[0mblock3\u001b[0m\u001b[0;34m(\u001b[0m\u001b[0mout\u001b[0m\u001b[0;34m)\u001b[0m\u001b[0;34m\u001b[0m\u001b[0;34m\u001b[0m\u001b[0m\n\u001b[1;32m     54\u001b[0m         \u001b[0mout\u001b[0m \u001b[0;34m=\u001b[0m \u001b[0mself\u001b[0m\u001b[0;34m.\u001b[0m\u001b[0mblock4\u001b[0m\u001b[0;34m(\u001b[0m\u001b[0mout\u001b[0m\u001b[0;34m)\u001b[0m\u001b[0;34m\u001b[0m\u001b[0;34m\u001b[0m\u001b[0m\n",
      "\u001b[0;32m/Users/atabone/anaconda3/lib/python3.7/site-packages/torch/nn/modules/module.py\u001b[0m in \u001b[0;36m__call__\u001b[0;34m(self, *input, **kwargs)\u001b[0m\n\u001b[1;32m    545\u001b[0m             \u001b[0mresult\u001b[0m \u001b[0;34m=\u001b[0m \u001b[0mself\u001b[0m\u001b[0;34m.\u001b[0m\u001b[0m_slow_forward\u001b[0m\u001b[0;34m(\u001b[0m\u001b[0;34m*\u001b[0m\u001b[0minput\u001b[0m\u001b[0;34m,\u001b[0m \u001b[0;34m**\u001b[0m\u001b[0mkwargs\u001b[0m\u001b[0;34m)\u001b[0m\u001b[0;34m\u001b[0m\u001b[0;34m\u001b[0m\u001b[0m\n\u001b[1;32m    546\u001b[0m         \u001b[0;32melse\u001b[0m\u001b[0;34m:\u001b[0m\u001b[0;34m\u001b[0m\u001b[0;34m\u001b[0m\u001b[0m\n\u001b[0;32m--> 547\u001b[0;31m             \u001b[0mresult\u001b[0m \u001b[0;34m=\u001b[0m \u001b[0mself\u001b[0m\u001b[0;34m.\u001b[0m\u001b[0mforward\u001b[0m\u001b[0;34m(\u001b[0m\u001b[0;34m*\u001b[0m\u001b[0minput\u001b[0m\u001b[0;34m,\u001b[0m \u001b[0;34m**\u001b[0m\u001b[0mkwargs\u001b[0m\u001b[0;34m)\u001b[0m\u001b[0;34m\u001b[0m\u001b[0;34m\u001b[0m\u001b[0m\n\u001b[0m\u001b[1;32m    548\u001b[0m         \u001b[0;32mfor\u001b[0m \u001b[0mhook\u001b[0m \u001b[0;32min\u001b[0m \u001b[0mself\u001b[0m\u001b[0;34m.\u001b[0m\u001b[0m_forward_hooks\u001b[0m\u001b[0;34m.\u001b[0m\u001b[0mvalues\u001b[0m\u001b[0;34m(\u001b[0m\u001b[0;34m)\u001b[0m\u001b[0;34m:\u001b[0m\u001b[0;34m\u001b[0m\u001b[0;34m\u001b[0m\u001b[0m\n\u001b[1;32m    549\u001b[0m             \u001b[0mhook_result\u001b[0m \u001b[0;34m=\u001b[0m \u001b[0mhook\u001b[0m\u001b[0;34m(\u001b[0m\u001b[0mself\u001b[0m\u001b[0;34m,\u001b[0m \u001b[0minput\u001b[0m\u001b[0;34m,\u001b[0m \u001b[0mresult\u001b[0m\u001b[0;34m)\u001b[0m\u001b[0;34m\u001b[0m\u001b[0;34m\u001b[0m\u001b[0m\n",
      "\u001b[0;32m<ipython-input-22-bf6b9ad00b4f>\u001b[0m in \u001b[0;36mforward\u001b[0;34m(self, x)\u001b[0m\n\u001b[1;32m     18\u001b[0m         \u001b[0;31m# passes the input image through a convolutional layer\u001b[0m\u001b[0;34m\u001b[0m\u001b[0;34m\u001b[0m\u001b[0;34m\u001b[0m\u001b[0m\n\u001b[1;32m     19\u001b[0m         \u001b[0;31m# followed by a batch normalization layer and relu transition\u001b[0m\u001b[0;34m\u001b[0m\u001b[0;34m\u001b[0m\u001b[0;34m\u001b[0m\u001b[0m\n\u001b[0;32m---> 20\u001b[0;31m         \u001b[0mout\u001b[0m \u001b[0;34m=\u001b[0m \u001b[0mF\u001b[0m\u001b[0;34m.\u001b[0m\u001b[0mrelu\u001b[0m\u001b[0;34m(\u001b[0m\u001b[0mself\u001b[0m\u001b[0;34m.\u001b[0m\u001b[0mbn\u001b[0m\u001b[0;34m(\u001b[0m\u001b[0mself\u001b[0m\u001b[0;34m.\u001b[0m\u001b[0mconv\u001b[0m\u001b[0;34m(\u001b[0m\u001b[0mx\u001b[0m\u001b[0;34m)\u001b[0m\u001b[0;34m)\u001b[0m\u001b[0;34m)\u001b[0m\u001b[0;34m\u001b[0m\u001b[0;34m\u001b[0m\u001b[0m\n\u001b[0m\u001b[1;32m     21\u001b[0m         \u001b[0;32mreturn\u001b[0m \u001b[0mout\u001b[0m\u001b[0;34m\u001b[0m\u001b[0;34m\u001b[0m\u001b[0m\n",
      "\u001b[0;32m/Users/atabone/anaconda3/lib/python3.7/site-packages/torch/nn/modules/module.py\u001b[0m in \u001b[0;36m__call__\u001b[0;34m(self, *input, **kwargs)\u001b[0m\n\u001b[1;32m    545\u001b[0m             \u001b[0mresult\u001b[0m \u001b[0;34m=\u001b[0m \u001b[0mself\u001b[0m\u001b[0;34m.\u001b[0m\u001b[0m_slow_forward\u001b[0m\u001b[0;34m(\u001b[0m\u001b[0;34m*\u001b[0m\u001b[0minput\u001b[0m\u001b[0;34m,\u001b[0m \u001b[0;34m**\u001b[0m\u001b[0mkwargs\u001b[0m\u001b[0;34m)\u001b[0m\u001b[0;34m\u001b[0m\u001b[0;34m\u001b[0m\u001b[0m\n\u001b[1;32m    546\u001b[0m         \u001b[0;32melse\u001b[0m\u001b[0;34m:\u001b[0m\u001b[0;34m\u001b[0m\u001b[0;34m\u001b[0m\u001b[0m\n\u001b[0;32m--> 547\u001b[0;31m             \u001b[0mresult\u001b[0m \u001b[0;34m=\u001b[0m \u001b[0mself\u001b[0m\u001b[0;34m.\u001b[0m\u001b[0mforward\u001b[0m\u001b[0;34m(\u001b[0m\u001b[0;34m*\u001b[0m\u001b[0minput\u001b[0m\u001b[0;34m,\u001b[0m \u001b[0;34m**\u001b[0m\u001b[0mkwargs\u001b[0m\u001b[0;34m)\u001b[0m\u001b[0;34m\u001b[0m\u001b[0;34m\u001b[0m\u001b[0m\n\u001b[0m\u001b[1;32m    548\u001b[0m         \u001b[0;32mfor\u001b[0m \u001b[0mhook\u001b[0m \u001b[0;32min\u001b[0m \u001b[0mself\u001b[0m\u001b[0;34m.\u001b[0m\u001b[0m_forward_hooks\u001b[0m\u001b[0;34m.\u001b[0m\u001b[0mvalues\u001b[0m\u001b[0;34m(\u001b[0m\u001b[0;34m)\u001b[0m\u001b[0;34m:\u001b[0m\u001b[0;34m\u001b[0m\u001b[0;34m\u001b[0m\u001b[0m\n\u001b[1;32m    549\u001b[0m             \u001b[0mhook_result\u001b[0m \u001b[0;34m=\u001b[0m \u001b[0mhook\u001b[0m\u001b[0;34m(\u001b[0m\u001b[0mself\u001b[0m\u001b[0;34m,\u001b[0m \u001b[0minput\u001b[0m\u001b[0;34m,\u001b[0m \u001b[0mresult\u001b[0m\u001b[0;34m)\u001b[0m\u001b[0;34m\u001b[0m\u001b[0;34m\u001b[0m\u001b[0m\n",
      "\u001b[0;32m/Users/atabone/anaconda3/lib/python3.7/site-packages/torch/nn/modules/batchnorm.py\u001b[0m in \u001b[0;36mforward\u001b[0;34m(self, input)\u001b[0m\n\u001b[1;32m     79\u001b[0m             \u001b[0minput\u001b[0m\u001b[0;34m,\u001b[0m \u001b[0mself\u001b[0m\u001b[0;34m.\u001b[0m\u001b[0mrunning_mean\u001b[0m\u001b[0;34m,\u001b[0m \u001b[0mself\u001b[0m\u001b[0;34m.\u001b[0m\u001b[0mrunning_var\u001b[0m\u001b[0;34m,\u001b[0m \u001b[0mself\u001b[0m\u001b[0;34m.\u001b[0m\u001b[0mweight\u001b[0m\u001b[0;34m,\u001b[0m \u001b[0mself\u001b[0m\u001b[0;34m.\u001b[0m\u001b[0mbias\u001b[0m\u001b[0;34m,\u001b[0m\u001b[0;34m\u001b[0m\u001b[0;34m\u001b[0m\u001b[0m\n\u001b[1;32m     80\u001b[0m             \u001b[0mself\u001b[0m\u001b[0;34m.\u001b[0m\u001b[0mtraining\u001b[0m \u001b[0;32mor\u001b[0m \u001b[0;32mnot\u001b[0m \u001b[0mself\u001b[0m\u001b[0;34m.\u001b[0m\u001b[0mtrack_running_stats\u001b[0m\u001b[0;34m,\u001b[0m\u001b[0;34m\u001b[0m\u001b[0;34m\u001b[0m\u001b[0m\n\u001b[0;32m---> 81\u001b[0;31m             exponential_average_factor, self.eps)\n\u001b[0m\u001b[1;32m     82\u001b[0m \u001b[0;34m\u001b[0m\u001b[0m\n\u001b[1;32m     83\u001b[0m     \u001b[0;32mdef\u001b[0m \u001b[0mextra_repr\u001b[0m\u001b[0;34m(\u001b[0m\u001b[0mself\u001b[0m\u001b[0;34m)\u001b[0m\u001b[0;34m:\u001b[0m\u001b[0;34m\u001b[0m\u001b[0;34m\u001b[0m\u001b[0m\n",
      "\u001b[0;32m/Users/atabone/anaconda3/lib/python3.7/site-packages/torch/nn/functional.py\u001b[0m in \u001b[0;36mbatch_norm\u001b[0;34m(input, running_mean, running_var, weight, bias, training, momentum, eps)\u001b[0m\n\u001b[1;32m   1654\u001b[0m     return torch.batch_norm(\n\u001b[1;32m   1655\u001b[0m         \u001b[0minput\u001b[0m\u001b[0;34m,\u001b[0m \u001b[0mweight\u001b[0m\u001b[0;34m,\u001b[0m \u001b[0mbias\u001b[0m\u001b[0;34m,\u001b[0m \u001b[0mrunning_mean\u001b[0m\u001b[0;34m,\u001b[0m \u001b[0mrunning_var\u001b[0m\u001b[0;34m,\u001b[0m\u001b[0;34m\u001b[0m\u001b[0;34m\u001b[0m\u001b[0m\n\u001b[0;32m-> 1656\u001b[0;31m         \u001b[0mtraining\u001b[0m\u001b[0;34m,\u001b[0m \u001b[0mmomentum\u001b[0m\u001b[0;34m,\u001b[0m \u001b[0meps\u001b[0m\u001b[0;34m,\u001b[0m \u001b[0mtorch\u001b[0m\u001b[0;34m.\u001b[0m\u001b[0mbackends\u001b[0m\u001b[0;34m.\u001b[0m\u001b[0mcudnn\u001b[0m\u001b[0;34m.\u001b[0m\u001b[0menabled\u001b[0m\u001b[0;34m\u001b[0m\u001b[0;34m\u001b[0m\u001b[0m\n\u001b[0m\u001b[1;32m   1657\u001b[0m     )\n\u001b[1;32m   1658\u001b[0m \u001b[0;34m\u001b[0m\u001b[0m\n",
      "\u001b[0;31mKeyboardInterrupt\u001b[0m: "
     ]
    }
   ],
   "source": [
    "# The following code will train the model\n",
    "# Running this cell might take awhile\n",
    "num_epochs = 10\n",
    "for epoch in tqdm(range(num_epochs)):\n",
    "    running_loss = train(model, optimizer, loss_fn, trainloader)\n",
    "    print('Running Loss for Epoch [{}/ {}]: {:.4f}'.format(epoch + 1, num_epochs, running_loss))"
   ]
  },
  {
   "cell_type": "markdown",
   "metadata": {
    "nbgrader": {
     "grade": false,
     "grade_id": "cell-09d810b6c91e705f",
     "locked": true,
     "schema_version": 1,
     "solution": false
    }
   },
   "source": [
    "### Step 5: Test the network on the test data [Graded]\n",
    "\n",
    "In this section, you will implement <code>pred</code> that takes in the model belief and output its prediction. "
   ]
  },
  {
   "cell_type": "code",
   "execution_count": 52,
   "metadata": {
    "nbgrader": {
     "grade": false,
     "grade_id": "cell-pred",
     "locked": false,
     "schema_version": 1,
     "solution": true
    }
   },
   "outputs": [],
   "source": [
    "def pred(logits):\n",
    "    # TODO Calculate the prediction based using torch.argmax\n",
    "    ### BEGIN SOLUTION\n",
    "    prediction = torch.argmax(logits, dim=1)\n",
    "    ### END SOLUTION\n",
    "    return prediction"
   ]
  },
  {
   "cell_type": "code",
   "execution_count": 53,
   "metadata": {
    "nbgrader": {
     "grade": false,
     "grade_id": "cell-pred-selftest",
     "locked": true,
     "schema_version": 1,
     "solution": false
    }
   },
   "outputs": [
    {
     "name": "stdout",
     "output_type": "stream",
     "text": [
      "Running Test: pred_test1 ... ✔ Passed!\n"
     ]
    }
   ],
   "source": [
    "def pred_test1():\n",
    "    \n",
    "    # Generate some beliefs\n",
    "    logits = torch.Tensor([[0, 1], [2, -1]])\n",
    "    prediction = pred(logits)\n",
    "    \n",
    "    # the expected output should be [1, 0]\n",
    "    expected_output = torch.LongTensor([1, 0])\n",
    "    \n",
    "    return torch.equal(prediction, expected_output)\n",
    "\n",
    "runtest(pred_test1, 'pred_test1')"
   ]
  },
  {
   "cell_type": "code",
   "execution_count": 54,
   "metadata": {
    "nbgrader": {
     "grade": true,
     "grade_id": "cell-pred_test1",
     "locked": true,
     "points": 1,
     "schema_version": 1,
     "solution": false
    }
   },
   "outputs": [],
   "source": [
    "# Autograder Test Cell\n",
    "# pred_test1\n",
    "\n",
    "### BEGIN HIDDEN TESTS\n",
    "assert pred_test1()\n",
    "### END HIDDEN TESTS"
   ]
  },
  {
   "cell_type": "code",
   "execution_count": 55,
   "metadata": {
    "nbgrader": {
     "grade": false,
     "grade_id": "cell-417e1e3e38fed894",
     "locked": true,
     "schema_version": 1,
     "solution": false
    }
   },
   "outputs": [
    {
     "ename": "AssertionError",
     "evalue": "Torch not compiled with CUDA enabled",
     "output_type": "error",
     "traceback": [
      "\u001b[0;31m---------------------------------------------------------------------------\u001b[0m",
      "\u001b[0;31mAssertionError\u001b[0m                            Traceback (most recent call last)",
      "\u001b[0;32m<ipython-input-55-27c426f08608>\u001b[0m in \u001b[0;36m<module>\u001b[0;34m()\u001b[0m\n\u001b[1;32m      6\u001b[0m \u001b[0;32mwith\u001b[0m \u001b[0mtorch\u001b[0m\u001b[0;34m.\u001b[0m\u001b[0mno_grad\u001b[0m\u001b[0;34m(\u001b[0m\u001b[0;34m)\u001b[0m\u001b[0;34m:\u001b[0m\u001b[0;34m\u001b[0m\u001b[0;34m\u001b[0m\u001b[0m\n\u001b[1;32m      7\u001b[0m     \u001b[0;32mfor\u001b[0m \u001b[0mX\u001b[0m\u001b[0;34m,\u001b[0m \u001b[0my\u001b[0m \u001b[0;32min\u001b[0m \u001b[0mtestloader\u001b[0m\u001b[0;34m:\u001b[0m\u001b[0;34m\u001b[0m\u001b[0;34m\u001b[0m\u001b[0m\n\u001b[0;32m----> 8\u001b[0;31m         \u001b[0mX\u001b[0m\u001b[0;34m,\u001b[0m \u001b[0my\u001b[0m \u001b[0;34m=\u001b[0m \u001b[0mX\u001b[0m\u001b[0;34m.\u001b[0m\u001b[0mcuda\u001b[0m\u001b[0;34m(\u001b[0m\u001b[0;34m)\u001b[0m\u001b[0;34m,\u001b[0m \u001b[0my\u001b[0m\u001b[0;34m.\u001b[0m\u001b[0mcuda\u001b[0m\u001b[0;34m(\u001b[0m\u001b[0;34m)\u001b[0m\u001b[0;34m\u001b[0m\u001b[0;34m\u001b[0m\u001b[0m\n\u001b[0m\u001b[1;32m      9\u001b[0m         \u001b[0mlogits\u001b[0m \u001b[0;34m=\u001b[0m \u001b[0mmodel\u001b[0m\u001b[0;34m(\u001b[0m\u001b[0mX\u001b[0m\u001b[0;34m)\u001b[0m\u001b[0;34m\u001b[0m\u001b[0;34m\u001b[0m\u001b[0m\n\u001b[1;32m     10\u001b[0m \u001b[0;34m\u001b[0m\u001b[0m\n",
      "\u001b[0;32m/Users/atabone/anaconda3/lib/python3.7/site-packages/torch/cuda/__init__.py\u001b[0m in \u001b[0;36m_lazy_init\u001b[0;34m()\u001b[0m\n\u001b[1;32m    176\u001b[0m         raise RuntimeError(\n\u001b[1;32m    177\u001b[0m             \"Cannot re-initialize CUDA in forked subprocess. \" + msg)\n\u001b[0;32m--> 178\u001b[0;31m     \u001b[0m_check_driver\u001b[0m\u001b[0;34m(\u001b[0m\u001b[0;34m)\u001b[0m\u001b[0;34m\u001b[0m\u001b[0;34m\u001b[0m\u001b[0m\n\u001b[0m\u001b[1;32m    179\u001b[0m     \u001b[0mtorch\u001b[0m\u001b[0;34m.\u001b[0m\u001b[0m_C\u001b[0m\u001b[0;34m.\u001b[0m\u001b[0m_cuda_init\u001b[0m\u001b[0;34m(\u001b[0m\u001b[0;34m)\u001b[0m\u001b[0;34m\u001b[0m\u001b[0;34m\u001b[0m\u001b[0m\n\u001b[1;32m    180\u001b[0m     \u001b[0m_cudart\u001b[0m \u001b[0;34m=\u001b[0m \u001b[0m_load_cudart\u001b[0m\u001b[0;34m(\u001b[0m\u001b[0;34m)\u001b[0m\u001b[0;34m\u001b[0m\u001b[0;34m\u001b[0m\u001b[0m\n",
      "\u001b[0;32m/Users/atabone/anaconda3/lib/python3.7/site-packages/torch/cuda/__init__.py\u001b[0m in \u001b[0;36m_check_driver\u001b[0;34m()\u001b[0m\n\u001b[1;32m     90\u001b[0m \u001b[0;32mdef\u001b[0m \u001b[0m_check_driver\u001b[0m\u001b[0;34m(\u001b[0m\u001b[0;34m)\u001b[0m\u001b[0;34m:\u001b[0m\u001b[0;34m\u001b[0m\u001b[0;34m\u001b[0m\u001b[0m\n\u001b[1;32m     91\u001b[0m     \u001b[0;32mif\u001b[0m \u001b[0;32mnot\u001b[0m \u001b[0mhasattr\u001b[0m\u001b[0;34m(\u001b[0m\u001b[0mtorch\u001b[0m\u001b[0;34m.\u001b[0m\u001b[0m_C\u001b[0m\u001b[0;34m,\u001b[0m \u001b[0;34m'_cuda_isDriverSufficient'\u001b[0m\u001b[0;34m)\u001b[0m\u001b[0;34m:\u001b[0m\u001b[0;34m\u001b[0m\u001b[0;34m\u001b[0m\u001b[0m\n\u001b[0;32m---> 92\u001b[0;31m         \u001b[0;32mraise\u001b[0m \u001b[0mAssertionError\u001b[0m\u001b[0;34m(\u001b[0m\u001b[0;34m\"Torch not compiled with CUDA enabled\"\u001b[0m\u001b[0;34m)\u001b[0m\u001b[0;34m\u001b[0m\u001b[0;34m\u001b[0m\u001b[0m\n\u001b[0m\u001b[1;32m     93\u001b[0m     \u001b[0;32mif\u001b[0m \u001b[0;32mnot\u001b[0m \u001b[0mtorch\u001b[0m\u001b[0;34m.\u001b[0m\u001b[0m_C\u001b[0m\u001b[0;34m.\u001b[0m\u001b[0m_cuda_isDriverSufficient\u001b[0m\u001b[0;34m(\u001b[0m\u001b[0;34m)\u001b[0m\u001b[0;34m:\u001b[0m\u001b[0;34m\u001b[0m\u001b[0;34m\u001b[0m\u001b[0m\n\u001b[1;32m     94\u001b[0m         \u001b[0;32mif\u001b[0m \u001b[0mtorch\u001b[0m\u001b[0;34m.\u001b[0m\u001b[0m_C\u001b[0m\u001b[0;34m.\u001b[0m\u001b[0m_cuda_getDriverVersion\u001b[0m\u001b[0;34m(\u001b[0m\u001b[0;34m)\u001b[0m \u001b[0;34m==\u001b[0m \u001b[0;36m0\u001b[0m\u001b[0;34m:\u001b[0m\u001b[0;34m\u001b[0m\u001b[0;34m\u001b[0m\u001b[0m\n",
      "\u001b[0;31mAssertionError\u001b[0m: Torch not compiled with CUDA enabled"
     ]
    }
   ],
   "source": [
    "# the following code will yse your pred function and evaluate the whole test set and print your model's accuracy\n",
    "\n",
    "total = 0.0\n",
    "correct = 0.0\n",
    "model.eval()\n",
    "with torch.no_grad():\n",
    "    for X, y in testloader:\n",
    "        X, y = X.cuda(), y.cuda()\n",
    "        logits = model(X)\n",
    "        \n",
    "        prediction = pred(logits) \n",
    "        total += X.size(0)\n",
    "        correct += (prediction == y).sum().item()\n",
    "\n",
    "print('Accuracy of the model: {:.4}%'.format(correct / total * 100))"
   ]
  },
  {
   "cell_type": "code",
   "execution_count": 56,
   "metadata": {
    "scrolled": true
   },
   "outputs": [
    {
     "data": {
      "application/javascript": [
       "/* Put everything inside the global mpl namespace */\n",
       "window.mpl = {};\n",
       "\n",
       "\n",
       "mpl.get_websocket_type = function() {\n",
       "    if (typeof(WebSocket) !== 'undefined') {\n",
       "        return WebSocket;\n",
       "    } else if (typeof(MozWebSocket) !== 'undefined') {\n",
       "        return MozWebSocket;\n",
       "    } else {\n",
       "        alert('Your browser does not have WebSocket support.' +\n",
       "              'Please try Chrome, Safari or Firefox ≥ 6. ' +\n",
       "              'Firefox 4 and 5 are also supported but you ' +\n",
       "              'have to enable WebSockets in about:config.');\n",
       "    };\n",
       "}\n",
       "\n",
       "mpl.figure = function(figure_id, websocket, ondownload, parent_element) {\n",
       "    this.id = figure_id;\n",
       "\n",
       "    this.ws = websocket;\n",
       "\n",
       "    this.supports_binary = (this.ws.binaryType != undefined);\n",
       "\n",
       "    if (!this.supports_binary) {\n",
       "        var warnings = document.getElementById(\"mpl-warnings\");\n",
       "        if (warnings) {\n",
       "            warnings.style.display = 'block';\n",
       "            warnings.textContent = (\n",
       "                \"This browser does not support binary websocket messages. \" +\n",
       "                    \"Performance may be slow.\");\n",
       "        }\n",
       "    }\n",
       "\n",
       "    this.imageObj = new Image();\n",
       "\n",
       "    this.context = undefined;\n",
       "    this.message = undefined;\n",
       "    this.canvas = undefined;\n",
       "    this.rubberband_canvas = undefined;\n",
       "    this.rubberband_context = undefined;\n",
       "    this.format_dropdown = undefined;\n",
       "\n",
       "    this.image_mode = 'full';\n",
       "\n",
       "    this.root = $('<div/>');\n",
       "    this._root_extra_style(this.root)\n",
       "    this.root.attr('style', 'display: inline-block');\n",
       "\n",
       "    $(parent_element).append(this.root);\n",
       "\n",
       "    this._init_header(this);\n",
       "    this._init_canvas(this);\n",
       "    this._init_toolbar(this);\n",
       "\n",
       "    var fig = this;\n",
       "\n",
       "    this.waiting = false;\n",
       "\n",
       "    this.ws.onopen =  function () {\n",
       "            fig.send_message(\"supports_binary\", {value: fig.supports_binary});\n",
       "            fig.send_message(\"send_image_mode\", {});\n",
       "            if (mpl.ratio != 1) {\n",
       "                fig.send_message(\"set_dpi_ratio\", {'dpi_ratio': mpl.ratio});\n",
       "            }\n",
       "            fig.send_message(\"refresh\", {});\n",
       "        }\n",
       "\n",
       "    this.imageObj.onload = function() {\n",
       "            if (fig.image_mode == 'full') {\n",
       "                // Full images could contain transparency (where diff images\n",
       "                // almost always do), so we need to clear the canvas so that\n",
       "                // there is no ghosting.\n",
       "                fig.context.clearRect(0, 0, fig.canvas.width, fig.canvas.height);\n",
       "            }\n",
       "            fig.context.drawImage(fig.imageObj, 0, 0);\n",
       "        };\n",
       "\n",
       "    this.imageObj.onunload = function() {\n",
       "        fig.ws.close();\n",
       "    }\n",
       "\n",
       "    this.ws.onmessage = this._make_on_message_function(this);\n",
       "\n",
       "    this.ondownload = ondownload;\n",
       "}\n",
       "\n",
       "mpl.figure.prototype._init_header = function() {\n",
       "    var titlebar = $(\n",
       "        '<div class=\"ui-dialog-titlebar ui-widget-header ui-corner-all ' +\n",
       "        'ui-helper-clearfix\"/>');\n",
       "    var titletext = $(\n",
       "        '<div class=\"ui-dialog-title\" style=\"width: 100%; ' +\n",
       "        'text-align: center; padding: 3px;\"/>');\n",
       "    titlebar.append(titletext)\n",
       "    this.root.append(titlebar);\n",
       "    this.header = titletext[0];\n",
       "}\n",
       "\n",
       "\n",
       "\n",
       "mpl.figure.prototype._canvas_extra_style = function(canvas_div) {\n",
       "\n",
       "}\n",
       "\n",
       "\n",
       "mpl.figure.prototype._root_extra_style = function(canvas_div) {\n",
       "\n",
       "}\n",
       "\n",
       "mpl.figure.prototype._init_canvas = function() {\n",
       "    var fig = this;\n",
       "\n",
       "    var canvas_div = $('<div/>');\n",
       "\n",
       "    canvas_div.attr('style', 'position: relative; clear: both; outline: 0');\n",
       "\n",
       "    function canvas_keyboard_event(event) {\n",
       "        return fig.key_event(event, event['data']);\n",
       "    }\n",
       "\n",
       "    canvas_div.keydown('key_press', canvas_keyboard_event);\n",
       "    canvas_div.keyup('key_release', canvas_keyboard_event);\n",
       "    this.canvas_div = canvas_div\n",
       "    this._canvas_extra_style(canvas_div)\n",
       "    this.root.append(canvas_div);\n",
       "\n",
       "    var canvas = $('<canvas/>');\n",
       "    canvas.addClass('mpl-canvas');\n",
       "    canvas.attr('style', \"left: 0; top: 0; z-index: 0; outline: 0\")\n",
       "\n",
       "    this.canvas = canvas[0];\n",
       "    this.context = canvas[0].getContext(\"2d\");\n",
       "\n",
       "    var backingStore = this.context.backingStorePixelRatio ||\n",
       "\tthis.context.webkitBackingStorePixelRatio ||\n",
       "\tthis.context.mozBackingStorePixelRatio ||\n",
       "\tthis.context.msBackingStorePixelRatio ||\n",
       "\tthis.context.oBackingStorePixelRatio ||\n",
       "\tthis.context.backingStorePixelRatio || 1;\n",
       "\n",
       "    mpl.ratio = (window.devicePixelRatio || 1) / backingStore;\n",
       "\n",
       "    var rubberband = $('<canvas/>');\n",
       "    rubberband.attr('style', \"position: absolute; left: 0; top: 0; z-index: 1;\")\n",
       "\n",
       "    var pass_mouse_events = true;\n",
       "\n",
       "    canvas_div.resizable({\n",
       "        start: function(event, ui) {\n",
       "            pass_mouse_events = false;\n",
       "        },\n",
       "        resize: function(event, ui) {\n",
       "            fig.request_resize(ui.size.width, ui.size.height);\n",
       "        },\n",
       "        stop: function(event, ui) {\n",
       "            pass_mouse_events = true;\n",
       "            fig.request_resize(ui.size.width, ui.size.height);\n",
       "        },\n",
       "    });\n",
       "\n",
       "    function mouse_event_fn(event) {\n",
       "        if (pass_mouse_events)\n",
       "            return fig.mouse_event(event, event['data']);\n",
       "    }\n",
       "\n",
       "    rubberband.mousedown('button_press', mouse_event_fn);\n",
       "    rubberband.mouseup('button_release', mouse_event_fn);\n",
       "    // Throttle sequential mouse events to 1 every 20ms.\n",
       "    rubberband.mousemove('motion_notify', mouse_event_fn);\n",
       "\n",
       "    rubberband.mouseenter('figure_enter', mouse_event_fn);\n",
       "    rubberband.mouseleave('figure_leave', mouse_event_fn);\n",
       "\n",
       "    canvas_div.on(\"wheel\", function (event) {\n",
       "        event = event.originalEvent;\n",
       "        event['data'] = 'scroll'\n",
       "        if (event.deltaY < 0) {\n",
       "            event.step = 1;\n",
       "        } else {\n",
       "            event.step = -1;\n",
       "        }\n",
       "        mouse_event_fn(event);\n",
       "    });\n",
       "\n",
       "    canvas_div.append(canvas);\n",
       "    canvas_div.append(rubberband);\n",
       "\n",
       "    this.rubberband = rubberband;\n",
       "    this.rubberband_canvas = rubberband[0];\n",
       "    this.rubberband_context = rubberband[0].getContext(\"2d\");\n",
       "    this.rubberband_context.strokeStyle = \"#000000\";\n",
       "\n",
       "    this._resize_canvas = function(width, height) {\n",
       "        // Keep the size of the canvas, canvas container, and rubber band\n",
       "        // canvas in synch.\n",
       "        canvas_div.css('width', width)\n",
       "        canvas_div.css('height', height)\n",
       "\n",
       "        canvas.attr('width', width * mpl.ratio);\n",
       "        canvas.attr('height', height * mpl.ratio);\n",
       "        canvas.attr('style', 'width: ' + width + 'px; height: ' + height + 'px;');\n",
       "\n",
       "        rubberband.attr('width', width);\n",
       "        rubberband.attr('height', height);\n",
       "    }\n",
       "\n",
       "    // Set the figure to an initial 600x600px, this will subsequently be updated\n",
       "    // upon first draw.\n",
       "    this._resize_canvas(600, 600);\n",
       "\n",
       "    // Disable right mouse context menu.\n",
       "    $(this.rubberband_canvas).bind(\"contextmenu\",function(e){\n",
       "        return false;\n",
       "    });\n",
       "\n",
       "    function set_focus () {\n",
       "        canvas.focus();\n",
       "        canvas_div.focus();\n",
       "    }\n",
       "\n",
       "    window.setTimeout(set_focus, 100);\n",
       "}\n",
       "\n",
       "mpl.figure.prototype._init_toolbar = function() {\n",
       "    var fig = this;\n",
       "\n",
       "    var nav_element = $('<div/>')\n",
       "    nav_element.attr('style', 'width: 100%');\n",
       "    this.root.append(nav_element);\n",
       "\n",
       "    // Define a callback function for later on.\n",
       "    function toolbar_event(event) {\n",
       "        return fig.toolbar_button_onclick(event['data']);\n",
       "    }\n",
       "    function toolbar_mouse_event(event) {\n",
       "        return fig.toolbar_button_onmouseover(event['data']);\n",
       "    }\n",
       "\n",
       "    for(var toolbar_ind in mpl.toolbar_items) {\n",
       "        var name = mpl.toolbar_items[toolbar_ind][0];\n",
       "        var tooltip = mpl.toolbar_items[toolbar_ind][1];\n",
       "        var image = mpl.toolbar_items[toolbar_ind][2];\n",
       "        var method_name = mpl.toolbar_items[toolbar_ind][3];\n",
       "\n",
       "        if (!name) {\n",
       "            // put a spacer in here.\n",
       "            continue;\n",
       "        }\n",
       "        var button = $('<button/>');\n",
       "        button.addClass('ui-button ui-widget ui-state-default ui-corner-all ' +\n",
       "                        'ui-button-icon-only');\n",
       "        button.attr('role', 'button');\n",
       "        button.attr('aria-disabled', 'false');\n",
       "        button.click(method_name, toolbar_event);\n",
       "        button.mouseover(tooltip, toolbar_mouse_event);\n",
       "\n",
       "        var icon_img = $('<span/>');\n",
       "        icon_img.addClass('ui-button-icon-primary ui-icon');\n",
       "        icon_img.addClass(image);\n",
       "        icon_img.addClass('ui-corner-all');\n",
       "\n",
       "        var tooltip_span = $('<span/>');\n",
       "        tooltip_span.addClass('ui-button-text');\n",
       "        tooltip_span.html(tooltip);\n",
       "\n",
       "        button.append(icon_img);\n",
       "        button.append(tooltip_span);\n",
       "\n",
       "        nav_element.append(button);\n",
       "    }\n",
       "\n",
       "    var fmt_picker_span = $('<span/>');\n",
       "\n",
       "    var fmt_picker = $('<select/>');\n",
       "    fmt_picker.addClass('mpl-toolbar-option ui-widget ui-widget-content');\n",
       "    fmt_picker_span.append(fmt_picker);\n",
       "    nav_element.append(fmt_picker_span);\n",
       "    this.format_dropdown = fmt_picker[0];\n",
       "\n",
       "    for (var ind in mpl.extensions) {\n",
       "        var fmt = mpl.extensions[ind];\n",
       "        var option = $(\n",
       "            '<option/>', {selected: fmt === mpl.default_extension}).html(fmt);\n",
       "        fmt_picker.append(option)\n",
       "    }\n",
       "\n",
       "    // Add hover states to the ui-buttons\n",
       "    $( \".ui-button\" ).hover(\n",
       "        function() { $(this).addClass(\"ui-state-hover\");},\n",
       "        function() { $(this).removeClass(\"ui-state-hover\");}\n",
       "    );\n",
       "\n",
       "    var status_bar = $('<span class=\"mpl-message\"/>');\n",
       "    nav_element.append(status_bar);\n",
       "    this.message = status_bar[0];\n",
       "}\n",
       "\n",
       "mpl.figure.prototype.request_resize = function(x_pixels, y_pixels) {\n",
       "    // Request matplotlib to resize the figure. Matplotlib will then trigger a resize in the client,\n",
       "    // which will in turn request a refresh of the image.\n",
       "    this.send_message('resize', {'width': x_pixels, 'height': y_pixels});\n",
       "}\n",
       "\n",
       "mpl.figure.prototype.send_message = function(type, properties) {\n",
       "    properties['type'] = type;\n",
       "    properties['figure_id'] = this.id;\n",
       "    this.ws.send(JSON.stringify(properties));\n",
       "}\n",
       "\n",
       "mpl.figure.prototype.send_draw_message = function() {\n",
       "    if (!this.waiting) {\n",
       "        this.waiting = true;\n",
       "        this.ws.send(JSON.stringify({type: \"draw\", figure_id: this.id}));\n",
       "    }\n",
       "}\n",
       "\n",
       "\n",
       "mpl.figure.prototype.handle_save = function(fig, msg) {\n",
       "    var format_dropdown = fig.format_dropdown;\n",
       "    var format = format_dropdown.options[format_dropdown.selectedIndex].value;\n",
       "    fig.ondownload(fig, format);\n",
       "}\n",
       "\n",
       "\n",
       "mpl.figure.prototype.handle_resize = function(fig, msg) {\n",
       "    var size = msg['size'];\n",
       "    if (size[0] != fig.canvas.width || size[1] != fig.canvas.height) {\n",
       "        fig._resize_canvas(size[0], size[1]);\n",
       "        fig.send_message(\"refresh\", {});\n",
       "    };\n",
       "}\n",
       "\n",
       "mpl.figure.prototype.handle_rubberband = function(fig, msg) {\n",
       "    var x0 = msg['x0'] / mpl.ratio;\n",
       "    var y0 = (fig.canvas.height - msg['y0']) / mpl.ratio;\n",
       "    var x1 = msg['x1'] / mpl.ratio;\n",
       "    var y1 = (fig.canvas.height - msg['y1']) / mpl.ratio;\n",
       "    x0 = Math.floor(x0) + 0.5;\n",
       "    y0 = Math.floor(y0) + 0.5;\n",
       "    x1 = Math.floor(x1) + 0.5;\n",
       "    y1 = Math.floor(y1) + 0.5;\n",
       "    var min_x = Math.min(x0, x1);\n",
       "    var min_y = Math.min(y0, y1);\n",
       "    var width = Math.abs(x1 - x0);\n",
       "    var height = Math.abs(y1 - y0);\n",
       "\n",
       "    fig.rubberband_context.clearRect(\n",
       "        0, 0, fig.canvas.width, fig.canvas.height);\n",
       "\n",
       "    fig.rubberband_context.strokeRect(min_x, min_y, width, height);\n",
       "}\n",
       "\n",
       "mpl.figure.prototype.handle_figure_label = function(fig, msg) {\n",
       "    // Updates the figure title.\n",
       "    fig.header.textContent = msg['label'];\n",
       "}\n",
       "\n",
       "mpl.figure.prototype.handle_cursor = function(fig, msg) {\n",
       "    var cursor = msg['cursor'];\n",
       "    switch(cursor)\n",
       "    {\n",
       "    case 0:\n",
       "        cursor = 'pointer';\n",
       "        break;\n",
       "    case 1:\n",
       "        cursor = 'default';\n",
       "        break;\n",
       "    case 2:\n",
       "        cursor = 'crosshair';\n",
       "        break;\n",
       "    case 3:\n",
       "        cursor = 'move';\n",
       "        break;\n",
       "    }\n",
       "    fig.rubberband_canvas.style.cursor = cursor;\n",
       "}\n",
       "\n",
       "mpl.figure.prototype.handle_message = function(fig, msg) {\n",
       "    fig.message.textContent = msg['message'];\n",
       "}\n",
       "\n",
       "mpl.figure.prototype.handle_draw = function(fig, msg) {\n",
       "    // Request the server to send over a new figure.\n",
       "    fig.send_draw_message();\n",
       "}\n",
       "\n",
       "mpl.figure.prototype.handle_image_mode = function(fig, msg) {\n",
       "    fig.image_mode = msg['mode'];\n",
       "}\n",
       "\n",
       "mpl.figure.prototype.updated_canvas_event = function() {\n",
       "    // Called whenever the canvas gets updated.\n",
       "    this.send_message(\"ack\", {});\n",
       "}\n",
       "\n",
       "// A function to construct a web socket function for onmessage handling.\n",
       "// Called in the figure constructor.\n",
       "mpl.figure.prototype._make_on_message_function = function(fig) {\n",
       "    return function socket_on_message(evt) {\n",
       "        if (evt.data instanceof Blob) {\n",
       "            /* FIXME: We get \"Resource interpreted as Image but\n",
       "             * transferred with MIME type text/plain:\" errors on\n",
       "             * Chrome.  But how to set the MIME type?  It doesn't seem\n",
       "             * to be part of the websocket stream */\n",
       "            evt.data.type = \"image/png\";\n",
       "\n",
       "            /* Free the memory for the previous frames */\n",
       "            if (fig.imageObj.src) {\n",
       "                (window.URL || window.webkitURL).revokeObjectURL(\n",
       "                    fig.imageObj.src);\n",
       "            }\n",
       "\n",
       "            fig.imageObj.src = (window.URL || window.webkitURL).createObjectURL(\n",
       "                evt.data);\n",
       "            fig.updated_canvas_event();\n",
       "            fig.waiting = false;\n",
       "            return;\n",
       "        }\n",
       "        else if (typeof evt.data === 'string' && evt.data.slice(0, 21) == \"data:image/png;base64\") {\n",
       "            fig.imageObj.src = evt.data;\n",
       "            fig.updated_canvas_event();\n",
       "            fig.waiting = false;\n",
       "            return;\n",
       "        }\n",
       "\n",
       "        var msg = JSON.parse(evt.data);\n",
       "        var msg_type = msg['type'];\n",
       "\n",
       "        // Call the  \"handle_{type}\" callback, which takes\n",
       "        // the figure and JSON message as its only arguments.\n",
       "        try {\n",
       "            var callback = fig[\"handle_\" + msg_type];\n",
       "        } catch (e) {\n",
       "            console.log(\"No handler for the '\" + msg_type + \"' message type: \", msg);\n",
       "            return;\n",
       "        }\n",
       "\n",
       "        if (callback) {\n",
       "            try {\n",
       "                // console.log(\"Handling '\" + msg_type + \"' message: \", msg);\n",
       "                callback(fig, msg);\n",
       "            } catch (e) {\n",
       "                console.log(\"Exception inside the 'handler_\" + msg_type + \"' callback:\", e, e.stack, msg);\n",
       "            }\n",
       "        }\n",
       "    };\n",
       "}\n",
       "\n",
       "// from http://stackoverflow.com/questions/1114465/getting-mouse-location-in-canvas\n",
       "mpl.findpos = function(e) {\n",
       "    //this section is from http://www.quirksmode.org/js/events_properties.html\n",
       "    var targ;\n",
       "    if (!e)\n",
       "        e = window.event;\n",
       "    if (e.target)\n",
       "        targ = e.target;\n",
       "    else if (e.srcElement)\n",
       "        targ = e.srcElement;\n",
       "    if (targ.nodeType == 3) // defeat Safari bug\n",
       "        targ = targ.parentNode;\n",
       "\n",
       "    // jQuery normalizes the pageX and pageY\n",
       "    // pageX,Y are the mouse positions relative to the document\n",
       "    // offset() returns the position of the element relative to the document\n",
       "    var x = e.pageX - $(targ).offset().left;\n",
       "    var y = e.pageY - $(targ).offset().top;\n",
       "\n",
       "    return {\"x\": x, \"y\": y};\n",
       "};\n",
       "\n",
       "/*\n",
       " * return a copy of an object with only non-object keys\n",
       " * we need this to avoid circular references\n",
       " * http://stackoverflow.com/a/24161582/3208463\n",
       " */\n",
       "function simpleKeys (original) {\n",
       "  return Object.keys(original).reduce(function (obj, key) {\n",
       "    if (typeof original[key] !== 'object')\n",
       "        obj[key] = original[key]\n",
       "    return obj;\n",
       "  }, {});\n",
       "}\n",
       "\n",
       "mpl.figure.prototype.mouse_event = function(event, name) {\n",
       "    var canvas_pos = mpl.findpos(event)\n",
       "\n",
       "    if (name === 'button_press')\n",
       "    {\n",
       "        this.canvas.focus();\n",
       "        this.canvas_div.focus();\n",
       "    }\n",
       "\n",
       "    var x = canvas_pos.x * mpl.ratio;\n",
       "    var y = canvas_pos.y * mpl.ratio;\n",
       "\n",
       "    this.send_message(name, {x: x, y: y, button: event.button,\n",
       "                             step: event.step,\n",
       "                             guiEvent: simpleKeys(event)});\n",
       "\n",
       "    /* This prevents the web browser from automatically changing to\n",
       "     * the text insertion cursor when the button is pressed.  We want\n",
       "     * to control all of the cursor setting manually through the\n",
       "     * 'cursor' event from matplotlib */\n",
       "    event.preventDefault();\n",
       "    return false;\n",
       "}\n",
       "\n",
       "mpl.figure.prototype._key_event_extra = function(event, name) {\n",
       "    // Handle any extra behaviour associated with a key event\n",
       "}\n",
       "\n",
       "mpl.figure.prototype.key_event = function(event, name) {\n",
       "\n",
       "    // Prevent repeat events\n",
       "    if (name == 'key_press')\n",
       "    {\n",
       "        if (event.which === this._key)\n",
       "            return;\n",
       "        else\n",
       "            this._key = event.which;\n",
       "    }\n",
       "    if (name == 'key_release')\n",
       "        this._key = null;\n",
       "\n",
       "    var value = '';\n",
       "    if (event.ctrlKey && event.which != 17)\n",
       "        value += \"ctrl+\";\n",
       "    if (event.altKey && event.which != 18)\n",
       "        value += \"alt+\";\n",
       "    if (event.shiftKey && event.which != 16)\n",
       "        value += \"shift+\";\n",
       "\n",
       "    value += 'k';\n",
       "    value += event.which.toString();\n",
       "\n",
       "    this._key_event_extra(event, name);\n",
       "\n",
       "    this.send_message(name, {key: value,\n",
       "                             guiEvent: simpleKeys(event)});\n",
       "    return false;\n",
       "}\n",
       "\n",
       "mpl.figure.prototype.toolbar_button_onclick = function(name) {\n",
       "    if (name == 'download') {\n",
       "        this.handle_save(this, null);\n",
       "    } else {\n",
       "        this.send_message(\"toolbar_button\", {name: name});\n",
       "    }\n",
       "};\n",
       "\n",
       "mpl.figure.prototype.toolbar_button_onmouseover = function(tooltip) {\n",
       "    this.message.textContent = tooltip;\n",
       "};\n",
       "mpl.toolbar_items = [[\"Home\", \"Reset original view\", \"fa fa-home icon-home\", \"home\"], [\"Back\", \"Back to previous view\", \"fa fa-arrow-left icon-arrow-left\", \"back\"], [\"Forward\", \"Forward to next view\", \"fa fa-arrow-right icon-arrow-right\", \"forward\"], [\"\", \"\", \"\", \"\"], [\"Pan\", \"Pan axes with left mouse, zoom with right\", \"fa fa-arrows icon-move\", \"pan\"], [\"Zoom\", \"Zoom to rectangle\", \"fa fa-square-o icon-check-empty\", \"zoom\"], [\"\", \"\", \"\", \"\"], [\"Download\", \"Download plot\", \"fa fa-floppy-o icon-save\", \"download\"]];\n",
       "\n",
       "mpl.extensions = [\"eps\", \"jpeg\", \"pdf\", \"png\", \"ps\", \"raw\", \"svg\", \"tif\"];\n",
       "\n",
       "mpl.default_extension = \"png\";var comm_websocket_adapter = function(comm) {\n",
       "    // Create a \"websocket\"-like object which calls the given IPython comm\n",
       "    // object with the appropriate methods. Currently this is a non binary\n",
       "    // socket, so there is still some room for performance tuning.\n",
       "    var ws = {};\n",
       "\n",
       "    ws.close = function() {\n",
       "        comm.close()\n",
       "    };\n",
       "    ws.send = function(m) {\n",
       "        //console.log('sending', m);\n",
       "        comm.send(m);\n",
       "    };\n",
       "    // Register the callback with on_msg.\n",
       "    comm.on_msg(function(msg) {\n",
       "        //console.log('receiving', msg['content']['data'], msg);\n",
       "        // Pass the mpl event to the overridden (by mpl) onmessage function.\n",
       "        ws.onmessage(msg['content']['data'])\n",
       "    });\n",
       "    return ws;\n",
       "}\n",
       "\n",
       "mpl.mpl_figure_comm = function(comm, msg) {\n",
       "    // This is the function which gets called when the mpl process\n",
       "    // starts-up an IPython Comm through the \"matplotlib\" channel.\n",
       "\n",
       "    var id = msg.content.data.id;\n",
       "    // Get hold of the div created by the display call when the Comm\n",
       "    // socket was opened in Python.\n",
       "    var element = $(\"#\" + id);\n",
       "    var ws_proxy = comm_websocket_adapter(comm)\n",
       "\n",
       "    function ondownload(figure, format) {\n",
       "        window.open(figure.imageObj.src);\n",
       "    }\n",
       "\n",
       "    var fig = new mpl.figure(id, ws_proxy,\n",
       "                           ondownload,\n",
       "                           element.get(0));\n",
       "\n",
       "    // Call onopen now - mpl needs it, as it is assuming we've passed it a real\n",
       "    // web socket which is closed, not our websocket->open comm proxy.\n",
       "    ws_proxy.onopen();\n",
       "\n",
       "    fig.parent_element = element.get(0);\n",
       "    fig.cell_info = mpl.find_output_cell(\"<div id='\" + id + \"'></div>\");\n",
       "    if (!fig.cell_info) {\n",
       "        console.error(\"Failed to find cell for figure\", id, fig);\n",
       "        return;\n",
       "    }\n",
       "\n",
       "    var output_index = fig.cell_info[2]\n",
       "    var cell = fig.cell_info[0];\n",
       "\n",
       "};\n",
       "\n",
       "mpl.figure.prototype.handle_close = function(fig, msg) {\n",
       "    var width = fig.canvas.width/mpl.ratio\n",
       "    fig.root.unbind('remove')\n",
       "\n",
       "    // Update the output cell to use the data from the current canvas.\n",
       "    fig.push_to_output();\n",
       "    var dataURL = fig.canvas.toDataURL();\n",
       "    // Re-enable the keyboard manager in IPython - without this line, in FF,\n",
       "    // the notebook keyboard shortcuts fail.\n",
       "    IPython.keyboard_manager.enable()\n",
       "    $(fig.parent_element).html('<img src=\"' + dataURL + '\" width=\"' + width + '\">');\n",
       "    fig.close_ws(fig, msg);\n",
       "}\n",
       "\n",
       "mpl.figure.prototype.close_ws = function(fig, msg){\n",
       "    fig.send_message('closing', msg);\n",
       "    // fig.ws.close()\n",
       "}\n",
       "\n",
       "mpl.figure.prototype.push_to_output = function(remove_interactive) {\n",
       "    // Turn the data on the canvas into data in the output cell.\n",
       "    var width = this.canvas.width/mpl.ratio\n",
       "    var dataURL = this.canvas.toDataURL();\n",
       "    this.cell_info[1]['text/html'] = '<img src=\"' + dataURL + '\" width=\"' + width + '\">';\n",
       "}\n",
       "\n",
       "mpl.figure.prototype.updated_canvas_event = function() {\n",
       "    // Tell IPython that the notebook contents must change.\n",
       "    IPython.notebook.set_dirty(true);\n",
       "    this.send_message(\"ack\", {});\n",
       "    var fig = this;\n",
       "    // Wait a second, then push the new image to the DOM so\n",
       "    // that it is saved nicely (might be nice to debounce this).\n",
       "    setTimeout(function () { fig.push_to_output() }, 1000);\n",
       "}\n",
       "\n",
       "mpl.figure.prototype._init_toolbar = function() {\n",
       "    var fig = this;\n",
       "\n",
       "    var nav_element = $('<div/>')\n",
       "    nav_element.attr('style', 'width: 100%');\n",
       "    this.root.append(nav_element);\n",
       "\n",
       "    // Define a callback function for later on.\n",
       "    function toolbar_event(event) {\n",
       "        return fig.toolbar_button_onclick(event['data']);\n",
       "    }\n",
       "    function toolbar_mouse_event(event) {\n",
       "        return fig.toolbar_button_onmouseover(event['data']);\n",
       "    }\n",
       "\n",
       "    for(var toolbar_ind in mpl.toolbar_items){\n",
       "        var name = mpl.toolbar_items[toolbar_ind][0];\n",
       "        var tooltip = mpl.toolbar_items[toolbar_ind][1];\n",
       "        var image = mpl.toolbar_items[toolbar_ind][2];\n",
       "        var method_name = mpl.toolbar_items[toolbar_ind][3];\n",
       "\n",
       "        if (!name) { continue; };\n",
       "\n",
       "        var button = $('<button class=\"btn btn-default\" href=\"#\" title=\"' + name + '\"><i class=\"fa ' + image + ' fa-lg\"></i></button>');\n",
       "        button.click(method_name, toolbar_event);\n",
       "        button.mouseover(tooltip, toolbar_mouse_event);\n",
       "        nav_element.append(button);\n",
       "    }\n",
       "\n",
       "    // Add the status bar.\n",
       "    var status_bar = $('<span class=\"mpl-message\" style=\"text-align:right; float: right;\"/>');\n",
       "    nav_element.append(status_bar);\n",
       "    this.message = status_bar[0];\n",
       "\n",
       "    // Add the close button to the window.\n",
       "    var buttongrp = $('<div class=\"btn-group inline pull-right\"></div>');\n",
       "    var button = $('<button class=\"btn btn-mini btn-primary\" href=\"#\" title=\"Stop Interaction\"><i class=\"fa fa-power-off icon-remove icon-large\"></i></button>');\n",
       "    button.click(function (evt) { fig.handle_close(fig, {}); } );\n",
       "    button.mouseover('Stop Interaction', toolbar_mouse_event);\n",
       "    buttongrp.append(button);\n",
       "    var titlebar = this.root.find($('.ui-dialog-titlebar'));\n",
       "    titlebar.prepend(buttongrp);\n",
       "}\n",
       "\n",
       "mpl.figure.prototype._root_extra_style = function(el){\n",
       "    var fig = this\n",
       "    el.on(\"remove\", function(){\n",
       "\tfig.close_ws(fig, {});\n",
       "    });\n",
       "}\n",
       "\n",
       "mpl.figure.prototype._canvas_extra_style = function(el){\n",
       "    // this is important to make the div 'focusable\n",
       "    el.attr('tabindex', 0)\n",
       "    // reach out to IPython and tell the keyboard manager to turn it's self\n",
       "    // off when our div gets focus\n",
       "\n",
       "    // location in version 3\n",
       "    if (IPython.notebook.keyboard_manager) {\n",
       "        IPython.notebook.keyboard_manager.register_events(el);\n",
       "    }\n",
       "    else {\n",
       "        // location in version 2\n",
       "        IPython.keyboard_manager.register_events(el);\n",
       "    }\n",
       "\n",
       "}\n",
       "\n",
       "mpl.figure.prototype._key_event_extra = function(event, name) {\n",
       "    var manager = IPython.notebook.keyboard_manager;\n",
       "    if (!manager)\n",
       "        manager = IPython.keyboard_manager;\n",
       "\n",
       "    // Check for shift+enter\n",
       "    if (event.shiftKey && event.which == 13) {\n",
       "        this.canvas_div.blur();\n",
       "        event.shiftKey = false;\n",
       "        // Send a \"J\" for go to next cell\n",
       "        event.which = 74;\n",
       "        event.keyCode = 74;\n",
       "        manager.command_mode();\n",
       "        manager.handle_keydown(event);\n",
       "    }\n",
       "}\n",
       "\n",
       "mpl.figure.prototype.handle_save = function(fig, msg) {\n",
       "    fig.ondownload(fig, null);\n",
       "}\n",
       "\n",
       "\n",
       "mpl.find_output_cell = function(html_output) {\n",
       "    // Return the cell and output element which can be found *uniquely* in the notebook.\n",
       "    // Note - this is a bit hacky, but it is done because the \"notebook_saving.Notebook\"\n",
       "    // IPython event is triggered only after the cells have been serialised, which for\n",
       "    // our purposes (turning an active figure into a static one), is too late.\n",
       "    var cells = IPython.notebook.get_cells();\n",
       "    var ncells = cells.length;\n",
       "    for (var i=0; i<ncells; i++) {\n",
       "        var cell = cells[i];\n",
       "        if (cell.cell_type === 'code'){\n",
       "            for (var j=0; j<cell.output_area.outputs.length; j++) {\n",
       "                var data = cell.output_area.outputs[j];\n",
       "                if (data.data) {\n",
       "                    // IPython >= 3 moved mimebundle to data attribute of output\n",
       "                    data = data.data;\n",
       "                }\n",
       "                if (data['text/html'] == html_output) {\n",
       "                    return [cell, data, j];\n",
       "                }\n",
       "            }\n",
       "        }\n",
       "    }\n",
       "}\n",
       "\n",
       "// Register the function which deals with the matplotlib target/channel.\n",
       "// The kernel may be null if the page has been refreshed.\n",
       "if (IPython.notebook.kernel != null) {\n",
       "    IPython.notebook.kernel.comm_manager.register_target('matplotlib', mpl.mpl_figure_comm);\n",
       "}\n"
      ],
      "text/plain": [
       "<IPython.core.display.Javascript object>"
      ]
     },
     "metadata": {},
     "output_type": "display_data"
    },
    {
     "data": {
      "text/html": [
       "<img src=\"data:image/png;base64,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\" width=\"640\">"
      ],
      "text/plain": [
       "<IPython.core.display.HTML object>"
      ]
     },
     "metadata": {},
     "output_type": "display_data"
    },
    {
     "ename": "AssertionError",
     "evalue": "Torch not compiled with CUDA enabled",
     "output_type": "error",
     "traceback": [
      "\u001b[0;31m---------------------------------------------------------------------------\u001b[0m",
      "\u001b[0;31mAssertionError\u001b[0m                            Traceback (most recent call last)",
      "\u001b[0;32m<ipython-input-56-56e4f589ae14>\u001b[0m in \u001b[0;36m<module>\u001b[0;34m()\u001b[0m\n\u001b[1;32m      8\u001b[0m \u001b[0mmodel\u001b[0m\u001b[0;34m.\u001b[0m\u001b[0meval\u001b[0m\u001b[0;34m(\u001b[0m\u001b[0;34m)\u001b[0m\u001b[0;34m\u001b[0m\u001b[0;34m\u001b[0m\u001b[0m\n\u001b[1;32m      9\u001b[0m \u001b[0;32mwith\u001b[0m \u001b[0mtorch\u001b[0m\u001b[0;34m.\u001b[0m\u001b[0mno_grad\u001b[0m\u001b[0;34m(\u001b[0m\u001b[0;34m)\u001b[0m\u001b[0;34m:\u001b[0m\u001b[0;34m\u001b[0m\u001b[0;34m\u001b[0m\u001b[0m\n\u001b[0;32m---> 10\u001b[0;31m     \u001b[0mlogits\u001b[0m \u001b[0;34m=\u001b[0m \u001b[0mmodel\u001b[0m\u001b[0;34m(\u001b[0m\u001b[0mX_test\u001b[0m\u001b[0;34m.\u001b[0m\u001b[0mcuda\u001b[0m\u001b[0;34m(\u001b[0m\u001b[0;34m)\u001b[0m\u001b[0;34m)\u001b[0m\u001b[0;34m\u001b[0m\u001b[0;34m\u001b[0m\u001b[0m\n\u001b[0m\u001b[1;32m     11\u001b[0m     \u001b[0mprediction\u001b[0m \u001b[0;34m=\u001b[0m \u001b[0mpred\u001b[0m\u001b[0;34m(\u001b[0m\u001b[0mlogits\u001b[0m\u001b[0;34m)\u001b[0m\u001b[0;34m\u001b[0m\u001b[0;34m\u001b[0m\u001b[0m\n\u001b[1;32m     12\u001b[0m \u001b[0mprint\u001b[0m\u001b[0;34m(\u001b[0m\u001b[0;34m\"Prediction: \"\u001b[0m\u001b[0;34m,\u001b[0m \u001b[0mprediction\u001b[0m\u001b[0;34m.\u001b[0m\u001b[0mtolist\u001b[0m\u001b[0;34m(\u001b[0m\u001b[0;34m)\u001b[0m\u001b[0;34m)\u001b[0m\u001b[0;34m\u001b[0m\u001b[0;34m\u001b[0m\u001b[0m\n",
      "\u001b[0;32m/Users/atabone/anaconda3/lib/python3.7/site-packages/torch/cuda/__init__.py\u001b[0m in \u001b[0;36m_lazy_init\u001b[0;34m()\u001b[0m\n\u001b[1;32m    176\u001b[0m         raise RuntimeError(\n\u001b[1;32m    177\u001b[0m             \"Cannot re-initialize CUDA in forked subprocess. \" + msg)\n\u001b[0;32m--> 178\u001b[0;31m     \u001b[0m_check_driver\u001b[0m\u001b[0;34m(\u001b[0m\u001b[0;34m)\u001b[0m\u001b[0;34m\u001b[0m\u001b[0;34m\u001b[0m\u001b[0m\n\u001b[0m\u001b[1;32m    179\u001b[0m     \u001b[0mtorch\u001b[0m\u001b[0;34m.\u001b[0m\u001b[0m_C\u001b[0m\u001b[0;34m.\u001b[0m\u001b[0m_cuda_init\u001b[0m\u001b[0;34m(\u001b[0m\u001b[0;34m)\u001b[0m\u001b[0;34m\u001b[0m\u001b[0;34m\u001b[0m\u001b[0m\n\u001b[1;32m    180\u001b[0m     \u001b[0m_cudart\u001b[0m \u001b[0;34m=\u001b[0m \u001b[0m_load_cudart\u001b[0m\u001b[0;34m(\u001b[0m\u001b[0;34m)\u001b[0m\u001b[0;34m\u001b[0m\u001b[0;34m\u001b[0m\u001b[0m\n",
      "\u001b[0;32m/Users/atabone/anaconda3/lib/python3.7/site-packages/torch/cuda/__init__.py\u001b[0m in \u001b[0;36m_check_driver\u001b[0;34m()\u001b[0m\n\u001b[1;32m     90\u001b[0m \u001b[0;32mdef\u001b[0m \u001b[0m_check_driver\u001b[0m\u001b[0;34m(\u001b[0m\u001b[0;34m)\u001b[0m\u001b[0;34m:\u001b[0m\u001b[0;34m\u001b[0m\u001b[0;34m\u001b[0m\u001b[0m\n\u001b[1;32m     91\u001b[0m     \u001b[0;32mif\u001b[0m \u001b[0;32mnot\u001b[0m \u001b[0mhasattr\u001b[0m\u001b[0;34m(\u001b[0m\u001b[0mtorch\u001b[0m\u001b[0;34m.\u001b[0m\u001b[0m_C\u001b[0m\u001b[0;34m,\u001b[0m \u001b[0;34m'_cuda_isDriverSufficient'\u001b[0m\u001b[0;34m)\u001b[0m\u001b[0;34m:\u001b[0m\u001b[0;34m\u001b[0m\u001b[0;34m\u001b[0m\u001b[0m\n\u001b[0;32m---> 92\u001b[0;31m         \u001b[0;32mraise\u001b[0m \u001b[0mAssertionError\u001b[0m\u001b[0;34m(\u001b[0m\u001b[0;34m\"Torch not compiled with CUDA enabled\"\u001b[0m\u001b[0;34m)\u001b[0m\u001b[0;34m\u001b[0m\u001b[0;34m\u001b[0m\u001b[0m\n\u001b[0m\u001b[1;32m     93\u001b[0m     \u001b[0;32mif\u001b[0m \u001b[0;32mnot\u001b[0m \u001b[0mtorch\u001b[0m\u001b[0;34m.\u001b[0m\u001b[0m_C\u001b[0m\u001b[0;34m.\u001b[0m\u001b[0m_cuda_isDriverSufficient\u001b[0m\u001b[0;34m(\u001b[0m\u001b[0;34m)\u001b[0m\u001b[0;34m:\u001b[0m\u001b[0;34m\u001b[0m\u001b[0;34m\u001b[0m\u001b[0m\n\u001b[1;32m     94\u001b[0m         \u001b[0;32mif\u001b[0m \u001b[0mtorch\u001b[0m\u001b[0;34m.\u001b[0m\u001b[0m_C\u001b[0m\u001b[0;34m.\u001b[0m\u001b[0m_cuda_getDriverVersion\u001b[0m\u001b[0;34m(\u001b[0m\u001b[0;34m)\u001b[0m \u001b[0;34m==\u001b[0m \u001b[0;36m0\u001b[0m\u001b[0;34m:\u001b[0m\u001b[0;34m\u001b[0m\u001b[0;34m\u001b[0m\u001b[0m\n",
      "\u001b[0;31mAssertionError\u001b[0m: Torch not compiled with CUDA enabled"
     ]
    }
   ],
   "source": [
    "# Visualize some of the test images \n",
    "# and see their prediction\n",
    "\n",
    "test_iterator = iter(testloader)\n",
    "X_test, y_test = test_iterator.next()\n",
    "X_test, y_test = X_test[:5], y_test[:5]\n",
    "visualize_data(X_test)\n",
    "model.eval()\n",
    "with torch.no_grad():\n",
    "    logits = model(X_test.cuda())\n",
    "    prediction = pred(logits)\n",
    "print(\"Prediction: \", prediction.tolist())"
   ]
  }
 ],
 "metadata": {
  "celltoolbar": "Create Assignment",
  "kernelspec": {
   "display_name": "Python 3",
   "language": "python",
   "name": "python3"
  },
  "language_info": {
   "codemirror_mode": {
    "name": "ipython",
    "version": 3
   },
   "file_extension": ".py",
   "mimetype": "text/x-python",
   "name": "python",
   "nbconvert_exporter": "python",
   "pygments_lexer": "ipython3",
   "version": "3.7.3"
  }
 },
 "nbformat": 4,
 "nbformat_minor": 2
}
