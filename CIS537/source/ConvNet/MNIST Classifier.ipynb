{
 "cells": [
  {
   "cell_type": "markdown",
   "metadata": {},
   "source": [
    "## About this Project\n",
    "\n",
    "In this project, you will implement a simple convolutional neural network that can recognize digits using [PyTorch](https://pytorch.org/).\n",
    "\n",
    "<h3>Evaluation</h3>\n",
    "\n",
    "<p><strong>This project must be successfully completed and submitted in order to receive credit for this course. Your score on this project will be included in your final grade calculation.</strong><p>\n",
    "    \n",
    "<p>You are expected to write code where you see <em># YOUR CODE HERE</em> within the cells of this notebook. Not all cells will be graded; code input cells followed by cells marked with <em>#Autograder test cell</em> will be graded. Upon submitting your work, the code you write at these designated positions will be assessed using an \"autograder\" that will run all test cells to assess your code. You will receive feedback from the autograder that will identify any errors in your code. Use this feedback to improve your code if you need to resubmit. Be sure not to change the names of any provided functions, classes, or variables within the existing code cells, as this will interfere with the autograder. Also, remember to execute all code cells sequentially, not just those you’ve edited, to ensure your code runs properly.</p>\n",
    "    \n",
    "<p>You can resubmit your work as many times as necessary before the submission deadline. If you experience difficulty or have questions about this exercise, use the Q&A discussion board to engage with your peers or seek assistance from the instructor.<p>\n",
    "\n",
    "<p>Before starting your work, please review <a href=\"https://s3.amazonaws.com/ecornell/global/eCornellPlagiarismPolicy.pdf\">eCornell's policy regarding plagiarism</a> (the presentation of someone else's work as your own without source credit).</p>\n",
    "\n",
    "<h3>Submit Code for Autograder Feedback</h3>\n",
    "\n",
    "<p>Once you have completed your work on this notebook, you will submit your code for autograder review. Follow these steps:</p>\n",
    "\n",
    "<ol>\n",
    "  <li><strong>Save your notebook.</strong></li>\n",
    "  <li><strong>Mark as Completed —</strong> In the blue menu bar along the top of this code exercise window, you’ll see a menu item called <strong>Education</strong>. In the <strong>Education</strong> menu, click <strong>Mark as Completed</strong> to submit your code for autograder/instructor review. This process will take a moment and a progress bar will show you the status of your submission.</li>\n",
    "\t<li><strong>Review your results —</strong> Once your work is marked as complete, the results of the autograder will automatically be presented in a new tab within the code exercise window. You can click on the assessment name in this feedback window to see more details regarding specific feedback/errors in your code submission.</li>\n",
    "  <li><strong>Repeat, if necessary —</strong> The Jupyter notebook will always remain accessible in the first tabbed window of the exercise. To reattempt the work, you will first need to click <strong>Mark as Uncompleted</strong> in the <strong>Education</strong> menu and then proceed to make edits to the notebook. Once you are ready to resubmit, follow steps one through three. You can repeat this procedure as many times as necessary.</li>\n",
    "\n",
    "<p>You can also download a copy of this notebook in multiple formats using the <strong>Download as</strong> option in the <strong>File</strong> menu above.</p>"
   ]
  },
  {
   "cell_type": "markdown",
   "metadata": {
    "nbgrader": {
     "grade": false,
     "grade_id": "cell-081551474357d106",
     "locked": true,
     "schema_version": 1,
     "solution": false
    }
   },
   "source": [
    "<h2>Getting Started</h2>\n",
    "<h3>Python Initialization</h3> \n",
    "\n",
    "Please run the following code to initialize your Python kernel. You should be running a version of Python 3.x. </p>"
   ]
  },
  {
   "cell_type": "code",
   "execution_count": null,
   "metadata": {},
   "outputs": [],
   "source": [
    "%load_ext autoreload"
   ]
  },
  {
   "cell_type": "code",
   "execution_count": null,
   "metadata": {},
   "outputs": [],
   "source": [
    "%%capture\n",
    "from tqdm import tqdm_notebook as tqdm\n",
    "tqdm().pandas()"
   ]
  },
  {
   "cell_type": "code",
   "execution_count": null,
   "metadata": {
    "nbgrader": {
     "grade": false,
     "grade_id": "cell-896c31b5bcfa5761",
     "locked": true,
     "schema_version": 1,
     "solution": false
    }
   },
   "outputs": [],
   "source": [
    "%autoreload 2\n",
    "# First off, import some packages\n",
    "import torch\n",
    "import torch.nn as nn\n",
    "from torch.nn import functional as F\n",
    "\n",
    "from torchvision import datasets, transforms\n",
    "import torchvision\n",
    "\n",
    "import numpy as np\n",
    "import matplotlib.pyplot as plt\n",
    "from helper import *\n",
    "\n",
    "%matplotlib notebook\n",
    "print('You\\'re running python %s' % sys.version.split(' ')[0])\n",
    "\n",
    "# Seed the random number generator\n",
    "torch.manual_seed(1)\n",
    "torch.cuda.manual_seed(1)\n",
    "\n",
    "# Check whether you have a gpu\n",
    "# If you have a gpu, model training will be done on gpu\n",
    "# which is significantly faster than training on cpu\n",
    "gpu_available = torch.cuda.is_available()\n",
    "print (\"GPU is available:\",gpu_available)"
   ]
  },
  {
   "cell_type": "markdown",
   "metadata": {
    "nbgrader": {
     "grade": false,
     "grade_id": "cell-dcc8a6150cf1dbd1",
     "locked": true,
     "schema_version": 1,
     "solution": false
    }
   },
   "source": [
    "## Convolutional Neural Network\n",
    "\n",
    "### Part One:  Loading the Dataset and Setting up Dataloader"
   ]
  },
  {
   "cell_type": "code",
   "execution_count": null,
   "metadata": {
    "nbgrader": {
     "grade": false,
     "grade_id": "cell-55e2fb707fa3e14f",
     "locked": true,
     "schema_version": 1,
     "solution": false
    }
   },
   "outputs": [],
   "source": [
    "# Setup the training set and test set\n",
    "trainset = datasets.MNIST(root='.', train=True, download=True, transform=transforms.ToTensor())\n",
    "testset = datasets.MNIST(root='.', train=False, download=True, transform=transforms.ToTensor())\n",
    "\n",
    "# Setting up dataloader\n",
    "# A dataloader stacks small batches (128 in our case) of dataset \n",
    "# into Tensor for ease of training.\n",
    "trainloader = torch.utils.data.DataLoader(trainset, shuffle=True, drop_last=True, batch_size=128)\n",
    "testloader = torch.utils.data.DataLoader(testset, shuffle=True, drop_last=False, batch_size=128)"
   ]
  },
  {
   "cell_type": "code",
   "execution_count": null,
   "metadata": {
    "nbgrader": {
     "grade": false,
     "grade_id": "cell-eb179de0d1718600",
     "locked": true,
     "schema_version": 1,
     "solution": false
    }
   },
   "outputs": [],
   "source": [
    "# Visualize the data\n",
    "# The following line gets us small batch of data\n",
    "# X is a tensor of size (128, 1, 28, 28) that contains\n",
    "# a batch of images\n",
    "# y is a tensor of size (128) that contains the labels  \n",
    "# in X\n",
    "X, y = iter(trainloader).next()\n",
    "\n",
    "def visualize_data(X):\n",
    "    img_grid = torchvision.utils.make_grid(X[:5], padding=10)\n",
    "    img_grid = img_grid.numpy()\n",
    "    plt.imshow(np.transpose(img_grid, (1,2,0)), interpolation='nearest')\n",
    "    return\n",
    "\n",
    "visualize_data(X)"
   ]
  },
  {
   "cell_type": "markdown",
   "metadata": {
    "nbgrader": {
     "grade": false,
     "grade_id": "cell-efd6981d42af915f",
     "locked": true,
     "schema_version": 1,
     "solution": false
    }
   },
   "source": [
    "### Part Two: Define a convolutional neural network [Partially Graded]\n",
    "#### Define a building block of a convolutional neural network"
   ]
  },
  {
   "cell_type": "code",
   "execution_count": null,
   "metadata": {
    "nbgrader": {
     "grade": false,
     "grade_id": "cell-8bff8e61e67cc7cb",
     "locked": true,
     "schema_version": 1,
     "solution": false
    }
   },
   "outputs": [],
   "source": [
    "class Block(nn.Module):\n",
    "    def __init__(self, in_channel, out_channel, kernel_size=3, stride=1):\n",
    "        super(Block, self).__init__()\n",
    "        \n",
    "        self.in_channel = in_channel\n",
    "        self.out_channel = out_channel\n",
    "        self.kernel_size = kernel_size\n",
    "        self.stride = stride\n",
    "        \n",
    "        # This block contains a convolutional layer\n",
    "        # then a batch normalization layer\n",
    "        \n",
    "        self.conv = nn.Conv2d(in_channel, out_channel, kernel_size, stride)\n",
    "        self.bn = nn.BatchNorm2d(out_channel)\n",
    "        return\n",
    "    \n",
    "    def forward(self, x):\n",
    "        # passes the input image through a convolutional layer\n",
    "        # followed by a batch normalization layer and relu transition\n",
    "        out = F.relu(self.bn(self.conv(x)))\n",
    "        return out"
   ]
  },
  {
   "cell_type": "code",
   "execution_count": null,
   "metadata": {
    "nbgrader": {
     "grade": false,
     "grade_id": "cell-a91136f959810d8a",
     "locked": true,
     "schema_version": 1,
     "solution": false
    }
   },
   "outputs": [],
   "source": [
    "# Create a block that is made up of 10 filters size 3x3 and stride 1\n",
    "\n",
    "# The block takes in a image of 1 channel\n",
    "Block1 = Block(1, 10, 3, 1)\n",
    "out = Block1(X)\n",
    "\n",
    "# After passing our image through block 1\n",
    "# we get the following tensor\n",
    "print(out.shape)"
   ]
  },
  {
   "cell_type": "markdown",
   "metadata": {
    "nbgrader": {
     "grade": false,
     "grade_id": "cell-06808082df76e1d2",
     "locked": true,
     "schema_version": 1,
     "solution": false
    }
   },
   "source": [
    "#### Build a convolutional neural network using the block class [Graded]\n",
    "In this section, you will build a convolutional network that consists of 4 blocks, an average pooling layer and a fully connected layer. We have created the first block for you. What you need to do is create the rest of the blocks based on the specification.  \n",
    "\n",
    "You can see that `self.block1` is initialized with `Block()`. Below it are the specs for the other 3 blocks.\n",
    "\n",
    "In other words, your solution should be 3 lines that intialize `self.block2`, `self.block3`, and `self.block4` where it says `# Your code here`. You need to pass in the appropriate parameters to `Block(input_size, num_filters,kernel_size, stride)`. Note that the input of one layer is the output of the previous layer.\n",
    "\n",
    "Please do not change the name of the layers or else you risk breaking the autograder code!"
   ]
  },
  {
   "cell_type": "code",
   "execution_count": null,
   "metadata": {
    "nbgrader": {
     "grade": false,
     "grade_id": "cell-convnet",
     "locked": false,
     "schema_version": 1,
     "solution": true
    }
   },
   "outputs": [],
   "source": [
    "class ConvNet(nn.Module):\n",
    "    def __init__(self):\n",
    "        super(ConvNet, self).__init__() \n",
    "        # First block takes in the image\n",
    "        # Filter specification:\n",
    "            # Num filters=16, kernel size 3, stride 1\n",
    "        self.block1 = Block(1, 16, 3, 1)\n",
    "        \n",
    "        # TODO\n",
    "        # Second block takes in the output of the first block\n",
    "        # Filter specification:\n",
    "            # Num filters=32, kernel size 3, stride 1\n",
    "        self.block2 = None\n",
    "        \n",
    "        # TODO\n",
    "        # Third block takes in the output of the 2nd block\n",
    "        # Filter specification:\n",
    "            # Num filters=64, kernel size 3, stride 1\n",
    "        self.block3 = None\n",
    "        \n",
    "        # TODO\n",
    "        # Third block takes in the output of the 3rd block\n",
    "        # Filter specification:\n",
    "            # Num filters=128, kernel size 3, stride 1\n",
    "        self.block4 = None\n",
    "        \n",
    "        # This is the average pooling layer\n",
    "        # This is applied to the output of the last convolutional layer\n",
    "        # Essentially, it averages feature maps spatially to a single number\n",
    "        # For instance, if the output of the last conv layer is of size (128, 15, 4, 4)\n",
    "        # the following layer will average the 4x4 array into a single number\n",
    "        # so the output of applying this layer would have size (128, 15, 1, 1)\n",
    "        # This operation vectorize the feature maps so that we can have a vector\n",
    "        # that can be passed into a simple linear layer for classification\n",
    "        self.avgpool = nn.AdaptiveAvgPool2d(1)\n",
    "        \n",
    "        # Create a linear layer\n",
    "        # the dataset has 10 classes\n",
    "        # the model should output 10 belief values\n",
    "        self.fc = nn.Linear(128, 10)\n",
    "        \n",
    "        # BEGIN SOLUTION\n",
    "        self.block2 = Block(16, 32, 3, 1)\n",
    "        self.block3 = Block(32, 64, 3, 1)\n",
    "        self.block4 = Block(64, 128, 3, 1)\n",
    "        # END SOLUTION\n",
    "        return\n",
    "    \n",
    "    def forward(self, x):\n",
    "        batch_size = x.size(0)\n",
    "        out = self.block1(x)\n",
    "        out = self.block2(out)\n",
    "        out = self.block3(out)\n",
    "        out = self.block4(out)\n",
    "        \n",
    "        # .squeeze() operation remove unnecessary dimension\n",
    "        # i.e if X is of shape (128, 128, 1, 1)\n",
    "        # X.unsqueeze() becomes (128, 128)\n",
    "        out = self.avgpool(out).squeeze()\n",
    "        out = self.fc(out)\n",
    "        return out"
   ]
  },
  {
   "cell_type": "code",
   "execution_count": null,
   "metadata": {
    "nbgrader": {
     "grade": false,
     "grade_id": "cell-24c0e993188b8dcc",
     "locked": true,
     "schema_version": 1,
     "solution": false
    }
   },
   "outputs": [],
   "source": [
    "# Create a model\n",
    "model = ConvNet()\n",
    "\n",
    "# Move the model to a cuda gpu\n",
    "# Doing this step allows up to do training on gpu\n",
    "# and gain significant speed up\n",
    "if gpu_available:\n",
    "    model = model.cuda()"
   ]
  },
  {
   "cell_type": "code",
   "execution_count": null,
   "metadata": {
    "nbgrader": {
     "grade": false,
     "grade_id": "cell-model_selftest",
     "locked": true,
     "schema_version": 1,
     "solution": false
    }
   },
   "outputs": [],
   "source": [
    "def model_test1():\n",
    "    \n",
    "    model = ConvNet()\n",
    "    \n",
    "    if gpu_available:\n",
    "        model = model.cuda()\n",
    "    # check whether block2, 3, 4 are instances of block\n",
    "    isblock2 = isinstance(model.block2, Block)\n",
    "    isblock3 = isinstance(model.block3, Block)\n",
    "    isblock4 = isinstance(model.block3, Block)\n",
    "    return isblock2 and isblock3 and isblock4\n",
    "    \n",
    "\n",
    "def model_test2():\n",
    "    model = ConvNet()\n",
    "    \n",
    "    if gpu_available:\n",
    "        model = model.cuda()\n",
    "    # Checking the specification for block 2\n",
    "    \n",
    "    # Check input channel\n",
    "    in_channel_check = model.block2.in_channel == 16\n",
    "    \n",
    "    # Check the output channel\n",
    "    out_channel_check = model.block2.out_channel == 32\n",
    "    \n",
    "    # Check the kernel size\n",
    "    kernel_size_check = model.block2.kernel_size == 3\n",
    "    \n",
    "    # check the stride size\n",
    "    stride_check = model.block2.stride == 1\n",
    "    return in_channel_check and out_channel_check and kernel_size_check and stride_check\n",
    "\n",
    "def model_test3():\n",
    "    model = ConvNet()\n",
    "    \n",
    "    if gpu_available:\n",
    "        model = model.cuda()\n",
    "    # Checking the specification for block 3\n",
    "    \n",
    "    # Check input channel\n",
    "    in_channel_check = model.block3.in_channel == 32\n",
    "    \n",
    "    # Check the output channel\n",
    "    out_channel_check = model.block3.out_channel == 64\n",
    "    \n",
    "    # Check the kernel size\n",
    "    kernel_size_check = model.block3.kernel_size == 3\n",
    "    \n",
    "    # check the stride size\n",
    "    stride_check = model.block3.stride == 1\n",
    "    return in_channel_check and out_channel_check and kernel_size_check and stride_check\n",
    "\n",
    "def model_test4():\n",
    "    model = ConvNet()\n",
    "    \n",
    "    if gpu_available:\n",
    "        model = model.cuda()\n",
    "    # Checking the specification for block 3\n",
    "    \n",
    "    # Check input channel\n",
    "    in_channel_check = model.block4.in_channel == 64\n",
    "    \n",
    "    # Check the output channel\n",
    "    out_channel_check = model.block4.out_channel == 128\n",
    "    \n",
    "    # Check the kernel size\n",
    "    kernel_size_check = model.block4.kernel_size == 3\n",
    "    \n",
    "    # check the stride size\n",
    "    stride_check = model.block4.stride == 1\n",
    "    return in_channel_check and out_channel_check and kernel_size_check and stride_check\n",
    "\n",
    "\n",
    "runtest(model_test1, 'model_test1')\n",
    "runtest(model_test2, 'model_test2')\n",
    "runtest(model_test3, 'model_test3')\n",
    "runtest(model_test4, 'model_test4')"
   ]
  },
  {
   "cell_type": "code",
   "execution_count": null,
   "metadata": {
    "nbgrader": {
     "grade": true,
     "grade_id": "cell-model_test1",
     "locked": true,
     "points": 1,
     "schema_version": 1,
     "solution": false
    }
   },
   "outputs": [],
   "source": [
    "# Autograder Test Cell\n",
    "# model_test1\n",
    "\n",
    "### BEGIN HIDDEN TESTS\n",
    "assert model_test1()\n",
    "### END HIDDEN TESTS"
   ]
  },
  {
   "cell_type": "code",
   "execution_count": null,
   "metadata": {
    "nbgrader": {
     "grade": true,
     "grade_id": "cell-model_test2",
     "locked": true,
     "points": 1,
     "schema_version": 1,
     "solution": false
    }
   },
   "outputs": [],
   "source": [
    "# Autograder Test Cell\n",
    "# model_test2\n",
    "\n",
    "### BEGIN HIDDEN TESTS\n",
    "assert model_test2()\n",
    "### END HIDDEN TESTS"
   ]
  },
  {
   "cell_type": "code",
   "execution_count": null,
   "metadata": {
    "nbgrader": {
     "grade": true,
     "grade_id": "cell-model_test3",
     "locked": true,
     "points": 1,
     "schema_version": 1,
     "solution": false
    }
   },
   "outputs": [],
   "source": [
    "# Autograder Test Cell\n",
    "# model_test3\n",
    "\n",
    "### BEGIN HIDDEN TESTS\n",
    "assert model_test3()\n",
    "### END HIDDEN TESTS"
   ]
  },
  {
   "cell_type": "code",
   "execution_count": null,
   "metadata": {
    "nbgrader": {
     "grade": true,
     "grade_id": "cell-model_test4",
     "locked": true,
     "points": 1,
     "schema_version": 1,
     "solution": false
    }
   },
   "outputs": [],
   "source": [
    "# Autograder Test Cell\n",
    "# model_test4\n",
    "\n",
    "### BEGIN HIDDEN TESTS\n",
    "assert model_test4()\n",
    "### END HIDDEN TESTS"
   ]
  },
  {
   "cell_type": "markdown",
   "metadata": {
    "nbgrader": {
     "grade": false,
     "grade_id": "cell-cbde36d56f80c39f",
     "locked": true,
     "schema_version": 1,
     "solution": false
    }
   },
   "source": [
    "### Part Three: Define a Loss Function and Optimizer [Graded] \n",
    "\n",
    "You are going to define the loss function and the optimizer. You should familiarize yourself with looking up PyTorch documentation.\n",
    "\n",
    "#### Loss function [Graded]\n",
    "The loss function should be the **cross entropy loss**. You can also implement the loss function yourself but we strongly suggest you use PyTorch's implementation -- it should be one short call to a [library](https://pytorch.org/docs/stable/nn.html) function."
   ]
  },
  {
   "cell_type": "code",
   "execution_count": null,
   "metadata": {
    "nbgrader": {
     "grade": false,
     "grade_id": "cell-42bd2eb0908f0a09",
     "locked": false,
     "schema_version": 1,
     "solution": true
    }
   },
   "outputs": [],
   "source": [
    "#TODO: Define the loss function\n",
    "loss_fn = None\n",
    "\n",
    "### BEGIN SOLUTION\n",
    "loss_fn = nn.CrossEntropyLoss()\n",
    "### END SOLUTION"
   ]
  },
  {
   "cell_type": "code",
   "execution_count": null,
   "metadata": {},
   "outputs": [],
   "source": [
    "def loss_fn_test1():\n",
    "    num_classes = 10 # Suppose we have 10 classes \n",
    "    num_examples = 5\n",
    "    logits = torch.ones((num_examples, num_classes)) # Simulate model belief\n",
    "    loss = loss_fn(logits, torch.zeros(num_examples).long()) # calculate the loss\n",
    "    \n",
    "    # Check whether the loss is a scalar\n",
    "    return loss.size() == torch.Size([])\n",
    "\n",
    "def loss_fn_test2():\n",
    "    num_classes = 10 # Suppose we have 10 classes \n",
    "    \n",
    "    # simulate model belief\n",
    "    # in this case, the model believes that each class is equally likely\n",
    "    logits = torch.ones((1, num_classes)) \n",
    "    loss = loss_fn(logits, torch.zeros(1).long()) # calculate the loss\n",
    "    \n",
    "    # if the model has equal belief for each class, namely, P(y|x) is uniform\n",
    "    # the negative loglikelihood should be -log(1 /num_classes) = log(num_classes)\n",
    "    return (loss.item() == torch.log(torch.Tensor([num_classes])).item())\n",
    "\n",
    "def loss_fn_test3():\n",
    "    \n",
    "    num_classes = 10 # Suppose we have 10 classes\n",
    "    num_examples = 5 \n",
    "    \n",
    "    # simulate model belief\n",
    "    # in this case, the model believes that each class is equally likely\n",
    "    logits = torch.rand((num_examples, num_classes)) \n",
    "    \n",
    "    loss = loss_fn(logits, torch.zeros(num_examples).long())\n",
    "    loss_grader = loss_fn_grader(logits, torch.zeros(num_examples).long())\n",
    "    \n",
    "    # Check whether your loss and our loss is almost the same\n",
    "    return (torch.abs(loss - loss_grader)).item() < 1e-5\n",
    "\n",
    "\n",
    "runtest(loss_fn_test1, 'loss_fn_test1')\n",
    "runtest(loss_fn_test2, 'loss_fn_test2')\n",
    "runtest(loss_fn_test3, 'loss_fn_test3')"
   ]
  },
  {
   "cell_type": "code",
   "execution_count": null,
   "metadata": {
    "nbgrader": {
     "grade": true,
     "grade_id": "cell-e0f46d1911c83096",
     "locked": true,
     "points": 1,
     "schema_version": 1,
     "solution": false
    }
   },
   "outputs": [],
   "source": [
    "# Autograder Test Cell\n",
    "# loss_fn_test1\n",
    "\n",
    "### BEGIN HIDDEN TESTS\n",
    "assert loss_fn_test1()\n",
    "### END HIDDEN TESTS"
   ]
  },
  {
   "cell_type": "code",
   "execution_count": null,
   "metadata": {
    "nbgrader": {
     "grade": true,
     "grade_id": "cell-e63cc8b7aa5c4718",
     "locked": true,
     "points": 1,
     "schema_version": 1,
     "solution": false
    }
   },
   "outputs": [],
   "source": [
    "# Autograder Test Cell\n",
    "# loss_fn_test2\n",
    "\n",
    "### BEGIN HIDDEN TESTS\n",
    "assert loss_fn_test2()\n",
    "### END HIDDEN TESTS"
   ]
  },
  {
   "cell_type": "code",
   "execution_count": null,
   "metadata": {
    "nbgrader": {
     "grade": true,
     "grade_id": "cell-5e3d6e5e5d40a113",
     "locked": true,
     "points": 1,
     "schema_version": 1,
     "solution": false
    }
   },
   "outputs": [],
   "source": [
    "# Autograder Test Cell\n",
    "# loss_fn_test3\n",
    "\n",
    "### BEGIN HIDDEN TESTS\n",
    "assert loss_fn_test3()\n",
    "### END HIDDEN TESTS"
   ]
  },
  {
   "cell_type": "markdown",
   "metadata": {
    "nbgrader": {
     "grade": false,
     "grade_id": "cell-1913853512562a11",
     "locked": true,
     "schema_version": 1,
     "solution": false
    }
   },
   "source": [
    "#### Optimizer [Graded]\n",
    "I the next cell, you will define an **SGD optimizer**. Again, you should just call one library function from [`torch.optim`](https://pytorch.org/docs/stable/optim.html). In addition to passing in the model parameters, please set <code>lr=0.1</code>."
   ]
  },
  {
   "cell_type": "code",
   "execution_count": null,
   "metadata": {
    "nbgrader": {
     "grade": false,
     "grade_id": "cell-optimizer",
     "locked": false,
     "schema_version": 1,
     "solution": true
    }
   },
   "outputs": [],
   "source": [
    "#TODO: Define the optimizer\n",
    "optimizer = None\n",
    "\n",
    "### BEGIN SOLUTION\n",
    "optimizer = torch.optim.SGD(model.parameters(), lr=0.1)\n",
    "### END SOLUTION"
   ]
  },
  {
   "cell_type": "code",
   "execution_count": null,
   "metadata": {
    "nbgrader": {
     "grade": false,
     "grade_id": "cell-optimizer-selftest",
     "locked": true,
     "schema_version": 1,
     "solution": false
    }
   },
   "outputs": [],
   "source": [
    "def optimizer_test1():\n",
    "    return isinstance(optimizer, torch.optim.SGD)\n",
    "\n",
    "runtest(optimizer_test1, 'optimizer_test1')"
   ]
  },
  {
   "cell_type": "code",
   "execution_count": null,
   "metadata": {
    "nbgrader": {
     "grade": true,
     "grade_id": "cell-optimizer-test1",
     "locked": true,
     "points": 1,
     "schema_version": 1,
     "solution": false
    }
   },
   "outputs": [],
   "source": [
    "# Autograder Test Cell\n",
    "# optimizer_test1\n",
    "\n",
    "### BEGIN HIDDEN TESTS\n",
    "assert optimizer_test1()\n",
    "### END HIDDEN TESTS"
   ]
  },
  {
   "cell_type": "markdown",
   "metadata": {
    "nbgrader": {
     "grade": false,
     "grade_id": "cell-6ae1aa3dbc5d019f",
     "locked": true,
     "schema_version": 1,
     "solution": false
    }
   },
   "source": [
    "### Part Four: Train the Network [Graded]\n",
    "\n",
    "In this section, you are going to implement the <code>train</code> function. Please see the `#TODO`s in the code stub for specifications. Your solution should be one line for each todo (that is, 3 lines total). \n",
    "\n",
    "- `logits` is calculated by a forward pass, that is, calling `model` on some input data `X`.\n",
    "- `loss` should be calculated with the loss function `loss_fn` defined before.\n",
    "- Finally, you need to back propagate by calling `.backward()` on the loss function."
   ]
  },
  {
   "cell_type": "code",
   "execution_count": null,
   "metadata": {
    "nbgrader": {
     "grade": false,
     "grade_id": "cell-train",
     "locked": false,
     "schema_version": 1,
     "solution": true
    }
   },
   "outputs": [],
   "source": [
    "def train(model, optimizer, loss_fn, trainloader):\n",
    "    '''\n",
    "    Input:\n",
    "        model - ConvNet model\n",
    "        optimizer - optimizer for the model\n",
    "        loss_fn - loss function \n",
    "        trainloader - the dataloader\n",
    "    \n",
    "    Output:\n",
    "        running loss - the average loss for each minibatch\n",
    "    '''\n",
    "    \n",
    "    # Set the model into train mode\n",
    "    model.train()\n",
    "    \n",
    "    # Create a variable to keep track of the running loss\n",
    "    running_loss = 0.0\n",
    "    \n",
    "    # iterate through trainloader\n",
    "    # each iterate, you will get a batch of images X, and labels, y\n",
    "    for i, (X, y) in enumerate(trainloader):\n",
    "        \n",
    "        if gpu_available:\n",
    "            # Move the data to cuda gpu to accelerate training\n",
    "            X, y = X.cuda(), y.cuda()\n",
    "        \n",
    "        # zero the parameter gradient\n",
    "        optimizer.zero_grad()\n",
    "        \n",
    "        # TODO: Do a forward pass the get the logits\n",
    "        logits = None\n",
    "        \n",
    "        # TODO: Evaluate the loss\n",
    "        loss = None\n",
    "        \n",
    "        # TODO: Do a backward pass by calling \n",
    "        # .backward()\n",
    "        \n",
    "        # BEGIN SOLUTION\n",
    "        logits = model(X)\n",
    "        loss = loss_fn(logits, y)\n",
    "        loss.backward()\n",
    "        # END SOLUTION\n",
    "        \n",
    "        # update the parameters\n",
    "        optimizer.step()\n",
    "        \n",
    "        # update the loss\n",
    "        running_loss += loss.item()\n",
    "    return running_loss / len(trainloader)"
   ]
  },
  {
   "cell_type": "code",
   "execution_count": null,
   "metadata": {
    "nbgrader": {
     "grade": false,
     "grade_id": "cell-train-selftest",
     "locked": true,
     "schema_version": 1,
     "solution": false
    }
   },
   "outputs": [],
   "source": [
    "def train_test1():\n",
    "    from copy import deepcopy\n",
    "    \n",
    "    \n",
    "    model = ConvNet()\n",
    "    if gpu_available:\n",
    "        model = model.cuda()\n",
    "    model2 = deepcopy(model)\n",
    "    \n",
    "    optimizer = create_optimizer(model)\n",
    "    optimizer2 = create_optimizer(model2)\n",
    "    \n",
    "    # sample one batch of training examples\n",
    "    X, y = iter(trainloader).next()\n",
    "    \n",
    "    # Create a dataset using the small batch\n",
    "    small_set = torch.utils.data.TensorDataset(X, y)\n",
    "    \n",
    "    # create a dataloader for the small_set\n",
    "    loader = torch.utils.data.DataLoader(small_set, batch_size=128)\n",
    "    \n",
    "    # run your train function twice\n",
    "    # Essentially update the model twice\n",
    "    loss = train(model, optimizer, loss_fn, loader)\n",
    "    loss2 = train(model, optimizer, loss_fn, loader)\n",
    "    \n",
    "    # run our train function twice\n",
    "    # update the model twice\n",
    "    loss_grader = train_grader(model2, optimizer2, loss_fn, loader)\n",
    "    loss_grader_2 = train_grader(model2, optimizer2, loss_fn, loader)\n",
    "    \n",
    "    # your losses and our losses should be too different\n",
    "    return ((loss - loss_grader)**2 + (loss2 - loss_grader_2)**2) < 1e-5\n",
    "\n",
    "runtest(train_test1, 'train_test1')"
   ]
  },
  {
   "cell_type": "code",
   "execution_count": null,
   "metadata": {
    "nbgrader": {
     "grade": true,
     "grade_id": "cell-train_test1",
     "locked": true,
     "points": 1,
     "schema_version": 1,
     "solution": false
    }
   },
   "outputs": [],
   "source": [
    "# Autograder Test Cell\n",
    "# train_test1\n",
    "\n",
    "### BEGIN HIDDEN TESTS\n",
    "assert train_test1()\n",
    "### END HIDDEN TESTS"
   ]
  },
  {
   "cell_type": "code",
   "execution_count": null,
   "metadata": {},
   "outputs": [],
   "source": [
    "# The following code will train the model\n",
    "# Running this cell might take awhile\n",
    "num_epochs = 10\n",
    "for epoch in tqdm(range(num_epochs)):\n",
    "    running_loss = train(model, optimizer, loss_fn, trainloader)\n",
    "    print('Running Loss for Epoch [{}/ {}]: {:.4f}'.format(epoch + 1, num_epochs, running_loss))"
   ]
  },
  {
   "cell_type": "markdown",
   "metadata": {
    "nbgrader": {
     "grade": false,
     "grade_id": "cell-09d810b6c91e705f",
     "locked": true,
     "schema_version": 1,
     "solution": false
    }
   },
   "source": [
    "### Part Five: Test the network on the test data [Graded]\n",
    "\n",
    "In this section, you will implement <code>pred</code> that takes in the model belief and output its prediction. "
   ]
  },
  {
   "cell_type": "code",
   "execution_count": null,
   "metadata": {
    "nbgrader": {
     "grade": false,
     "grade_id": "cell-pred",
     "locked": false,
     "schema_version": 1,
     "solution": true
    }
   },
   "outputs": [],
   "source": [
    "def pred(logits):\n",
    "    # TODO Calculate the prediction based using torch.argmax\n",
    "    ### BEGIN SOLUTION\n",
    "    prediction = torch.argmax(logits, dim=1)\n",
    "    ### END SOLUTION\n",
    "    return prediction"
   ]
  },
  {
   "cell_type": "code",
   "execution_count": null,
   "metadata": {
    "nbgrader": {
     "grade": false,
     "grade_id": "cell-pred-selftest",
     "locked": true,
     "schema_version": 1,
     "solution": false
    }
   },
   "outputs": [],
   "source": [
    "def pred_test1():\n",
    "    \n",
    "    # Generate some beliefs\n",
    "    logits = torch.Tensor([[0, 1], [2, -1]])\n",
    "    prediction = pred(logits)\n",
    "    \n",
    "    # the expected output should be [1, 0]\n",
    "    expected_output = torch.LongTensor([1, 0])\n",
    "    \n",
    "    return torch.equal(prediction, expected_output)\n",
    "\n",
    "runtest(pred_test1, 'pred_test1')"
   ]
  },
  {
   "cell_type": "code",
   "execution_count": null,
   "metadata": {
    "nbgrader": {
     "grade": true,
     "grade_id": "cell-pred_test1",
     "locked": true,
     "points": 1,
     "schema_version": 1,
     "solution": false
    }
   },
   "outputs": [],
   "source": [
    "# Autograder Test Cell\n",
    "# pred_test1\n",
    "\n",
    "### BEGIN HIDDEN TESTS\n",
    "assert pred_test1()\n",
    "### END HIDDEN TESTS"
   ]
  },
  {
   "cell_type": "code",
   "execution_count": null,
   "metadata": {
    "nbgrader": {
     "grade": false,
     "grade_id": "cell-417e1e3e38fed894",
     "locked": true,
     "schema_version": 1,
     "solution": false
    }
   },
   "outputs": [],
   "source": [
    "# the following code will yse your pred function and evaluate the whole test set and print your model's accuracy\n",
    "\n",
    "total = 0.0\n",
    "correct = 0.0\n",
    "model.eval()\n",
    "with torch.no_grad():\n",
    "    for X, y in testloader:\n",
    "        X, y = X.cuda(), y.cuda()\n",
    "        logits = model(X)\n",
    "        \n",
    "        prediction = pred(logits) \n",
    "        total += X.size(0)\n",
    "        correct += (prediction == y).sum().item()\n",
    "\n",
    "print('Accuracy of the model: {:.4}%'.format(correct / total * 100))"
   ]
  },
  {
   "cell_type": "code",
   "execution_count": null,
   "metadata": {
    "scrolled": true
   },
   "outputs": [],
   "source": [
    "# Visualize some of the test images \n",
    "# and see their prediction\n",
    "\n",
    "test_iterator = iter(testloader)\n",
    "X_test, y_test = test_iterator.next()\n",
    "X_test, y_test = X_test[:5], y_test[:5]\n",
    "visualize_data(X_test)\n",
    "model.eval()\n",
    "with torch.no_grad():\n",
    "    logits = model(X_test.cuda())\n",
    "    prediction = pred(logits)\n",
    "print(\"Prediction: \", prediction.tolist())"
   ]
  }
 ],
 "metadata": {
  "celltoolbar": "Create Assignment",
  "kernelspec": {
   "display_name": "Python 3",
   "language": "python",
   "name": "python3"
  },
  "language_info": {
   "codemirror_mode": {
    "name": "ipython",
    "version": 3
   },
   "file_extension": ".py",
   "mimetype": "text/x-python",
   "name": "python",
   "nbconvert_exporter": "python",
   "pygments_lexer": "ipython3",
   "version": "3.7.3"
  }
 },
 "nbformat": 4,
 "nbformat_minor": 2
}
