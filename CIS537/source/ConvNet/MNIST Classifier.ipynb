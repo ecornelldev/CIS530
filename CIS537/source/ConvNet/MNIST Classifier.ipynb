{
 "cells": [
  {
   "cell_type": "markdown",
   "metadata": {
    "nbgrader": {
     "grade": false,
     "grade_id": "cell-2758a59c01c9b792",
     "locked": true,
     "schema_version": 1,
     "solution": false
    }
   },
   "source": [
    "## In this project, you will implement a simple convolutional neural network that can recognize digits using [PyTorch](https://pytorch.org/)"
   ]
  },
  {
   "cell_type": "markdown",
   "metadata": {
    "nbgrader": {
     "grade": false,
     "grade_id": "cell-3dba893b5c5d4899",
     "locked": true,
     "schema_version": 1,
     "solution": false
    }
   },
   "source": [
    "### We will do the following steps in order:\n",
    "1. Load the MNIST training and test datasets\n",
    "2. Define a convolutional neural network (TODO)\n",
    "3. Define a loss function and optimizer (TODO)\n",
    "4. Train the network on the training data (TODO)\n",
    "5. Test the network on the test data (TODO)\n",
    "\n",
    "In section 2-5, you have to fill in the blanks with code. You should be figure out the solution by looking at the tutorial we provide"
   ]
  },
  {
   "cell_type": "markdown",
   "metadata": {
    "nbgrader": {
     "grade": false,
     "grade_id": "cell-081551474357d106",
     "locked": true,
     "schema_version": 1,
     "solution": false
    }
   },
   "source": [
    "### Step 0: Importing Required Packages"
   ]
  },
  {
   "cell_type": "code",
   "execution_count": 1,
   "metadata": {},
   "outputs": [],
   "source": [
    "%load_ext autoreload"
   ]
  },
  {
   "cell_type": "code",
   "execution_count": 2,
   "metadata": {
    "nbgrader": {
     "grade": false,
     "grade_id": "cell-896c31b5bcfa5761",
     "locked": true,
     "schema_version": 1,
     "solution": false
    }
   },
   "outputs": [],
   "source": [
    "%autoreload 2\n",
    "# First off, import some packages\n",
    "import torch\n",
    "import torch.nn as nn\n",
    "from torch.nn import functional as F\n",
    "\n",
    "from torchvision import datasets, transforms\n",
    "import torchvision\n",
    "\n",
    "import numpy as np\n",
    "import matplotlib.pyplot as plt\n",
    "import helper as h"
   ]
  },
  {
   "cell_type": "code",
   "execution_count": 3,
   "metadata": {
    "nbgrader": {
     "grade": false,
     "grade_id": "cell-6364b6b1c447165b",
     "locked": true,
     "schema_version": 1,
     "solution": false
    }
   },
   "outputs": [],
   "source": [
    "# Seed the random number generator\n",
    "torch.manual_seed(1)\n",
    "torch.cuda.manual_seed(1)\n",
    "\n",
    "# Check whether you have a gpu\n",
    "# If you have a gpu, model training will be done on gpu\n",
    "# which is significantly faster than training on cpu\n",
    "gpu_available = torch.cuda.is_available()"
   ]
  },
  {
   "cell_type": "markdown",
   "metadata": {
    "nbgrader": {
     "grade": false,
     "grade_id": "cell-dcc8a6150cf1dbd1",
     "locked": true,
     "schema_version": 1,
     "solution": false
    }
   },
   "source": [
    "### Step 1:  Loading the Dataset and Setting up Dataloader"
   ]
  },
  {
   "cell_type": "code",
   "execution_count": 4,
   "metadata": {
    "nbgrader": {
     "grade": false,
     "grade_id": "cell-55e2fb707fa3e14f",
     "locked": true,
     "schema_version": 1,
     "solution": false
    }
   },
   "outputs": [],
   "source": [
    "# Setup the training set and test set\n",
    "trainset = datasets.MNIST(root='.', train=True, download=True, transform=transforms.ToTensor())\n",
    "testset = datasets.MNIST(root='.', train=False, download=True, transform=transforms.ToTensor())\n",
    "\n",
    "# Setting up dataloader\n",
    "# A dataloader stacks small batches (128 in our case) of dataset \n",
    "# into Tensor for ease of training.\n",
    "trainloader = torch.utils.data.DataLoader(trainset, shuffle=True, drop_last=True, batch_size=128)\n",
    "testloader = torch.utils.data.DataLoader(testset, shuffle=True, drop_last=False, batch_size=128)"
   ]
  },
  {
   "cell_type": "code",
   "execution_count": 5,
   "metadata": {
    "nbgrader": {
     "grade": false,
     "grade_id": "cell-eb179de0d1718600",
     "locked": true,
     "schema_version": 1,
     "solution": false
    }
   },
   "outputs": [
    {
     "data": {
      "image/png": "[encoded data removed]",
      "text/plain": [
       "<Figure size 432x288 with 1 Axes>"
      ]
     },
     "metadata": {
      "needs_background": "light"
     },
     "output_type": "display_data"
    }
   ],
   "source": [
    "# Visualize the data\n",
    "# The following line gets us small batch of data\n",
    "# X is a tensor of size (128, 1, 28, 28) that contains\n",
    "# a batch of images\n",
    "# y is a tensor of size (128) that contains the labels  \n",
    "# in X\n",
    "X, y = iter(trainloader).next()\n",
    "\n",
    "def visualize_data(X):\n",
    "    img_grid = torchvision.utils.make_grid(X[:5], padding=10)\n",
    "    img_grid = img_grid.numpy()\n",
    "    plt.imshow(np.transpose(img_grid, (1,2,0)), interpolation='nearest')\n",
    "    return\n",
    "\n",
    "visualize_data(X)"
   ]
  },
  {
   "cell_type": "markdown",
   "metadata": {
    "nbgrader": {
     "grade": false,
     "grade_id": "cell-efd6981d42af915f",
     "locked": true,
     "schema_version": 1,
     "solution": false
    }
   },
   "source": [
    "### Step 2: Define a convolutional neural network\n",
    "#### Step 2.1: Define a building block of a convolutional neural network"
   ]
  },
  {
   "cell_type": "code",
   "execution_count": 6,
   "metadata": {
    "nbgrader": {
     "grade": false,
     "grade_id": "cell-8bff8e61e67cc7cb",
     "locked": true,
     "schema_version": 1,
     "solution": false
    }
   },
   "outputs": [],
   "source": [
    "class Block(nn.Module):\n",
    "    def __init__(self, in_channel, out_channel, kernel_size=3, stride=1):\n",
    "        super(Block, self).__init__()\n",
    "        \n",
    "        self.in_channel = in_channel\n",
    "        self.out_channel = out_channel\n",
    "        self.kernel_size = kernel_size\n",
    "        self.stride = stride\n",
    "        \n",
    "        # This block contains a convolutional layer\n",
    "        # then a batch normalization layer\n",
    "        \n",
    "        self.conv = nn.Conv2d(in_channel, out_channel, kernel_size, stride)\n",
    "        self.bn = nn.BatchNorm2d(out_channel)\n",
    "        return\n",
    "    \n",
    "    def forward(self, x):\n",
    "        # passes the input image through a convolutional layer\n",
    "        # followed by a batch normalization layer and relu transition\n",
    "        out = F.relu(self.bn(self.conv(x)))\n",
    "        return out"
   ]
  },
  {
   "cell_type": "code",
   "execution_count": 7,
   "metadata": {
    "nbgrader": {
     "grade": false,
     "grade_id": "cell-a91136f959810d8a",
     "locked": true,
     "schema_version": 1,
     "solution": false
    }
   },
   "outputs": [
    {
     "name": "stdout",
     "output_type": "stream",
     "text": [
      "torch.Size([128, 10, 26, 26])\n"
     ]
    }
   ],
   "source": [
    "# Create a block that is made up of 10 filters size 3x3 and stride 1\n",
    "\n",
    "# The block takes in a image of 1 channel\n",
    "Block1 = Block(1, 10, 3, 1)\n",
    "out = Block1(X)\n",
    "\n",
    "# After passing our image through block 1\n",
    "# we get the following tensor\n",
    "print(out.shape)"
   ]
  },
  {
   "cell_type": "markdown",
   "metadata": {
    "nbgrader": {
     "grade": false,
     "grade_id": "cell-06808082df76e1d2",
     "locked": true,
     "schema_version": 1,
     "solution": false
    }
   },
   "source": [
    "#### Step 2.2: Building a convolutional neural network using the block class\n",
    "In this section, you will build a convolutional network that consists of 4 blocks, an average pooling layer and a fully connected layer. We have created the first block for you. What you need to do is create the rest of the blocks based on the specification. Please do not change the name of the layers or else you risk breaking the autograder code!"
   ]
  },
  {
   "cell_type": "code",
   "execution_count": 8,
   "metadata": {
    "nbgrader": {
     "grade": false,
     "grade_id": "cell-9294190c83db9f31",
     "locked": false,
     "schema_version": 1,
     "solution": true
    }
   },
   "outputs": [],
   "source": [
    "class ConvNet(nn.Module):\n",
    "    def __init__(self):\n",
    "        super(ConvNet, self).__init__() \n",
    "        # First block takes in the image\n",
    "        # Filter specification:\n",
    "            # Num filters=16, kernel size 3, stride 1\n",
    "        self.block1 = Block(1, 16, 3, 1)\n",
    "        \n",
    "        # TODO\n",
    "        # Second block takes in the output of the first block\n",
    "        # Filter specification:\n",
    "            # Num filters=32, kernel size 3, stride 1\n",
    "        self.block2 = None\n",
    "        \n",
    "        # TODO\n",
    "        # Third block takes in the output of the 2nd block\n",
    "        # Filter specification:\n",
    "            # Num filters=64, kernel size 3, stride 1\n",
    "        self.block3 = None\n",
    "        \n",
    "        # TODO\n",
    "        # Third block takes in the output of the 3rd block\n",
    "        # Filter specification:\n",
    "            # Num filters=128, kernel size 3, stride 1\n",
    "        self.block4 = None\n",
    "        \n",
    "        # This is the average pooling layer\n",
    "        # This is applied to the output of the last convolutional layer\n",
    "        # Essentially, it averages feature maps spatially to a single number\n",
    "        # For instance, if the output of the last conv layer is of size (128, 15, 4, 4)\n",
    "        # the following layer will average the 4x4 array into a single number\n",
    "        # so the output of applying this layer would have size (128, 15, 1, 1)\n",
    "        # This operation vectorize the feature maps so that we can have a vector\n",
    "        # that can be passed into a simple linear layer for classification\n",
    "        self.avgpool = nn.AdaptiveAvgPool2d(1)\n",
    "        \n",
    "        # Create a linear layer\n",
    "        # the dataset has 10 classes\n",
    "        # the model should output 10 belief values\n",
    "        self.fc = nn.Linear(128, 10)\n",
    "        \n",
    "        # BEGIN SOLUTION\n",
    "        self.block2 = Block(16, 32, 3, 1)\n",
    "        self.block3 = Block(32, 64, 3, 1)\n",
    "        self.block4 = Block(64, 128, 3, 1)\n",
    "        # END SOLUTION\n",
    "        return\n",
    "    \n",
    "    def forward(self, x):\n",
    "        batch_size = x.size(0)\n",
    "        out = self.block1(x)\n",
    "        out = self.block2(out)\n",
    "        out = self.block3(out)\n",
    "        out = self.block4(out)\n",
    "        \n",
    "        # .squeeze() operation remove unnecessary dimension\n",
    "        # i.e if X is of shape (128, 128, 1, 1)\n",
    "        # X.unsqueeze() becomes (128, 128)\n",
    "        out = self.avgpool(out).squeeze()\n",
    "        out = self.fc(out)\n",
    "        return out"
   ]
  },
  {
   "cell_type": "code",
   "execution_count": 9,
   "metadata": {},
   "outputs": [],
   "source": [
    "# Create a model\n",
    "model = ConvNet()\n",
    "\n",
    "# Move the model to a cuda gpu\n",
    "# Doing this step allows up to do training on gpu\n",
    "# and gain significant speed up\n",
    "if gpu_available:\n",
    "    model = model.cuda()"
   ]
  },
  {
   "cell_type": "code",
   "execution_count": 10,
   "metadata": {
    "nbgrader": {
     "grade": false,
     "grade_id": "cell-97f1db3d8f5c7f9e",
     "locked": true,
     "schema_version": 1,
     "solution": false
    }
   },
   "outputs": [
    {
     "name": "stdout",
     "output_type": "stream",
     "text": [
      "Running Test: model_test1 ... ✔ Passed!\n",
      "Running Test: model_test2 ... ✔ Passed!\n",
      "Running Test: model_test3 ... ✔ Passed!\n",
      "Running Test: model_test4 ... ✔ Passed!\n"
     ]
    }
   ],
   "source": [
    "def model_test1():\n",
    "    \n",
    "    model = ConvNet()\n",
    "    \n",
    "    if gpu_available:\n",
    "        model = model.cuda()\n",
    "    # check whether block2, 3, 4 are instances of block\n",
    "    isblock2 = isinstance(model.block2, Block)\n",
    "    isblock3 = isinstance(model.block3, Block)\n",
    "    isblock4 = isinstance(model.block3, Block)\n",
    "    return isblock2 and isblock3 and isblock4\n",
    "    \n",
    "\n",
    "def model_test2():\n",
    "    model = ConvNet()\n",
    "    \n",
    "    if gpu_available:\n",
    "        model = model.cuda()\n",
    "    # Checking the specification for block 2\n",
    "    \n",
    "    # Check input channel\n",
    "    in_channel_check = model.block2.in_channel == 16\n",
    "    \n",
    "    # Check the output channel\n",
    "    out_channel_check = model.block2.out_channel == 32\n",
    "    \n",
    "    # Check the kernel size\n",
    "    kernel_size_check = model.block2.kernel_size == 3\n",
    "    \n",
    "    # check the stride size\n",
    "    stride_check = model.block2.stride == 1\n",
    "    return in_channel_check and out_channel_check and kernel_size_check and stride_check\n",
    "\n",
    "def model_test3():\n",
    "    model = ConvNet()\n",
    "    \n",
    "    if gpu_available:\n",
    "        model = model.cuda()\n",
    "    # Checking the specification for block 3\n",
    "    \n",
    "    # Check input channel\n",
    "    in_channel_check = model.block3.in_channel == 32\n",
    "    \n",
    "    # Check the output channel\n",
    "    out_channel_check = model.block3.out_channel == 64\n",
    "    \n",
    "    # Check the kernel size\n",
    "    kernel_size_check = model.block3.kernel_size == 3\n",
    "    \n",
    "    # check the stride size\n",
    "    stride_check = model.block3.stride == 1\n",
    "    return in_channel_check and out_channel_check and kernel_size_check and stride_check\n",
    "\n",
    "def model_test4():\n",
    "    model = ConvNet()\n",
    "    \n",
    "    if gpu_available:\n",
    "        model = model.cuda()\n",
    "    # Checking the specification for block 3\n",
    "    \n",
    "    # Check input channel\n",
    "    in_channel_check = model.block4.in_channel == 64\n",
    "    \n",
    "    # Check the output channel\n",
    "    out_channel_check = model.block4.out_channel == 128\n",
    "    \n",
    "    # Check the kernel size\n",
    "    kernel_size_check = model.block4.kernel_size == 3\n",
    "    \n",
    "    # check the stride size\n",
    "    stride_check = model.block4.stride == 1\n",
    "    return in_channel_check and out_channel_check and kernel_size_check and stride_check\n",
    "\n",
    "\n",
    "h.runtest(model_test1, 'model_test1')\n",
    "h.runtest(model_test2, 'model_test2')\n",
    "h.runtest(model_test3, 'model_test3')\n",
    "h.runtest(model_test4, 'model_test4')"
   ]
  },
  {
   "cell_type": "code",
   "execution_count": 11,
   "metadata": {
    "nbgrader": {
     "grade": true,
     "grade_id": "cell-0c07c1793fa993a0",
     "locked": true,
     "points": 1,
     "schema_version": 1,
     "solution": false
    }
   },
   "outputs": [],
   "source": [
    "# Autograder Test Cell\n",
    "# model_test1\n",
    "\n",
    "### BEGIN HIDDEN TESTS\n",
    "assert model_test1()\n",
    "### END HIDDEN TESTS"
   ]
  },
  {
   "cell_type": "code",
   "execution_count": 12,
   "metadata": {
    "nbgrader": {
     "grade": true,
     "grade_id": "cell-86240cda52907033",
     "locked": true,
     "points": 1,
     "schema_version": 1,
     "solution": false
    }
   },
   "outputs": [],
   "source": [
    "# Autograder Test Cell\n",
    "# model_test2\n",
    "\n",
    "### BEGIN HIDDEN TESTS\n",
    "assert model_test2()\n",
    "### END HIDDEN TESTS"
   ]
  },
  {
   "cell_type": "code",
   "execution_count": 13,
   "metadata": {
    "nbgrader": {
     "grade": true,
     "grade_id": "cell-cc2e33ea174ed174",
     "locked": true,
     "points": 1,
     "schema_version": 1,
     "solution": false
    }
   },
   "outputs": [],
   "source": [
    "# Autograder Test Cell\n",
    "# model_test3\n",
    "\n",
    "### BEGIN HIDDEN TESTS\n",
    "assert model_test3()\n",
    "### END HIDDEN TESTS"
   ]
  },
  {
   "cell_type": "code",
   "execution_count": 14,
   "metadata": {
    "nbgrader": {
     "grade": true,
     "grade_id": "cell-0a01b4998dfef815",
     "locked": true,
     "points": 1,
     "schema_version": 1,
     "solution": false
    }
   },
   "outputs": [],
   "source": [
    "# Autograder Test Cell\n",
    "# model_test4\n",
    "\n",
    "### BEGIN HIDDEN TESTS\n",
    "assert model_test4()\n",
    "### END HIDDEN TESTS"
   ]
  },
  {
   "cell_type": "markdown",
   "metadata": {
    "nbgrader": {
     "grade": false,
     "grade_id": "cell-cbde36d56f80c39f",
     "locked": true,
     "schema_version": 1,
     "solution": false
    }
   },
   "source": [
    "### Step 3: Define a Loss function and optimizer\n",
    "In the next cell, you are going to define the loss function and the optimizer. The loss function should be the cross entropy loss and the optimizer should be the SGD optimizer. Please refer back to the tutorial if you do not remember how to define the loss function and optimizer using PyTorch.You can also implement the loss function yourself but we strongly suggest you use PyTorch's implementation."
   ]
  },
  {
   "cell_type": "code",
   "execution_count": 15,
   "metadata": {
    "nbgrader": {
     "grade": false,
     "grade_id": "cell-42bd2eb0908f0a09",
     "locked": false,
     "schema_version": 1,
     "solution": true
    }
   },
   "outputs": [],
   "source": [
    "#TODO: Define the loss function\n",
    "loss_fn = None\n",
    "\n",
    "### BEGIN SOLUTION\n",
    "loss_fn = nn.CrossEntropyLoss()\n",
    "### END SOLUTION"
   ]
  },
  {
   "cell_type": "code",
   "execution_count": 16,
   "metadata": {},
   "outputs": [
    {
     "name": "stdout",
     "output_type": "stream",
     "text": [
      "Running Test: loss_fn_test1 ... ✔ Passed!\n",
      "Running Test: loss_fn_test2 ... ✔ Passed!\n",
      "Running Test: loss_fn_test3 ... ✔ Passed!\n"
     ]
    }
   ],
   "source": [
    "def loss_fn_test1():\n",
    "    num_classes = 10 # Suppose we have 10 classes \n",
    "    num_examples = 5\n",
    "    logits = torch.ones((num_examples, num_classes)) # Simulate model belief\n",
    "    loss = loss_fn(logits, torch.zeros(num_examples).long()) # calculate the loss\n",
    "    \n",
    "    # Check whether the loss is a scalar\n",
    "    return loss.size() == torch.Size([])\n",
    "\n",
    "def loss_fn_test2():\n",
    "    num_classes = 10 # Suppose we have 10 classes \n",
    "    \n",
    "    # simulate model belief\n",
    "    # in this case, the model believes that each class is equally likely\n",
    "    logits = torch.ones((1, num_classes)) \n",
    "    loss = loss_fn(logits, torch.zeros(1).long()) # calculate the loss\n",
    "    \n",
    "    # if the model has equal belief for each class, namely, P(y|x) is uniform\n",
    "    # the negative loglikelihood should be -log(1 /num_classes) = log(num_classes)\n",
    "    return (loss.item() == torch.log(torch.Tensor([num_classes])).item())\n",
    "\n",
    "def loss_fn_test3():\n",
    "    \n",
    "    num_classes = 10 # Suppose we have 10 classes\n",
    "    num_examples = 5 \n",
    "    \n",
    "    # simulate model belief\n",
    "    # in this case, the model believes that each class is equally likely\n",
    "    logits = torch.rand((num_examples, num_classes)) \n",
    "    \n",
    "    loss = loss_fn(logits, torch.zeros(num_examples).long())\n",
    "    loss_grader = h.loss_fn_grader(logits, torch.zeros(num_examples).long())\n",
    "    \n",
    "    # Check whether your loss and our loss is almost the same\n",
    "    return (torch.abs(loss - loss_grader)).item() < 1e-5\n",
    "\n",
    "\n",
    "h.runtest(loss_fn_test1, 'loss_fn_test1')\n",
    "h.runtest(loss_fn_test2, 'loss_fn_test2')\n",
    "h.runtest(loss_fn_test3, 'loss_fn_test3')"
   ]
  },
  {
   "cell_type": "code",
   "execution_count": 17,
   "metadata": {
    "nbgrader": {
     "grade": true,
     "grade_id": "cell-e0f46d1911c83096",
     "locked": true,
     "points": 1,
     "schema_version": 1,
     "solution": false
    }
   },
   "outputs": [],
   "source": [
    "# Autograder Test Cell\n",
    "# loss_fn_test1\n",
    "\n",
    "### BEGIN HIDDEN TESTS\n",
    "assert loss_fn_test1()\n",
    "### END HIDDEN TESTS"
   ]
  },
  {
   "cell_type": "code",
   "execution_count": 18,
   "metadata": {
    "nbgrader": {
     "grade": true,
     "grade_id": "cell-e63cc8b7aa5c4718",
     "locked": true,
     "points": 1,
     "schema_version": 1,
     "solution": false
    }
   },
   "outputs": [],
   "source": [
    "# Autograder Test Cell\n",
    "# loss_fn_test2\n",
    "\n",
    "### BEGIN HIDDEN TESTS\n",
    "assert loss_fn_test2()\n",
    "### END HIDDEN TESTS"
   ]
  },
  {
   "cell_type": "code",
   "execution_count": 19,
   "metadata": {
    "nbgrader": {
     "grade": true,
     "grade_id": "cell-5e3d6e5e5d40a113",
     "locked": true,
     "points": 1,
     "schema_version": 1,
     "solution": false
    }
   },
   "outputs": [],
   "source": [
    "# Autograder Test Cell\n",
    "# loss_fn_test3\n",
    "\n",
    "### BEGIN HIDDEN TESTS\n",
    "assert loss_fn_test3()\n",
    "### END HIDDEN TESTS"
   ]
  },
  {
   "cell_type": "markdown",
   "metadata": {
    "nbgrader": {
     "grade": false,
     "grade_id": "cell-1913853512562a11",
     "locked": true,
     "schema_version": 1,
     "solution": false
    }
   },
   "source": [
    "In the next cell, you will define an SGD optimizer. Please set <code>lr=0.1</code>."
   ]
  },
  {
   "cell_type": "code",
   "execution_count": 20,
   "metadata": {
    "nbgrader": {
     "grade": false,
     "grade_id": "cell-0646cfcf9c1c85af",
     "locked": false,
     "schema_version": 1,
     "solution": true
    }
   },
   "outputs": [],
   "source": [
    "#TODO: Define the optimizer\n",
    "optimizer = None\n",
    "\n",
    "### BEGIN SOLUTION\n",
    "optimizer = torch.optim.SGD(model.parameters(), lr=0.1)\n",
    "### END SOLUTION"
   ]
  },
  {
   "cell_type": "code",
   "execution_count": 21,
   "metadata": {
    "nbgrader": {
     "grade": false,
     "grade_id": "cell-50adcf5fc3e26f56",
     "locked": false,
     "schema_version": 1,
     "solution": true
    }
   },
   "outputs": [],
   "source": [
    "def optimizer_test1():\n",
    "    return isinstance(optimizer, torch.optim.SGD)"
   ]
  },
  {
   "cell_type": "code",
   "execution_count": 22,
   "metadata": {
    "nbgrader": {
     "grade": true,
     "grade_id": "cell-1f7d89be8200df82",
     "locked": true,
     "points": 1,
     "schema_version": 1,
     "solution": false
    }
   },
   "outputs": [],
   "source": [
    "# Autograder Test Cell\n",
    "# optimizer_test1\n",
    "\n",
    "### BEGIN HIDDEN TESTS\n",
    "assert optimizer_test1()\n",
    "### END HIDDEN TESTS"
   ]
  },
  {
   "cell_type": "markdown",
   "metadata": {
    "nbgrader": {
     "grade": false,
     "grade_id": "cell-6ae1aa3dbc5d019f",
     "locked": true,
     "schema_version": 1,
     "solution": false
    }
   },
   "source": [
    "### Step 4: Train the Network\n",
    "\n",
    "In this section, you are going to implement the <code>train</code> function. Please see the TODO in the code stub. "
   ]
  },
  {
   "cell_type": "code",
   "execution_count": 23,
   "metadata": {
    "nbgrader": {
     "grade": false,
     "grade_id": "cell-13cec59886a4c139",
     "locked": false,
     "schema_version": 1,
     "solution": true
    }
   },
   "outputs": [],
   "source": [
    "def train(model, optimizer, loss_fn, trainloader):\n",
    "    '''\n",
    "    Input:\n",
    "        model - ConvNet model\n",
    "        optimizer - optimizer for the model\n",
    "        loss_fn - loss function \n",
    "        trainloader - the dataloader\n",
    "    \n",
    "    Output:\n",
    "        running loss - the average loss for each minibatch\n",
    "    '''\n",
    "    \n",
    "    # Set the model into train mode\n",
    "    model.train()\n",
    "    \n",
    "    # Create a variable to keep track of the running loss\n",
    "    running_loss = 0.0\n",
    "    \n",
    "    # iterate through trainloader\n",
    "    # each iterate, you will get a batch of images X, and labels, y\n",
    "    for i, (X, y) in enumerate(trainloader):\n",
    "        \n",
    "        if gpu_available:\n",
    "            # Move the data to cuda gpu to accelerate training\n",
    "            X, y = X.cuda(), y.cuda()\n",
    "        \n",
    "        # zero the parameter gradient\n",
    "        optimizer.zero_grad()\n",
    "        \n",
    "        # TODO: Do a forward pass the get the logits\n",
    "        logits = None\n",
    "        \n",
    "        # TODO: Evaluate the loss\n",
    "        loss = None\n",
    "        \n",
    "        # TODO: Do a backward pass by calling \n",
    "        # .backward()\n",
    "        \n",
    "        # BEGIN SOLUTION\n",
    "        logits = model(X)\n",
    "        loss = loss_fn(logits, y)\n",
    "        loss.backward()\n",
    "        # END SOLUTION\n",
    "        \n",
    "        # update the parameters\n",
    "        optimizer.step()\n",
    "        \n",
    "        # update the loss\n",
    "        running_loss += loss.item()\n",
    "    return running_loss / len(trainloader)"
   ]
  },
  {
   "cell_type": "code",
   "execution_count": 24,
   "metadata": {},
   "outputs": [
    {
     "name": "stdout",
     "output_type": "stream",
     "text": [
      "Running Test: train_test1 ... ✔ Passed!\n"
     ]
    }
   ],
   "source": [
    "def train_test1():\n",
    "    from copy import deepcopy\n",
    "    \n",
    "    \n",
    "    model = ConvNet()\n",
    "    if gpu_available:\n",
    "        model = model.cuda()\n",
    "    model2 = deepcopy(model)\n",
    "    \n",
    "    optimizer = h.create_optimizer(model)\n",
    "    optimizer2 = h.create_optimizer(model2)\n",
    "    \n",
    "    # sample one batch of training examples\n",
    "    X, y = iter(trainloader).next()\n",
    "    \n",
    "    # Create a dataset using the small batch\n",
    "    small_set = torch.utils.data.TensorDataset(X, y)\n",
    "    \n",
    "    # create a dataloader for the small_set\n",
    "    loader = torch.utils.data.DataLoader(small_set, batch_size=128)\n",
    "    \n",
    "    # run your train function twice\n",
    "    # Essentially update the model twice\n",
    "    loss = train(model, optimizer, loss_fn, loader)\n",
    "    loss2 = train(model, optimizer, loss_fn, loader)\n",
    "    \n",
    "    # run our train function twice\n",
    "    # update the model twice\n",
    "    loss_grader = h.train_grader(model2, optimizer2, loss_fn, loader)\n",
    "    loss_grader_2 = h.train_grader(model2, optimizer2, loss_fn, loader)\n",
    "    \n",
    "    # your losses and our losses should be too different\n",
    "    return ((loss - loss_grader)**2 + (loss2 - loss_grader_2)**2) < 1e-5\n",
    "\n",
    "h.runtest(train_test1, 'train_test1')"
   ]
  },
  {
   "cell_type": "code",
   "execution_count": 25,
   "metadata": {
    "nbgrader": {
     "grade": true,
     "grade_id": "cell-b571f5c5cf990a16",
     "locked": true,
     "points": 1,
     "schema_version": 1,
     "solution": false
    }
   },
   "outputs": [],
   "source": [
    "# Autograder Test Cell\n",
    "# train_test1\n",
    "\n",
    "### BEGIN HIDDEN TESTS\n",
    "assert train_test1()\n",
    "### END HIDDEN TESTS"
   ]
  },
  {
   "cell_type": "code",
   "execution_count": 26,
   "metadata": {},
   "outputs": [
    {
     "name": "stdout",
     "output_type": "stream",
     "text": [
      "Running Loss for Epoch [1/ 10]: 1.1918\n",
      "Running Loss for Epoch [2/ 10]: 0.2725\n",
      "Running Loss for Epoch [3/ 10]: 0.1498\n",
      "Running Loss for Epoch [4/ 10]: 0.1125\n",
      "Running Loss for Epoch [5/ 10]: 0.0916\n",
      "Running Loss for Epoch [6/ 10]: 0.0780\n",
      "Running Loss for Epoch [7/ 10]: 0.0702\n",
      "Running Loss for Epoch [8/ 10]: 0.0631\n",
      "Running Loss for Epoch [9/ 10]: 0.0584\n",
      "Running Loss for Epoch [10/ 10]: 0.0549\n"
     ]
    }
   ],
   "source": [
    "# The following code will train the model\n",
    "# Running this cell might take awhile\n",
    "num_epochs = 10\n",
    "for epoch in range(num_epochs):\n",
    "    running_loss = train(model, optimizer, loss_fn, trainloader)\n",
    "    print('Running Loss for Epoch [{}/ {}]: {:.4f}'.format(epoch + 1, num_epochs, running_loss))"
   ]
  },
  {
   "cell_type": "markdown",
   "metadata": {
    "nbgrader": {
     "grade": false,
     "grade_id": "cell-09d810b6c91e705f",
     "locked": true,
     "schema_version": 1,
     "solution": false
    }
   },
   "source": [
    "### Step 5: Test the network on the test data\n",
    "\n",
    "In this section, you will implement <code>pred</code> that takes in the model belief and output its prediction. "
   ]
  },
  {
   "cell_type": "code",
   "execution_count": 27,
   "metadata": {
    "nbgrader": {
     "grade": false,
     "grade_id": "cell-1bfc906f0ca4fb07",
     "locked": false,
     "schema_version": 1,
     "solution": true
    }
   },
   "outputs": [],
   "source": [
    "def pred(logits):\n",
    "    # TODO Calculate the prediction based using torch.argmax\n",
    "    prediction = torch.argmax(logits, dim=1)\n",
    "    return prediction"
   ]
  },
  {
   "cell_type": "code",
   "execution_count": 28,
   "metadata": {
    "nbgrader": {
     "grade": false,
     "grade_id": "cell-49deecd7ef154d25",
     "locked": true,
     "schema_version": 1,
     "solution": false
    }
   },
   "outputs": [
    {
     "name": "stdout",
     "output_type": "stream",
     "text": [
      "Running Test: pred_test1 ... ✔ Passed!\n"
     ]
    }
   ],
   "source": [
    "def pred_test1():\n",
    "    \n",
    "    # Generate some beliefs\n",
    "    logits = torch.Tensor([[0, 1], [2, -1]])\n",
    "    prediction = pred(logits)\n",
    "    \n",
    "    # the expected output should be [1, 0]\n",
    "    expected_output = torch.LongTensor([1, 0])\n",
    "    \n",
    "    return torch.equal(prediction, expected_output)\n",
    "\n",
    "h.runtest(pred_test1, 'pred_test1')"
   ]
  },
  {
   "cell_type": "code",
   "execution_count": 29,
   "metadata": {
    "nbgrader": {
     "grade": true,
     "grade_id": "cell-0dc6e6e8994ddad5",
     "locked": true,
     "points": 1,
     "schema_version": 1,
     "solution": false
    }
   },
   "outputs": [],
   "source": [
    "# Autograder Test Cell\n",
    "# pred_test1\n",
    "\n",
    "### BEGIN HIDDEN TESTS\n",
    "assert pred_test1()\n",
    "### END HIDDEN TESTS"
   ]
  },
  {
   "cell_type": "code",
   "execution_count": 30,
   "metadata": {
    "nbgrader": {
     "grade": false,
     "grade_id": "cell-417e1e3e38fed894",
     "locked": true,
     "schema_version": 1,
     "solution": false
    }
   },
   "outputs": [
    {
     "name": "stdout",
     "output_type": "stream",
     "text": [
      "Accuracy of the model: 98.2%\n"
     ]
    }
   ],
   "source": [
    "# the following code will yse your pred function and evaluate the whole test set and print your model's accuracy\n",
    "\n",
    "total = 0.0\n",
    "correct = 0.0\n",
    "model.eval()\n",
    "with torch.no_grad():\n",
    "    for X, y in testloader:\n",
    "        X, y = X.cuda(), y.cuda()\n",
    "        logits = model(X)\n",
    "        \n",
    "        prediction = pred(logits) \n",
    "        total += X.size(0)\n",
    "        correct += (prediction == y).sum().item()\n",
    "\n",
    "print('Accuracy of the model: {:.4}%'.format(correct / total * 100))"
   ]
  },
  {
   "cell_type": "code",
   "execution_count": 32,
   "metadata": {
    "scrolled": true
   },
   "outputs": [
    {
     "name": "stdout",
     "output_type": "stream",
     "text": [
      "Prediction:  [9, 9, 9, 4, 2]\n"
     ]
    },
    {
     "data": {
      "image/png": "[encoded data removed]",
      "text/plain": [
       "<Figure size 432x288 with 1 Axes>"
      ]
     },
     "metadata": {
      "needs_background": "light"
     },
     "output_type": "display_data"
    }
   ],
   "source": [
    "# Visualize some of the test images \n",
    "# and see their prediction\n",
    "\n",
    "test_iterator = iter(testloader)\n",
    "X_test, y_test = test_iterator.next()\n",
    "X_test, y_test = X_test[:5], y_test[:5]\n",
    "visualize_data(X_test)\n",
    "model.eval()\n",
    "with torch.no_grad():\n",
    "    logits = model(X_test.cuda())\n",
    "    prediction = pred(logits)\n",
    "print(\"Prediction: \", prediction.tolist())"
   ]
  },
  {
   "cell_type": "code",
   "execution_count": null,
   "metadata": {},
   "outputs": [],
   "source": []
  }
 ],
 "metadata": {
  "celltoolbar": "Create Assignment",
  "kernelspec": {
   "display_name": "Python 3",
   "language": "python",
   "name": "python3"
  },
  "language_info": {
   "codemirror_mode": {
    "name": "ipython",
    "version": 3
   },
   "file_extension": ".py",
   "mimetype": "text/x-python",
   "name": "python",
   "nbconvert_exporter": "python",
   "pygments_lexer": "ipython3",
   "version": "3.7.3"
  }
 },
 "nbformat": 4,
 "nbformat_minor": 2
}
