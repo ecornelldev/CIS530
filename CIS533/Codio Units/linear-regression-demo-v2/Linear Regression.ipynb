{
 "cells": [
  {
   "cell_type": "markdown",
   "metadata": {},
   "source": [
    "# In this demo, you will see how use the closed form solution to find the optimal solution for linear regression.\n",
    "\n",
    "## Import Packages"
   ]
  },
  {
   "cell_type": "code",
   "execution_count": 1,
   "metadata": {
    "colab": {},
    "colab_type": "code",
    "id": "dTl9qteEt-oT"
   },
   "outputs": [],
   "source": [
    "import numpy as np\n",
    "from pylab import *\n",
    "import matplotlib.pyplot as plt\n",
    "%matplotlib inline "
   ]
  },
  {
   "cell_type": "markdown",
   "metadata": {},
   "source": [
    "## Generate Data\n",
    "We are going to generate data by $$y = 3x + 4 + \\epsilon$$ where $$\\epsilon \\sim N(0, 0.01)$$"
   ]
  },
  {
   "cell_type": "code",
   "execution_count": 21,
   "metadata": {
    "colab": {},
    "colab_type": "code",
    "id": "58m3x8wgt-oX"
   },
   "outputs": [],
   "source": [
    "N = 40 # \n",
    "X = np.random.rand(N,1) # Sample N points randomly along X-axis\n",
    "X=np.hstack((X,np.ones((N,1))))  # Add a constant dimension\n",
    "w = np.array([3, 4]) # defining a linear function \n",
    "y = X@w + np.random.randn(N) * 0.1 # defining labels"
   ]
  },
  {
   "cell_type": "markdown",
   "metadata": {},
   "source": [
    "## Visualize the Data\n",
    "Now, we are going to visualize our data and we would our data to roughly lie on a line"
   ]
  },
  {
   "cell_type": "code",
   "execution_count": 22,
   "metadata": {},
   "outputs": [
    {
     "data": {
      "text/plain": [
       "[<matplotlib.lines.Line2D at 0x7fe2609c8eb8>]"
      ]
     },
     "execution_count": 22,
     "metadata": {},
     "output_type": "execute_result"
    },
    {
     "data": {
      "image/png": "[encoded data removed]",
      "text/plain": [
       "<Figure size 432x288 with 1 Axes>"
      ]
     },
     "metadata": {},
     "output_type": "display_data"
    }
   ],
   "source": [
    "plt.plot(X[:, 0],y,\".\")"
   ]
  },
  {
   "cell_type": "markdown",
   "metadata": {},
   "source": [
    "## Learning Using Closed Form Solution\n",
    "#### Recall the closed form solution: \n",
    "$$\\mathbf{w} = (\\mathbf{X}^T\\mathbf{X})^{-1}\\mathbf{X}^T\\mathbf{y}$$"
   ]
  },
  {
   "cell_type": "code",
   "execution_count": 36,
   "metadata": {},
   "outputs": [],
   "source": [
    "w_closed = np.linalg.inv(X.T@X)@X.T@y"
   ]
  },
  {
   "cell_type": "markdown",
   "metadata": {},
   "source": [
    "## Visualize The Closed Form Solution"
   ]
  },
  {
   "cell_type": "code",
   "execution_count": 40,
   "metadata": {},
   "outputs": [
    {
     "data": {
      "text/plain": [
       "[<matplotlib.lines.Line2D at 0x7fe23077bf98>]"
      ]
     },
     "execution_count": 40,
     "metadata": {},
     "output_type": "execute_result"
    },
    {
     "data": {
      "image/png": "[encoded data removed]",
      "text/plain": [
       "<Figure size 432x288 with 1 Axes>"
      ]
     },
     "metadata": {},
     "output_type": "display_data"
    }
   ],
   "source": [
    "plt.plot(X[:, 0],y,\".\") # plot the points\n",
    "z=np.array([[0,1],      # define two points with X-value 0 and 1 (and constant dimension)\n",
    "            [1,1]])\n",
    "plt.plot(z[:,0], z@w_closed, 'r') # draw line w_closed through these two points"
   ]
  },
  {
   "cell_type": "markdown",
   "metadata": {},
   "source": [
    "<h2>(Optional) Pro-Tip</h2>\n",
    "\n",
    "<p>Computing matrix inverses can be numerically unstable and slow. Instead, one can use the <a href=\"https://docs.scipy.org/doc/numpy/reference/generated/numpy.linalg.solve.html\">Numpy linear matrix solver</a> to solve the following linear system:\n",
    "$$(\\mathbf{X}^T\\mathbf{X})\\mathbf{w} = \\mathbf{X}^T\\mathbf{y}$$\n",
    "The solution is the same, but it is typically faster and more stable in case $(\\mathbf{X}^T\\mathbf{X})$ is not invertible.</p>"
   ]
  },
  {
   "cell_type": "code",
   "execution_count": 39,
   "metadata": {},
   "outputs": [],
   "source": [
    "w_closed = np.linalg.solve(X.T@X,X.T@y)"
   ]
  }
 ],
 "metadata": {
  "colab": {
   "name": "Linear Regression.ipynb",
   "provenance": [],
   "version": "0.3.2"
  },
  "kernelspec": {
   "display_name": "Python 3",
   "language": "python",
   "name": "python3"
  },
  "language_info": {
   "codemirror_mode": {
    "name": "ipython",
    "version": 3
   },
   "file_extension": ".py",
   "mimetype": "text/x-python",
   "name": "python",
   "nbconvert_exporter": "python",
   "pygments_lexer": "ipython3",
   "version": "3.6.5"
  }
 },
 "nbformat": 4,
 "nbformat_minor": 1
}
