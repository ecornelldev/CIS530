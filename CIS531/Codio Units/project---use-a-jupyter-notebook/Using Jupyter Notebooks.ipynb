{
 "cells": [
  {
   "cell_type": "markdown",
   "metadata": {
    "nbgrader": {
     "grade": false,
     "grade_id": "cell-c5b84e40197ee3db",
     "locked": true,
     "schema_version": 1,
     "solution": false
    }
   },
   "source": [
    "<h2>About this Project</h2>\n",
    "<p>In this project, you will explore a Jupyter notebook, which you will work with in this and future courses. Below, you will find a series of simple exercises to help introduce you to the functionality of a notebook. There is a pop-out drawer to the right of this window which, when clicked, will reveal a guide that covers the basics of using a Jupyter notebook. This guide will be present in any exercise or project that contains a Jupyter notebook. You will also notice a full screen toggle button in the bottom-right corner of this window.</p>\n",
    "\n",
    "<h3>Evaluation</h3>\n",
    "\n",
    "<p><strong>This project must be successfully completed and submitted in order to receive credit for this course. Your score on this project will be included in your final grade calculation.</strong><p>\n",
    "    \n",
    "<p>You are expected to write code where you see <em># YOUR CODE HERE</em> within the cells of this notebook. Not all cells will be graded; code input cells followed by cells marked with <em>#Autograder test cell</em> will be graded. Upon submitting your work, the code you write at these designated positions will be assessed using an \"autograder\" that will run all test cells to assess your code. You will receive feedback from the autograder that will identify any errors in your code. Use this feedback to improve your code if you need to resubmit. Be sure not to change the names of any provided functions, classes, or variables within the existing code cells, as this will interfere with the autograder. Also, remember to execute all code cells sequentially, not just those you’ve edited, to ensure your code runs properly.</p>\n",
    "    \n",
    "<p>You can resubmit your work as many times as necessary before the submission deadline. If you experience difficulty or have questions about this exercise, use the Q&A discussion board to engage with your peers or seek assistance from the instructor.<p>\n",
    "\n",
    "<p>Before starting your work, please review <a href=\"https://s3.amazonaws.com/ecornell/global/eCornellPlagiarismPolicy.pdf\">eCornell's policy regarding plagiarism</a> (the presentation of someone else's work as your own without source credit).</p>\n",
    "\n",
    "<h3>Submit Code for Autograder Feedback</h3>\n",
    "\n",
    "<p>Once you have completed your work on this notebook, you will submit your code for autograder review. Follow these steps:</p>\n",
    "\n",
    "<ol>\n",
    "  <li><strong>Save your notebook.</strong></li>\n",
    "  <li><strong>Mark as Completed —</strong> In the blue menu bar along the top of this code exercise window, you’ll see a menu item called <strong>Education</strong>. In the <strong>Education</strong> menu, click <strong>Mark as Completed</strong> to submit your code for autograder/instructor review. This process will take a moment and a progress bar will show you the status of your submission.</li>\n",
    "\t<li><strong>Review your results —</strong> Once your work is marked as complete, the results of the autograder will automatically be presented in a new tab within the code exercise window. You can click on the assessment name in this feedback window to see more details regarding specific feedback/errors in your code submission.</li>\n",
    "  <li><strong>Repeat, if necessary —</strong> The Jupyter notebook will always remain accessible in the first tabbed window of the exercise. To reattempt the work, you will first need to click <strong>Mark as Uncompleted</strong> in the <strong>Education</strong> menu and then proceed to make edits to the notebook. Once you are ready to resubmit, follow steps one through three. You can repeat this procedure as many times as necessary.</li>\n",
    "</ol>"
   ]
  },
  {
   "cell_type": "markdown",
   "metadata": {
    "nbgrader": {
     "grade": false,
     "grade_id": "cell-7d28678086c8e6d8",
     "locked": true,
     "schema_version": 1,
     "solution": false
    }
   },
   "source": [
    "<h2>The Structure of Jupyter Notebooks</h2>\n",
    "    <p>Each body of text or code in a Jupyter notebook is called a cell. A cell has three types: code, markdown, and raw text. </p>\n",
    "\n",
    "<p>To add a cell, simply select an existing cell (new notebooks are initialized with one), and press the 'a' key to add a new cell above, or the 'b' key to add a new cell below the selected cell. Alternatively, open the <strong>Insert</strong> menu and choose <strong>Insert Cell Below</strong> or <strong>Insert Cell Above</strong>.</p>\n",
    "\n",
    "<h3>Exercise #1</h3>\n",
    "\n",
    "<p>Insert a cell below this one. Change it to a markdown cell by opening the <strong>Cell</strong> menu and selecting <strong>Cell Type > Markdown</strong>. Add some text and then finalize the cell by pressing the shift and enter key or by clicking <strong>Run</strong> in the menu bar at the top of the notebook.</p>"
   ]
  },
  {
   "cell_type": "markdown",
   "metadata": {
    "nbgrader": {
     "grade": false,
     "grade_id": "cell-1dcd31ce6a5f5ddc",
     "locked": true,
     "schema_version": 1,
     "solution": false
    }
   },
   "source": [
    "\n",
    "<h2>Running Code</h2>\n",
    "<p>To execute Python in a cell, the cell type must be set to code. Upon executing a cell (either by pressing shift and enter or clicking <strong>Run</strong> in the menu bar) the output of the code, if any, will appear below the cell containing the code.</p>\n",
    "\n",
    "<h3>Exercise #2</h3>\n",
    "\n",
    "<p> Select the cell below and change the type of cell to <strong>code</strong>. Then type a print statement and execute the cell. You should see your print statement output below the cell.</p>\n"
   ]
  },
  {
   "cell_type": "raw",
   "metadata": {},
   "source": [
    "# YOUR CODE HERE"
   ]
  },
  {
   "cell_type": "markdown",
   "metadata": {
    "nbgrader": {
     "grade": false,
     "grade_id": "cell-0d05ce180e151ac0",
     "locked": true,
     "schema_version": 1,
     "solution": false
    }
   },
   "source": [
    "<p> To clear the output, open the <strong>Kernel</strong> menu and select <strong>Restart & Clear Output</strong>. This not only clears all output from executed code, but also restarts the kernel, so any set variables or any other persistent action from previously executed code will be lost. This is because code in subsequent cells share a kernel, which allows you to organize and execute code in a piece-wise manner.</p>"
   ]
  },
  {
   "cell_type": "markdown",
   "metadata": {
    "nbgrader": {
     "grade": false,
     "grade_id": "cell-2897afff1c9b142d",
     "locked": true,
     "schema_version": 1,
     "solution": false
    }
   },
   "source": [
    "<h2>Autograder Functionality</h2>\n",
    "<h3>Exercise #3 [Graded]</h3>\n",
    "\n",
    "<p>Below this markdown cell are four code cells.</p>\n",
    "\n",
    "<ol>    \n",
    "<li>The first cell is a read-only cell that you must execute to set the variables. You will <strong>not</strong> be able to edit the content of this cell, though you will need to run it in order to successfully complete the exercise.</li>\n",
    "\n",
    "<li>In the second cell, you will write some code. Replace \"# YOUR CODE HERE\" with the expression <code>z = x + y</code>. Remove the line containing the <code>NotImplementedError()</code>.</li>\n",
    "\n",
    "<li>The third cell contains a self-test that you can run to check and debug your code.</li>\n",
    "\n",
    "<li>The fourth cell contains an autograde test, which will score your code based on whether it passes or fails the test. The test in this cell is the exact same test you see in the self-test cell, though the actual test is hidden in an autograde test cell. Each autograde test cell will contain a single test and will be worth one point.</li>\n",
    "\n",
    "</ol>\n",
    "    \n",
    "<p>Run each cell below, either one at a time (in sequenctial order) or all at once using commands in the <strong>Cell</strong> menu above. You can also press shift and enter to run the currently selected cell.</p>\n",
    "\n",
    "<p><i>Note that the bracket to the left of each code cell indicates the order in which cells are executed. If cells are not all executed in the correct sequence, it will likely cause your code to fail.</i></p>\n"
   ]
  },
  {
   "cell_type": "code",
   "execution_count": null,
   "metadata": {
    "nbgrader": {
     "grade": false,
     "grade_id": "cell-set_xy",
     "locked": true,
     "schema_version": 1,
     "solution": false
    }
   },
   "outputs": [],
   "source": [
    "x = 2\n",
    "y = 2"
   ]
  },
  {
   "cell_type": "code",
   "execution_count": null,
   "metadata": {
    "nbgrader": {
     "grade": false,
     "grade_id": "cell-expression",
     "locked": false,
     "schema_version": 1,
     "solution": true
    }
   },
   "outputs": [],
   "source": [
    "# Assign a new variable \"z\" that is equal to the sum of the expression x + y.\n",
    "\n",
    "### BEGIN SOLUTION\n",
    "z = x + y\n",
    "### END SOLUTION"
   ]
  },
  {
   "cell_type": "code",
   "execution_count": null,
   "metadata": {
    "nbgrader": {
     "grade": false,
     "grade_id": "cell-expression_selftest",
     "locked": true,
     "schema_version": 1,
     "solution": false
    }
   },
   "outputs": [],
   "source": [
    "# Run this self-test cell to check your code\n",
    "\n",
    "assert z == 4, \"Your variable z should be equal to x plus y. Try again.\""
   ]
  },
  {
   "cell_type": "code",
   "execution_count": null,
   "metadata": {
    "nbgrader": {
     "grade": true,
     "grade_id": "cell-expression_test",
     "locked": true,
     "points": 1,
     "schema_version": 1,
     "solution": false
    }
   },
   "outputs": [],
   "source": [
    "# Autograder test cell - worth 1 Point\n",
    "# runs test to ensure your expression was written correctly\n",
    "### BEGIN HIDDEN TESTS\n",
    "assert z == 4\n",
    "### END HIDDEN TESTS"
   ]
  },
  {
   "cell_type": "markdown",
   "metadata": {
    "nbgrader": {
     "grade": false,
     "grade_id": "cell-ff3dc5fb49fa73b3",
     "locked": true,
     "schema_version": 1,
     "solution": false
    }
   },
   "source": [
    "<h3>Exercise #4 [Graded]</h3>\n",
    "\n",
    "<p>In the cell below, write a short program to <code>import numpy as np</code>, initialize a random 3x3 matrix named <code>X</code> using <code>np.random.rand()</code>, and print the matrix. Once you've completed this exercise, don't forget to save your notebook and submit for grading.</p>"
   ]
  },
  {
   "cell_type": "code",
   "execution_count": null,
   "metadata": {
    "nbgrader": {
     "grade": false,
     "grade_id": "cell-matrix",
     "locked": false,
     "schema_version": 1,
     "solution": true
    }
   },
   "outputs": [],
   "source": [
    "### BEGIN SOLUTION\n",
    "import numpy as np\n",
    "X = np.random.rand(3, 3)\n",
    "print(X)\n",
    "###END SOLUTION"
   ]
  },
  {
   "cell_type": "code",
   "execution_count": null,
   "metadata": {
    "nbgrader": {
     "grade": false,
     "grade_id": "cell-matrix_selftest",
     "locked": true,
     "schema_version": 1,
     "solution": false
    }
   },
   "outputs": [],
   "source": [
    "# Run this self-test cell to check your code\n",
    "\n",
    "assert X.shape == (3,3), \"Your print statement should output a 3x3 matrix named 'X'.\""
   ]
  },
  {
   "cell_type": "code",
   "execution_count": null,
   "metadata": {
    "nbgrader": {
     "grade": true,
     "grade_id": "cell-matrix_test",
     "locked": true,
     "points": 1,
     "schema_version": 1,
     "solution": false
    }
   },
   "outputs": [],
   "source": [
    "# Autograder test cell - worth 1 Point\n",
    "# runs test to ensure your matrix was created properly\n",
    "### BEGIN HIDDEN TESTS\n",
    "assert X.shape == (3,3)\n",
    "### END HIDDEN TESTS"
   ]
  },
  {
   "cell_type": "markdown",
   "metadata": {
    "nbgrader": {
     "grade": false,
     "grade_id": "cell-7e0ea80a8ec71062",
     "locked": true,
     "schema_version": 1,
     "solution": false
    }
   },
   "source": [
    "<i> For more keyboard shortcuts and extended Jupyter notebook techniques, see [here](http://maxmelnick.com/2016/04/19/python-beginner-tips-and-tricks.html)</i>"
   ]
  }
 ],
 "metadata": {
  "anaconda-cloud": {},
  "celltoolbar": "Create Assignment",
  "kernelspec": {
   "display_name": "Python 3",
   "language": "python",
   "name": "python3"
  },
  "language_info": {
   "codemirror_mode": {
    "name": "ipython",
    "version": 3
   },
   "file_extension": ".py",
   "mimetype": "text/x-python",
   "name": "python",
   "nbconvert_exporter": "python",
   "pygments_lexer": "ipython3",
   "version": "3.6.7"
  }
 },
 "nbformat": 4,
 "nbformat_minor": 1
}
