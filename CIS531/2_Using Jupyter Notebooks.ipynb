{
 "cells": [
  {
   "cell_type": "markdown",
   "metadata": {
    "nbgrader": {
     "grade": false,
     "grade_id": "cell-c5b84e40197ee3db",
     "locked": true,
     "schema_version": 1,
     "solution": false
    }
   },
   "source": [
    "<h2>About this Project</h2>\n",
    "<p>In this project, you will explore the basic functions of a Jupyter notebook. Below, you will find a series of simple exercises that will introduce you to Jupyter notebooks, which will be used in this and future courses. There is a pop-out drawer to the right of this window which, when clicked, will reveal a guide that covers the basics of using a Jupyter notebook. This guide will be present in any exercise or project that contains a Jupyter notebook. You will also notice a full screen toggle button in the bottom-right corner of this window.</p>\n",
    "\n",
    "<h3>Evaluation</h3>\n",
    "\n",
    "<p><strong>This project must be successfully completed in order to receive credit for this course. Your score on this project will be included in your final grade calculation.</strong><p>\n",
    "    \n",
    "<p>You are expected to write code where you see <em># YOUR CODE HERE</em> within the cells of this notebook. Not all cells will be graded. Only those followed by cells marked with <em>#Autograde cell - do not edit</em> will be graded. Upon submitting your work, the code you write at these designated positions will be assessed using an \"autograder\" that will run a series of tests on your code. You will receive instant feedback from the autograder that will identify issues with and errors in your code. Use this feedback to improve your code if you need to resubmit. Be sure not to change the names of any provided functions, classes, or variables within the existing code cells, as this will interfere with the autograder. Also, remember to execute all code cells, not just those you’ve edited, to ensure the code runs properly.</p>\n",
    "    \n",
    "<p>You can resubmit your work as many times as necessary before the submission deadline. If you experience difficulty or have questions about this exercise, use the Q&A discussion board to engage with your peers or seek assistance from the instructor.<p>\n",
    "\n",
    "<p>Before starting your work, please review <a href=\"https://s3.amazonaws.com/ecornell/global/eCornellPlagiarismPolicy.pdf\">eCornell's policy regarding plagiarism</a> (the presentation of someone else's work as your own without source credit).</p>\n",
    "\n",
    "<h3>Submit Code for Autograder Feedback</h3>\n",
    "\n",
    "<p>Once you have completed your work on this notebook, you will submit your code for autograder review. Follow these steps:</p>\n",
    "\n",
    "<ol>\n",
    "  <li><strong>Save your notebook.</strong></li>\n",
    "  <li><strong>Mark as Completed —</strong> In the blue menu bar along the top of this code exercise window, you’ll see a menu item called <strong>Education</strong>. In the <strong>Education</strong> menu, click <strong>Mark as Completed</strong> to submit your code for autograder/instructor review. This process will take a moment and a progress bar will show you the status of your submission.</li>\n",
    "\t<li><strong>Review your results —</strong> Once your work is marked as complete, the results of the autograder will automatically be presented in a new tab within the code exercise window. You can click on the assessment name in this feedback window to see more details regarding specific feedback/errors in your code submission.</li>\n",
    "  <li><strong>Repeat, if necessary —</strong> The Jupyter notebook will always remain accessible in the first tabbed window of the exercise. To reattempt the work, you will first need to click <strong>Mark as Uncompleted</strong> in the <strong>Education</strong> menu and then proceed to make edits to the notebook. Once you are ready to resubmit, follow steps one through three. You can repeat this procedure as many times as necessary.</li>\n",
    "</ol>"
   ]
  },
  {
   "cell_type": "markdown",
   "metadata": {
    "nbgrader": {
     "grade": false,
     "grade_id": "cell-7d28678086c8e6d8",
     "locked": true,
     "schema_version": 1,
     "solution": false
    }
   },
   "source": [
    "<h2>The Structure of Jupyter Notebooks</h2>\n",
    "    <p>Each body of text or code in a Jupyter notebook is called a cell. A cell has three types: code, markdown, and raw text. </p>\n",
    "\n",
    "<p>To add a cell, simply select an existing cell (new notebooks are initialized with one), and press the 'a' key to add a new cell above, or the 'b' key to add a new cell below the selected cell. Alternatively, open the <strong>Insert</strong> menu and choose <strong>Insert Cell Below</strong> or <strong>Insert Cell Above</strong>.</p>\n",
    "\n",
    "<h3>Exercise #1</h3>\n",
    "\n",
    "<p>Insert a cell below this one. Change it to a markdown cell by opening the <strong>Cell</strong> menu and selecting <strong>Cell Type > Markdown</strong>. Add some text, then press the shift and enter key, or click <strong>Run</strong> in the menu bar at the top of the notebook to finalize the cell.</p>"
   ]
  },
  {
   "cell_type": "markdown",
   "metadata": {
    "nbgrader": {
     "grade": false,
     "grade_id": "cell-1dcd31ce6a5f5ddc",
     "locked": true,
     "schema_version": 1,
     "solution": false
    }
   },
   "source": [
    "\n",
    "<h2>Running Code</h2>\n",
    "<p>To execute Python in a cell, the cell type must be set to code. Upon executing it (either by pressing shift and enter or clicking <strong>Run</strong> in the menu bar) the output of the code, if any, will appear below the cell containing the code.</p>\n",
    "\n",
    "<h3>Exercise #2</h3>\n",
    "\n",
    "<p> Change the cell type in the cell below to <strong>code</strong>, type a print statement, then execute the cell.</p>\n"
   ]
  },
  {
   "cell_type": "raw",
   "metadata": {},
   "source": [
    "# YOUR CODE HERE"
   ]
  },
  {
   "cell_type": "markdown",
   "metadata": {
    "nbgrader": {
     "grade": false,
     "grade_id": "cell-0d05ce180e151ac0",
     "locked": true,
     "schema_version": 1,
     "solution": false
    }
   },
   "source": [
    "<p> To clear the output, open the <strong>Kernel</strong> menu and select <strong>Restart & Clear Output</strong>. This not only clears all output from executed code, but also restarts the kernel, so any set variables or any other persistent action from previously executed code will be lost. This is because code in subsequent cells share a kernel, which lets the user organize and execute code in a piece-wise manner.</p>"
   ]
  },
  {
   "cell_type": "markdown",
   "metadata": {
    "nbgrader": {
     "grade": false,
     "grade_id": "cell-2897afff1c9b142d",
     "locked": true,
     "schema_version": 1,
     "solution": false
    }
   },
   "source": [
    "<h2>Autograder Functionality</h2>\n",
    "<h3>Exercise #3 [Graded]</h3>\n",
    "\n",
    "<p>In the cell below, replace # YOUR CODE HERE with the expression <code>x + y</code> and assign the sum to a new variable <code>z</code>. Remove the line containing the <code>NotImplementedError()</code>. Run each cell below one by one (in sequenctial order) or run all cells by opening the <strong>Cell</strong> menu and selecting <strong>Run Cells</strong>. You may notice that an autograde cell follows your code input cell, since your work will be tested by the autograder upon submission.</p>\n",
    "\n",
    "<i> Note that the bracket to the left of each code cell indicates the order in which cells are executed. If cells are not all executed in the correct sequence, it will likely cause your code to fail.</i>\n"
   ]
  },
  {
   "cell_type": "code",
   "execution_count": 1,
   "metadata": {
    "nbgrader": {
     "grade": false,
     "grade_id": "cell-a60321c5b9a33ab6",
     "locked": true,
     "schema_version": 1,
     "solution": false
    }
   },
   "outputs": [],
   "source": [
    "x = 2"
   ]
  },
  {
   "cell_type": "code",
   "execution_count": 2,
   "metadata": {
    "nbgrader": {
     "grade": false,
     "grade_id": "cell-5c2070d728d9ee50",
     "locked": true,
     "schema_version": 1,
     "solution": false
    }
   },
   "outputs": [],
   "source": [
    "y = 2"
   ]
  },
  {
   "cell_type": "code",
   "execution_count": null,
   "metadata": {
    "nbgrader": {
     "grade": false,
     "grade_id": "cell-709808d8a10701dc",
     "locked": false,
     "schema_version": 1,
     "solution": true
    }
   },
   "outputs": [],
   "source": [
    "# Assign a new variable \"z\" that is equal to the sum of the expression x + y.\n",
    "\n",
    "### BEGIN SOLUTION\n",
    "z = x + y\n",
    "### END SOLUTION"
   ]
  },
  {
   "cell_type": "code",
   "execution_count": null,
   "metadata": {
    "nbgrader": {
     "grade": true,
     "grade_id": "cell-f09da94786266a5e",
     "locked": true,
     "points": 1,
     "schema_version": 1,
     "solution": false
    }
   },
   "outputs": [],
   "source": [
    "### BEGIN HIDDEN TESTS\n",
    "assert z == 4\n",
    "### END HIDDEN TESTS\n",
    "#Autograde cell - do not edit"
   ]
  },
  {
   "cell_type": "markdown",
   "metadata": {
    "nbgrader": {
     "grade": false,
     "grade_id": "cell-ff3dc5fb49fa73b3",
     "locked": true,
     "schema_version": 1,
     "solution": false
    }
   },
   "source": [
    "<h3>Exercise #4 [Graded]</h3>\n",
    "\n",
    "<p>In the cell below, write a short program that imports NumPy as \"np\", initializes a random 3x3 matrix using <code>np.random.random()</code>, and finally prints the matrix. Your work will be tested by the autograder upon submission.</p>\n"
   ]
  },
  {
   "cell_type": "code",
   "execution_count": 2,
   "metadata": {
    "nbgrader": {
     "grade": false,
     "grade_id": "cell-b7ef97a524f49486",
     "locked": false,
     "schema_version": 1,
     "solution": true
    }
   },
   "outputs": [],
   "source": [
    "### BEGIN SOLUTION\n",
    "import numpy as np\n",
    "X = np.random.rand(3, 3)\n",
    "print(X)\n",
    "###END SOLUTION"
   ]
  },
  {
   "cell_type": "code",
   "execution_count": null,
   "metadata": {
    "nbgrader": {
     "grade": true,
     "grade_id": "cell-f825696cc144e1b7",
     "locked": true,
     "points": 1,
     "schema_version": 1,
     "solution": false
    }
   },
   "outputs": [],
   "source": [
    "### BEGIN HIDDEN TESTS\n",
    "assert X.shape == (3,3)\n",
    "### END HIDDEN TESTS\n",
    "#Autograde cell - do not edit"
   ]
  },
  {
   "cell_type": "markdown",
   "metadata": {
    "nbgrader": {
     "grade": false,
     "grade_id": "cell-7e0ea80a8ec71062",
     "locked": true,
     "schema_version": 1,
     "solution": false
    }
   },
   "source": [
    "<i> For more keyboard shortcuts and extended Jupyter notebook techniques, see [here](http://maxmelnick.com/2016/04/19/python-beginner-tips-and-tricks.html)</i>"
   ]
  }
 ],
 "metadata": {
  "anaconda-cloud": {},
  "celltoolbar": "Create Assignment",
  "kernelspec": {
   "display_name": "Python 3",
   "language": "python",
   "name": "python3"
  },
  "language_info": {
   "codemirror_mode": {
    "name": "ipython",
    "version": 3
   },
   "file_extension": ".py",
   "mimetype": "text/x-python",
   "name": "python",
   "nbconvert_exporter": "python",
   "pygments_lexer": "ipython3",
   "version": "3.4.3"
  }
 },
 "nbformat": 4,
 "nbformat_minor": 1
}
