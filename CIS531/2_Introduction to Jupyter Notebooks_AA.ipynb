{
 "cells": [
  {
   "cell_type": "markdown",
   "metadata": {},
   "source": [
    "<h1>Introduction to Jupyter Notebooks</h1>\n",
    "<p>This notebook provides examples of the basic functionality of Jupyter notebooks.</p>\n"
   ]
  },
  {
   "cell_type": "markdown",
   "metadata": {},
   "source": [
    "<h2>The Structure of Jupyter Notebooks</h2>\n",
    "    <p>Each body of text or code in a Jupyter notebook is called a cell. A cell has three types: code, markdown, and raw text. </p>\n",
    "\n",
    "<p> To add a cell, simply select an existing cell (new notebooks are initialized with one), and press the 'a' key to add a new cell above, or the 'b' key to add a new cell below the selected cell. Alternatively, select Insert in the top menu, and choose \"Insert Cell Below\" or \"Insert Cell Above.\"</p>\n",
    "\n",
    "<h3>Exercise #1</h3>\n",
    "\n",
    "<b> Insert a cell below this one. Change it to a markdown cell by selecting Cell->Cell Type->Markdown in the menu. Add some text, then click the shift key with the enter key, or click run in the menu bar at the top of the notebook to finalize the cell.</b>\n",
    "\n",
    "\n",
    "\n"
   ]
  },
  {
   "cell_type": "markdown",
   "metadata": {},
   "source": [
    "\n",
    "<h2>Running Code</h2>\n",
    "<p>To execute Python in a cell, the cell type must be set to code. Upon executing it (either by clicking shift-enter or selecting 'Run' in the menu bar) the output of the code, if any, will appear below the cell containing the code. </p>\n",
    "\n",
    "<h3>Exercise #2</h3>\n",
    "\n",
    "<b> Change the cell type in the below cell to code, type a print statement, then execute the cell.</b>\n"
   ]
  },
  {
   "cell_type": "raw",
   "metadata": {},
   "source": [
    "# code goes here"
   ]
  },
  {
   "cell_type": "markdown",
   "metadata": {},
   "source": [
    "<p> To clear the output, in the menu bar select Kernel->Restart & Clear Output. This not only clears all output from executed code, but also restarts the kernel, so any set variables or any other persistent action from previously executed code will be lost. This is because code in subsequent cells share a kernel, which lets the user organize and execute code in a piece-wise manner:</p>"
   ]
  },
  {
   "cell_type": "code",
   "execution_count": null,
   "metadata": {},
   "outputs": [],
   "source": [
    "import math"
   ]
  },
  {
   "cell_type": "code",
   "execution_count": null,
   "metadata": {},
   "outputs": [],
   "source": [
    "x = math.sqrt(4)"
   ]
  },
  {
   "cell_type": "code",
   "execution_count": null,
   "metadata": {},
   "outputs": [],
   "source": [
    "print(x)"
   ]
  },
  {
   "cell_type": "markdown",
   "metadata": {},
   "source": [
    "<h3>Exercise #3</h3>\n",
    "\n",
    "<b> Run each cell above one by one or run all cells by selecting Cell->Run Cells in the menu bar.</b>\n",
    "\n",
    "<i> Note that the bracket to the left of each code cell indicates the order in which cells are executed. </i>\n"
   ]
  },
  {
   "cell_type": "markdown",
   "metadata": {},
   "source": [
    "Multiple lines of code can also be fit into a single cell.\n",
    "\n",
    "<h3>Exercise #4</h3>\n",
    "\n",
    "<b> In the cell below, write a short program that takes the variable x from above, squares it, multiplies it by a random integer between 1 and 4, and prints the value.</b>\n"
   ]
  },
  {
   "cell_type": "code",
   "execution_count": 2,
   "metadata": {},
   "outputs": [],
   "source": [
    "# code goes here"
   ]
  },
  {
   "cell_type": "markdown",
   "metadata": {},
   "source": [
    "<i> For more keyboard shortcuts and extended Jupyter notebook techniques, see [here](http://maxmelnick.com/2016/04/19/python-beginner-tips-and-tricks.html)</i>"
   ]
  }
 ],
 "metadata": {
  "anaconda-cloud": {},
  "kernelspec": {
   "display_name": "Python 2",
   "language": "python",
   "name": "python2"
  },
  "language_info": {
   "codemirror_mode": {
    "name": "ipython",
    "version": 2
   },
   "file_extension": ".py",
   "mimetype": "text/x-python",
   "name": "python",
   "nbconvert_exporter": "python",
   "pygments_lexer": "ipython2",
   "version": "2.7.15"
  }
 },
 "nbformat": 4,
 "nbformat_minor": 1
}
